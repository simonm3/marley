{
 "cells": [
  {
   "cell_type": "code",
   "execution_count": 2,
   "metadata": {},
   "outputs": [
    {
     "name": "stderr",
     "output_type": "stream",
     "text": [
      "[cellevents:INFO]:starting (cellevents.py:43, time=Dec-14 18:47)\n"
     ]
    },
    {
     "name": "stdout",
     "output_type": "stream",
     "text": [
      "time: 16.1 ms\n"
     ]
    }
   ],
   "source": [
    "from marley.utils.ipstartup import *\n",
    "from marley import *\n",
    "from marley.tif import getdf\n",
    "from marley.pandas import *\n",
    "import rasterio\n",
    "import plotly.express as px\n",
    "import geopandas as gpd\n",
    "from geopy.distance import EARTH_RADIUS, geodesic\n",
    "from sklearn.cluster import DBSCAN\n",
    "os.chdir(c.localpath)\n",
    "popfile = \"grid3/GRID3_NGA_PopEst_v1_1_mean_float.tif\"\n",
    "lightsfile = \"grid3/lights.tif\"\n",
    "f = rasterio.open(popfile)"
   ]
  },
  {
   "cell_type": "markdown",
   "metadata": {},
   "source": [
    "# archive and todo"
   ]
  },
  {
   "cell_type": "code",
   "execution_count": null,
   "metadata": {},
   "outputs": [],
   "source": [
    "# latlon model. takes 10+ times longer\n",
    "eps = 1.5 / EARTH_RADIUS\n",
    "x = unlit[[\"lat\", \"lon\"]].values\n",
    "m = DBSCAN(eps=eps, min_samples=4000, algorithm='ball_tree', metric='haversine', n_jobs=-1)\n",
    "label = m.fit_predict(np.radians(x), sample_weight=weights)\n",
    "df.label.update(pd.Series(label, index=unlit.index))\n",
    "df.label = df.label.astype(int)"
   ]
  },
  {
   "cell_type": "code",
   "execution_count": 8,
   "metadata": {},
   "outputs": [
    {
     "name": "stderr",
     "output_type": "stream",
     "text": [
      "[cellevents:INFO]:starting (cellevents.py:43, time=Dec-12 17:29)\n"
     ]
    },
    {
     "name": "stdout",
     "output_type": "stream",
     "text": [
      "time: 31.3 s\n"
     ]
    },
    {
     "data": {
      "text/html": [
       "\n",
       "                <audio  controls=\"controls\" autoplay=\"autoplay\">\n",
       "                    <source src=\"data:audio/wav;base64,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\" type=\"audio/wav\" />\n",
       "                    Your browser does not support the audio element.\n",
       "                </audio>\n",
       "              "
      ],
      "text/plain": [
       "<IPython.lib.display.Audio object>"
      ]
     },
     "metadata": {},
     "output_type": "display_data"
    },
    {
     "data": {
      "text/html": [
       "<style>audio{display:none}</style>"
      ],
      "text/plain": [
       "<IPython.core.display.HTML object>"
      ]
     },
     "metadata": {},
     "output_type": "display_data"
    }
   ],
   "source": [
    "# colors for different clusters (now use bounds instead)\n",
    "dfc[\"color\"] = np.random.randint(1,12,len(dfc))\n",
    "# setting unlit first is faster\n",
    "unlit[\"color\"] = unlit.label.map(dfc.color)\n",
    "df[\"label\"] = unlit[\"label\"]\n",
    "df[\"color\"] = unlit[\"color\"]\n",
    "out = df[\"color\"].values.reshape(f.shape).astype(np.int32)\n",
    "profile=rasterio.open(popfile).profile\n",
    "profile[\"dtype\"] = \"int32\"\n",
    "del profile[\"nodata\"]\n",
    "with rasterio.open(\"popcolors.tif\", \"w\", **profile) as f:\n",
    "    f.write(out,1)"
   ]
  },
  {
   "cell_type": "code",
   "execution_count": 257,
   "metadata": {
    "collapsed": true
   },
   "outputs": [
    {
     "name": "stderr",
     "output_type": "stream",
     "text": [
      "[cellevents:INFO]:starting (cellevents.py:43, time=Dec-12 12:25)\n"
     ]
    },
    {
     "data": {
      "application/vnd.jupyter.widget-view+json": {
       "model_id": "bf6ff0da0eb04a67ba19c979a3fddfc5",
       "version_major": 2,
       "version_minor": 0
      },
      "text/plain": [
       "HBox(children=(IntProgress(value=0, max=2147), HTML(value='')))"
      ]
     },
     "metadata": {},
     "output_type": "display_data"
    },
    {
     "ename": "KeyError",
     "evalue": "MemoryError()",
     "output_type": "error",
     "traceback": [
      "\u001b[1;31m---------------------------------------------------------------------------\u001b[0m",
      "\u001b[1;31mMemoryError\u001b[0m                               Traceback (most recent call last)",
      "\u001b[1;32m~\\Anaconda3\\lib\\site-packages\\pandas\\core\\indexing.py\u001b[0m in \u001b[0;36m_getbool_axis\u001b[1;34m(self, key, axis)\u001b[0m\n\u001b[0;32m   1517\u001b[0m         \u001b[1;32mtry\u001b[0m\u001b[1;33m:\u001b[0m\u001b[1;33m\u001b[0m\u001b[1;33m\u001b[0m\u001b[0m\n\u001b[1;32m-> 1518\u001b[1;33m             \u001b[1;32mreturn\u001b[0m \u001b[0mself\u001b[0m\u001b[1;33m.\u001b[0m\u001b[0mobj\u001b[0m\u001b[1;33m.\u001b[0m\u001b[0m_take\u001b[0m\u001b[1;33m(\u001b[0m\u001b[0minds\u001b[0m\u001b[1;33m,\u001b[0m \u001b[0maxis\u001b[0m\u001b[1;33m=\u001b[0m\u001b[0maxis\u001b[0m\u001b[1;33m)\u001b[0m\u001b[1;33m\u001b[0m\u001b[1;33m\u001b[0m\u001b[0m\n\u001b[0m\u001b[0;32m   1519\u001b[0m         \u001b[1;32mexcept\u001b[0m \u001b[0mException\u001b[0m \u001b[1;32mas\u001b[0m \u001b[0mdetail\u001b[0m\u001b[1;33m:\u001b[0m\u001b[1;33m\u001b[0m\u001b[1;33m\u001b[0m\u001b[0m\n",
      "\u001b[1;32m~\\Anaconda3\\lib\\site-packages\\pandas\\core\\series.py\u001b[0m in \u001b[0;36m_take\u001b[1;34m(self, indices, axis, is_copy)\u001b[0m\n\u001b[0;32m   3925\u001b[0m         \u001b[0mindices\u001b[0m \u001b[1;33m=\u001b[0m \u001b[0mensure_platform_int\u001b[0m\u001b[1;33m(\u001b[0m\u001b[0mindices\u001b[0m\u001b[1;33m)\u001b[0m\u001b[1;33m\u001b[0m\u001b[1;33m\u001b[0m\u001b[0m\n\u001b[1;32m-> 3926\u001b[1;33m         \u001b[0mnew_index\u001b[0m \u001b[1;33m=\u001b[0m \u001b[0mself\u001b[0m\u001b[1;33m.\u001b[0m\u001b[0mindex\u001b[0m\u001b[1;33m.\u001b[0m\u001b[0mtake\u001b[0m\u001b[1;33m(\u001b[0m\u001b[0mindices\u001b[0m\u001b[1;33m)\u001b[0m\u001b[1;33m\u001b[0m\u001b[1;33m\u001b[0m\u001b[0m\n\u001b[0m\u001b[0;32m   3927\u001b[0m \u001b[1;33m\u001b[0m\u001b[0m\n",
      "\u001b[1;32m~\\Anaconda3\\lib\\site-packages\\pandas\\core\\indexes\\base.py\u001b[0m in \u001b[0;36mtake\u001b[1;34m(self, indices, axis, allow_fill, fill_value, **kwargs)\u001b[0m\n\u001b[0;32m    798\u001b[0m                 \u001b[1;32mraise\u001b[0m \u001b[0mValueError\u001b[0m\u001b[1;33m(\u001b[0m\u001b[0mmsg\u001b[0m\u001b[1;33m.\u001b[0m\u001b[0mformat\u001b[0m\u001b[1;33m(\u001b[0m\u001b[0mself\u001b[0m\u001b[1;33m.\u001b[0m\u001b[0m__class__\u001b[0m\u001b[1;33m.\u001b[0m\u001b[0m__name__\u001b[0m\u001b[1;33m)\u001b[0m\u001b[1;33m)\u001b[0m\u001b[1;33m\u001b[0m\u001b[1;33m\u001b[0m\u001b[0m\n\u001b[1;32m--> 799\u001b[1;33m             \u001b[0mtaken\u001b[0m \u001b[1;33m=\u001b[0m \u001b[0mself\u001b[0m\u001b[1;33m.\u001b[0m\u001b[0mvalues\u001b[0m\u001b[1;33m.\u001b[0m\u001b[0mtake\u001b[0m\u001b[1;33m(\u001b[0m\u001b[0mindices\u001b[0m\u001b[1;33m)\u001b[0m\u001b[1;33m\u001b[0m\u001b[1;33m\u001b[0m\u001b[0m\n\u001b[0m\u001b[0;32m    800\u001b[0m         \u001b[1;32mreturn\u001b[0m \u001b[0mself\u001b[0m\u001b[1;33m.\u001b[0m\u001b[0m_shallow_copy\u001b[0m\u001b[1;33m(\u001b[0m\u001b[0mtaken\u001b[0m\u001b[1;33m)\u001b[0m\u001b[1;33m\u001b[0m\u001b[1;33m\u001b[0m\u001b[0m\n",
      "\u001b[1;31mMemoryError\u001b[0m: ",
      "\nDuring handling of the above exception, another exception occurred:\n",
      "\u001b[1;31mKeyError\u001b[0m                                  Traceback (most recent call last)",
      "\u001b[1;32m<ipython-input-257-030ada676ed5>\u001b[0m in \u001b[0;36m<module>\u001b[1;34m\u001b[0m\n\u001b[1;32m----> 1\u001b[1;33m \u001b[0munlit\u001b[0m\u001b[1;33m[\u001b[0m\u001b[1;34m\"color\"\u001b[0m\u001b[1;33m]\u001b[0m \u001b[1;33m=\u001b[0m \u001b[0mget_color\u001b[0m\u001b[1;33m(\u001b[0m\u001b[0munlit\u001b[0m\u001b[1;33m,\u001b[0m \u001b[0minplace\u001b[0m\u001b[1;33m=\u001b[0m\u001b[1;32mTrue\u001b[0m\u001b[1;33m)\u001b[0m\u001b[1;33m\u001b[0m\u001b[1;33m\u001b[0m\u001b[0m\n\u001b[0m",
      "\u001b[1;32mc:\\users\\simon\\documents\\py\\live\\renewable\\marley\\marley\\pandas.py\u001b[0m in \u001b[0;36mget_color\u001b[1;34m(df, inplace)\u001b[0m\n\u001b[0;32m    181\u001b[0m \u001b[1;33m\u001b[0m\u001b[0m\n\u001b[0;32m    182\u001b[0m         \u001b[1;31m# set to first unused color\u001b[0m\u001b[1;33m\u001b[0m\u001b[1;33m\u001b[0m\u001b[1;33m\u001b[0m\u001b[0m\n\u001b[1;32m--> 183\u001b[1;33m         \u001b[0mused\u001b[0m \u001b[1;33m=\u001b[0m \u001b[0mpd\u001b[0m\u001b[1;33m.\u001b[0m\u001b[0mconcat\u001b[0m\u001b[1;33m(\u001b[0m\u001b[1;33m[\u001b[0m\u001b[0mdf\u001b[0m\u001b[1;33m.\u001b[0m\u001b[0mloc\u001b[0m\u001b[1;33m[\u001b[0m\u001b[0mdf\u001b[0m\u001b[1;33m.\u001b[0m\u001b[0mrowcol\u001b[0m\u001b[1;33m==\u001b[0m\u001b[0mrowcol\u001b[0m\u001b[1;33m,\u001b[0m \u001b[1;34m\"color\"\u001b[0m\u001b[1;33m]\u001b[0m \u001b[1;32mfor\u001b[0m \u001b[0mrowcol\u001b[0m \u001b[1;32min\u001b[0m \u001b[0madjacent\u001b[0m\u001b[1;33m]\u001b[0m\u001b[1;33m)\u001b[0m\u001b[1;33m\u001b[0m\u001b[1;33m\u001b[0m\u001b[0m\n\u001b[0m\u001b[0;32m    184\u001b[0m         \u001b[0munused\u001b[0m \u001b[1;33m=\u001b[0m \u001b[1;33m(\u001b[0m\u001b[0mset\u001b[0m\u001b[1;33m(\u001b[0m\u001b[0mcolors\u001b[0m\u001b[1;33m)\u001b[0m\u001b[1;33m-\u001b[0m\u001b[0mset\u001b[0m\u001b[1;33m(\u001b[0m\u001b[0mtuple\u001b[0m\u001b[1;33m(\u001b[0m\u001b[0mused\u001b[0m\u001b[1;33m)\u001b[0m\u001b[1;33m)\u001b[0m\u001b[1;33m)\u001b[0m\u001b[1;33m\u001b[0m\u001b[1;33m\u001b[0m\u001b[0m\n\u001b[0;32m    185\u001b[0m         \u001b[0mdf\u001b[0m\u001b[1;33m.\u001b[0m\u001b[0mloc\u001b[0m\u001b[1;33m[\u001b[0m\u001b[0mdf\u001b[0m\u001b[1;33m.\u001b[0m\u001b[0mlabel\u001b[0m\u001b[1;33m==\u001b[0m\u001b[0mn\u001b[0m\u001b[1;33m,\u001b[0m \u001b[1;34m\"color\"\u001b[0m\u001b[1;33m]\u001b[0m \u001b[1;33m=\u001b[0m \u001b[0mlist\u001b[0m\u001b[1;33m(\u001b[0m\u001b[0munused\u001b[0m\u001b[1;33m)\u001b[0m\u001b[1;33m[\u001b[0m\u001b[1;36m0\u001b[0m\u001b[1;33m]\u001b[0m\u001b[1;33m\u001b[0m\u001b[1;33m\u001b[0m\u001b[0m\n",
      "\u001b[1;32mc:\\users\\simon\\documents\\py\\live\\renewable\\marley\\marley\\pandas.py\u001b[0m in \u001b[0;36m<listcomp>\u001b[1;34m(.0)\u001b[0m\n\u001b[0;32m    181\u001b[0m \u001b[1;33m\u001b[0m\u001b[0m\n\u001b[0;32m    182\u001b[0m         \u001b[1;31m# set to first unused color\u001b[0m\u001b[1;33m\u001b[0m\u001b[1;33m\u001b[0m\u001b[1;33m\u001b[0m\u001b[0m\n\u001b[1;32m--> 183\u001b[1;33m         \u001b[0mused\u001b[0m \u001b[1;33m=\u001b[0m \u001b[0mpd\u001b[0m\u001b[1;33m.\u001b[0m\u001b[0mconcat\u001b[0m\u001b[1;33m(\u001b[0m\u001b[1;33m[\u001b[0m\u001b[0mdf\u001b[0m\u001b[1;33m.\u001b[0m\u001b[0mloc\u001b[0m\u001b[1;33m[\u001b[0m\u001b[0mdf\u001b[0m\u001b[1;33m.\u001b[0m\u001b[0mrowcol\u001b[0m\u001b[1;33m==\u001b[0m\u001b[0mrowcol\u001b[0m\u001b[1;33m,\u001b[0m \u001b[1;34m\"color\"\u001b[0m\u001b[1;33m]\u001b[0m \u001b[1;32mfor\u001b[0m \u001b[0mrowcol\u001b[0m \u001b[1;32min\u001b[0m \u001b[0madjacent\u001b[0m\u001b[1;33m]\u001b[0m\u001b[1;33m)\u001b[0m\u001b[1;33m\u001b[0m\u001b[1;33m\u001b[0m\u001b[0m\n\u001b[0m\u001b[0;32m    184\u001b[0m         \u001b[0munused\u001b[0m \u001b[1;33m=\u001b[0m \u001b[1;33m(\u001b[0m\u001b[0mset\u001b[0m\u001b[1;33m(\u001b[0m\u001b[0mcolors\u001b[0m\u001b[1;33m)\u001b[0m\u001b[1;33m-\u001b[0m\u001b[0mset\u001b[0m\u001b[1;33m(\u001b[0m\u001b[0mtuple\u001b[0m\u001b[1;33m(\u001b[0m\u001b[0mused\u001b[0m\u001b[1;33m)\u001b[0m\u001b[1;33m)\u001b[0m\u001b[1;33m)\u001b[0m\u001b[1;33m\u001b[0m\u001b[1;33m\u001b[0m\u001b[0m\n\u001b[0;32m    185\u001b[0m         \u001b[0mdf\u001b[0m\u001b[1;33m.\u001b[0m\u001b[0mloc\u001b[0m\u001b[1;33m[\u001b[0m\u001b[0mdf\u001b[0m\u001b[1;33m.\u001b[0m\u001b[0mlabel\u001b[0m\u001b[1;33m==\u001b[0m\u001b[0mn\u001b[0m\u001b[1;33m,\u001b[0m \u001b[1;34m\"color\"\u001b[0m\u001b[1;33m]\u001b[0m \u001b[1;33m=\u001b[0m \u001b[0mlist\u001b[0m\u001b[1;33m(\u001b[0m\u001b[0munused\u001b[0m\u001b[1;33m)\u001b[0m\u001b[1;33m[\u001b[0m\u001b[1;36m0\u001b[0m\u001b[1;33m]\u001b[0m\u001b[1;33m\u001b[0m\u001b[1;33m\u001b[0m\u001b[0m\n",
      "\u001b[1;32m~\\Anaconda3\\lib\\site-packages\\pandas\\core\\indexing.py\u001b[0m in \u001b[0;36m__getitem__\u001b[1;34m(self, key)\u001b[0m\n\u001b[0;32m   1492\u001b[0m             \u001b[1;32mexcept\u001b[0m \u001b[1;33m(\u001b[0m\u001b[0mKeyError\u001b[0m\u001b[1;33m,\u001b[0m \u001b[0mIndexError\u001b[0m\u001b[1;33m,\u001b[0m \u001b[0mAttributeError\u001b[0m\u001b[1;33m)\u001b[0m\u001b[1;33m:\u001b[0m\u001b[1;33m\u001b[0m\u001b[1;33m\u001b[0m\u001b[0m\n\u001b[0;32m   1493\u001b[0m                 \u001b[1;32mpass\u001b[0m\u001b[1;33m\u001b[0m\u001b[1;33m\u001b[0m\u001b[0m\n\u001b[1;32m-> 1494\u001b[1;33m             \u001b[1;32mreturn\u001b[0m \u001b[0mself\u001b[0m\u001b[1;33m.\u001b[0m\u001b[0m_getitem_tuple\u001b[0m\u001b[1;33m(\u001b[0m\u001b[0mkey\u001b[0m\u001b[1;33m)\u001b[0m\u001b[1;33m\u001b[0m\u001b[1;33m\u001b[0m\u001b[0m\n\u001b[0m\u001b[0;32m   1495\u001b[0m         \u001b[1;32melse\u001b[0m\u001b[1;33m:\u001b[0m\u001b[1;33m\u001b[0m\u001b[1;33m\u001b[0m\u001b[0m\n\u001b[0;32m   1496\u001b[0m             \u001b[1;31m# we by definition only have the 0th axis\u001b[0m\u001b[1;33m\u001b[0m\u001b[1;33m\u001b[0m\u001b[1;33m\u001b[0m\u001b[0m\n",
      "\u001b[1;32m~\\Anaconda3\\lib\\site-packages\\pandas\\core\\indexing.py\u001b[0m in \u001b[0;36m_getitem_tuple\u001b[1;34m(self, tup)\u001b[0m\n\u001b[0;32m    866\u001b[0m     \u001b[1;32mdef\u001b[0m \u001b[0m_getitem_tuple\u001b[0m\u001b[1;33m(\u001b[0m\u001b[0mself\u001b[0m\u001b[1;33m,\u001b[0m \u001b[0mtup\u001b[0m\u001b[1;33m)\u001b[0m\u001b[1;33m:\u001b[0m\u001b[1;33m\u001b[0m\u001b[1;33m\u001b[0m\u001b[0m\n\u001b[0;32m    867\u001b[0m         \u001b[1;32mtry\u001b[0m\u001b[1;33m:\u001b[0m\u001b[1;33m\u001b[0m\u001b[1;33m\u001b[0m\u001b[0m\n\u001b[1;32m--> 868\u001b[1;33m             \u001b[1;32mreturn\u001b[0m \u001b[0mself\u001b[0m\u001b[1;33m.\u001b[0m\u001b[0m_getitem_lowerdim\u001b[0m\u001b[1;33m(\u001b[0m\u001b[0mtup\u001b[0m\u001b[1;33m)\u001b[0m\u001b[1;33m\u001b[0m\u001b[1;33m\u001b[0m\u001b[0m\n\u001b[0m\u001b[0;32m    869\u001b[0m         \u001b[1;32mexcept\u001b[0m \u001b[0mIndexingError\u001b[0m\u001b[1;33m:\u001b[0m\u001b[1;33m\u001b[0m\u001b[1;33m\u001b[0m\u001b[0m\n\u001b[0;32m    870\u001b[0m             \u001b[1;32mpass\u001b[0m\u001b[1;33m\u001b[0m\u001b[1;33m\u001b[0m\u001b[0m\n",
      "\u001b[1;32m~\\Anaconda3\\lib\\site-packages\\pandas\\core\\indexing.py\u001b[0m in \u001b[0;36m_getitem_lowerdim\u001b[1;34m(self, tup)\u001b[0m\n\u001b[0;32m   1015\u001b[0m                     \u001b[1;32mreturn\u001b[0m \u001b[0msection\u001b[0m\u001b[1;33m\u001b[0m\u001b[1;33m\u001b[0m\u001b[0m\n\u001b[0;32m   1016\u001b[0m                 \u001b[1;31m# This is an elided recursive call to iloc/loc/etc'\u001b[0m\u001b[1;33m\u001b[0m\u001b[1;33m\u001b[0m\u001b[1;33m\u001b[0m\u001b[0m\n\u001b[1;32m-> 1017\u001b[1;33m                 \u001b[1;32mreturn\u001b[0m \u001b[0mgetattr\u001b[0m\u001b[1;33m(\u001b[0m\u001b[0msection\u001b[0m\u001b[1;33m,\u001b[0m \u001b[0mself\u001b[0m\u001b[1;33m.\u001b[0m\u001b[0mname\u001b[0m\u001b[1;33m)\u001b[0m\u001b[1;33m[\u001b[0m\u001b[0mnew_key\u001b[0m\u001b[1;33m]\u001b[0m\u001b[1;33m\u001b[0m\u001b[1;33m\u001b[0m\u001b[0m\n\u001b[0m\u001b[0;32m   1018\u001b[0m \u001b[1;33m\u001b[0m\u001b[0m\n\u001b[0;32m   1019\u001b[0m         \u001b[1;32mraise\u001b[0m \u001b[0mIndexingError\u001b[0m\u001b[1;33m(\u001b[0m\u001b[1;34m'not applicable'\u001b[0m\u001b[1;33m)\u001b[0m\u001b[1;33m\u001b[0m\u001b[1;33m\u001b[0m\u001b[0m\n",
      "\u001b[1;32m~\\Anaconda3\\lib\\site-packages\\pandas\\core\\indexing.py\u001b[0m in \u001b[0;36m__getitem__\u001b[1;34m(self, key)\u001b[0m\n\u001b[0;32m   1498\u001b[0m \u001b[1;33m\u001b[0m\u001b[0m\n\u001b[0;32m   1499\u001b[0m             \u001b[0mmaybe_callable\u001b[0m \u001b[1;33m=\u001b[0m \u001b[0mcom\u001b[0m\u001b[1;33m.\u001b[0m\u001b[0mapply_if_callable\u001b[0m\u001b[1;33m(\u001b[0m\u001b[0mkey\u001b[0m\u001b[1;33m,\u001b[0m \u001b[0mself\u001b[0m\u001b[1;33m.\u001b[0m\u001b[0mobj\u001b[0m\u001b[1;33m)\u001b[0m\u001b[1;33m\u001b[0m\u001b[1;33m\u001b[0m\u001b[0m\n\u001b[1;32m-> 1500\u001b[1;33m             \u001b[1;32mreturn\u001b[0m \u001b[0mself\u001b[0m\u001b[1;33m.\u001b[0m\u001b[0m_getitem_axis\u001b[0m\u001b[1;33m(\u001b[0m\u001b[0mmaybe_callable\u001b[0m\u001b[1;33m,\u001b[0m \u001b[0maxis\u001b[0m\u001b[1;33m=\u001b[0m\u001b[0maxis\u001b[0m\u001b[1;33m)\u001b[0m\u001b[1;33m\u001b[0m\u001b[1;33m\u001b[0m\u001b[0m\n\u001b[0m\u001b[0;32m   1501\u001b[0m \u001b[1;33m\u001b[0m\u001b[0m\n\u001b[0;32m   1502\u001b[0m     \u001b[1;32mdef\u001b[0m \u001b[0m_is_scalar_access\u001b[0m\u001b[1;33m(\u001b[0m\u001b[0mself\u001b[0m\u001b[1;33m,\u001b[0m \u001b[0mkey\u001b[0m\u001b[1;33m)\u001b[0m\u001b[1;33m:\u001b[0m\u001b[1;33m\u001b[0m\u001b[1;33m\u001b[0m\u001b[0m\n",
      "\u001b[1;32m~\\Anaconda3\\lib\\site-packages\\pandas\\core\\indexing.py\u001b[0m in \u001b[0;36m_getitem_axis\u001b[1;34m(self, key, axis)\u001b[0m\n\u001b[0;32m   1867\u001b[0m             \u001b[1;32mreturn\u001b[0m \u001b[0mself\u001b[0m\u001b[1;33m.\u001b[0m\u001b[0m_get_slice_axis\u001b[0m\u001b[1;33m(\u001b[0m\u001b[0mkey\u001b[0m\u001b[1;33m,\u001b[0m \u001b[0maxis\u001b[0m\u001b[1;33m=\u001b[0m\u001b[0maxis\u001b[0m\u001b[1;33m)\u001b[0m\u001b[1;33m\u001b[0m\u001b[1;33m\u001b[0m\u001b[0m\n\u001b[0;32m   1868\u001b[0m         \u001b[1;32melif\u001b[0m \u001b[0mcom\u001b[0m\u001b[1;33m.\u001b[0m\u001b[0mis_bool_indexer\u001b[0m\u001b[1;33m(\u001b[0m\u001b[0mkey\u001b[0m\u001b[1;33m)\u001b[0m\u001b[1;33m:\u001b[0m\u001b[1;33m\u001b[0m\u001b[1;33m\u001b[0m\u001b[0m\n\u001b[1;32m-> 1869\u001b[1;33m             \u001b[1;32mreturn\u001b[0m \u001b[0mself\u001b[0m\u001b[1;33m.\u001b[0m\u001b[0m_getbool_axis\u001b[0m\u001b[1;33m(\u001b[0m\u001b[0mkey\u001b[0m\u001b[1;33m,\u001b[0m \u001b[0maxis\u001b[0m\u001b[1;33m=\u001b[0m\u001b[0maxis\u001b[0m\u001b[1;33m)\u001b[0m\u001b[1;33m\u001b[0m\u001b[1;33m\u001b[0m\u001b[0m\n\u001b[0m\u001b[0;32m   1870\u001b[0m         \u001b[1;32melif\u001b[0m \u001b[0mis_list_like_indexer\u001b[0m\u001b[1;33m(\u001b[0m\u001b[0mkey\u001b[0m\u001b[1;33m)\u001b[0m\u001b[1;33m:\u001b[0m\u001b[1;33m\u001b[0m\u001b[1;33m\u001b[0m\u001b[0m\n\u001b[0;32m   1871\u001b[0m \u001b[1;33m\u001b[0m\u001b[0m\n",
      "\u001b[1;32m~\\Anaconda3\\lib\\site-packages\\pandas\\core\\indexing.py\u001b[0m in \u001b[0;36m_getbool_axis\u001b[1;34m(self, key, axis)\u001b[0m\n\u001b[0;32m   1518\u001b[0m             \u001b[1;32mreturn\u001b[0m \u001b[0mself\u001b[0m\u001b[1;33m.\u001b[0m\u001b[0mobj\u001b[0m\u001b[1;33m.\u001b[0m\u001b[0m_take\u001b[0m\u001b[1;33m(\u001b[0m\u001b[0minds\u001b[0m\u001b[1;33m,\u001b[0m \u001b[0maxis\u001b[0m\u001b[1;33m=\u001b[0m\u001b[0maxis\u001b[0m\u001b[1;33m)\u001b[0m\u001b[1;33m\u001b[0m\u001b[1;33m\u001b[0m\u001b[0m\n\u001b[0;32m   1519\u001b[0m         \u001b[1;32mexcept\u001b[0m \u001b[0mException\u001b[0m \u001b[1;32mas\u001b[0m \u001b[0mdetail\u001b[0m\u001b[1;33m:\u001b[0m\u001b[1;33m\u001b[0m\u001b[1;33m\u001b[0m\u001b[0m\n\u001b[1;32m-> 1520\u001b[1;33m             \u001b[1;32mraise\u001b[0m \u001b[0mself\u001b[0m\u001b[1;33m.\u001b[0m\u001b[0m_exception\u001b[0m\u001b[1;33m(\u001b[0m\u001b[0mdetail\u001b[0m\u001b[1;33m)\u001b[0m\u001b[1;33m\u001b[0m\u001b[1;33m\u001b[0m\u001b[0m\n\u001b[0m\u001b[0;32m   1521\u001b[0m \u001b[1;33m\u001b[0m\u001b[0m\n\u001b[0;32m   1522\u001b[0m     \u001b[1;32mdef\u001b[0m \u001b[0m_get_slice_axis\u001b[0m\u001b[1;33m(\u001b[0m\u001b[0mself\u001b[0m\u001b[1;33m,\u001b[0m \u001b[0mslice_obj\u001b[0m\u001b[1;33m,\u001b[0m \u001b[0maxis\u001b[0m\u001b[1;33m=\u001b[0m\u001b[1;32mNone\u001b[0m\u001b[1;33m)\u001b[0m\u001b[1;33m:\u001b[0m\u001b[1;33m\u001b[0m\u001b[1;33m\u001b[0m\u001b[0m\n",
      "\u001b[1;31mKeyError\u001b[0m: MemoryError()"
     ]
    },
    {
     "name": "stdout",
     "output_type": "stream",
     "text": [
      "time: 4min 16s\n"
     ]
    },
    {
     "data": {
      "text/html": [
       "\n",
       "                <audio  controls=\"controls\" autoplay=\"autoplay\">\n",
       "                    <source src=\"data:audio/wav;base64,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\" type=\"audio/wav\" />\n",
       "                    Your browser does not support the audio element.\n",
       "                </audio>\n",
       "              "
      ],
      "text/plain": [
       "<IPython.lib.display.Audio object>"
      ]
     },
     "metadata": {},
     "output_type": "display_data"
    },
    {
     "data": {
      "text/html": [
       "<style>audio{display:none}</style>"
      ],
      "text/plain": [
       "<IPython.core.display.HTML object>"
      ]
     },
     "metadata": {},
     "output_type": "display_data"
    }
   ],
   "source": [
    "%%s\n",
    "# 4 colors clear sepration but slow and memory issues\n",
    "get_color(unlit, inplace=True)"
   ]
  },
  {
   "cell_type": "code",
   "execution_count": 205,
   "metadata": {},
   "outputs": [
    {
     "name": "stderr",
     "output_type": "stream",
     "text": [
      "[cellevents:INFO]:starting (cellevents.py:43, time=Dec-12 19:51)\n"
     ]
    },
    {
     "name": "stdout",
     "output_type": "stream",
     "text": [
      "time: 28 ms\n"
     ]
    }
   ],
   "source": [
    "from shapely.geometry import Point, Polygon, MultiPoint\n",
    "c = unlit[unlit.label==0]"
   ]
  },
  {
   "cell_type": "code",
   "execution_count": 224,
   "metadata": {},
   "outputs": [
    {
     "name": "stderr",
     "output_type": "stream",
     "text": [
      "[cellevents:INFO]:starting (cellevents.py:43, time=Dec-12 19:57)\n"
     ]
    },
    {
     "name": "stdout",
     "output_type": "stream",
     "text": [
      "time: 57 ms\n"
     ]
    }
   ],
   "source": [
    "unlit = unlit[unlit.label>=0]"
   ]
  },
  {
   "cell_type": "code",
   "execution_count": 240,
   "metadata": {
    "collapsed": true
   },
   "outputs": [
    {
     "name": "stderr",
     "output_type": "stream",
     "text": [
      "[cellevents:INFO]:starting (cellevents.py:43, time=Dec-12 20:09)\n"
     ]
    },
    {
     "data": {
      "text/html": [
       "<div>\n",
       "<style scoped>\n",
       "    .dataframe tbody tr th:only-of-type {\n",
       "        vertical-align: middle;\n",
       "    }\n",
       "\n",
       "    .dataframe tbody tr th {\n",
       "        vertical-align: top;\n",
       "    }\n",
       "\n",
       "    .dataframe thead th {\n",
       "        text-align: right;\n",
       "    }\n",
       "</style>\n",
       "<table border=\"1\" class=\"dataframe\">\n",
       "  <thead>\n",
       "    <tr style=\"text-align: right;\">\n",
       "      <th></th>\n",
       "      <th>label</th>\n",
       "      <th>population</th>\n",
       "      <th>area</th>\n",
       "      <th>row</th>\n",
       "      <th>col</th>\n",
       "      <th>lat</th>\n",
       "      <th>lon</th>\n",
       "      <th>density</th>\n",
       "      <th>address</th>\n",
       "      <th>address0</th>\n",
       "      <th>address1</th>\n",
       "      <th>address2</th>\n",
       "      <th>geolocator</th>\n",
       "      <th>color</th>\n",
       "    </tr>\n",
       "  </thead>\n",
       "  <tbody>\n",
       "    <tr>\n",
       "      <th>0</th>\n",
       "      <td>0</td>\n",
       "      <td>4741</td>\n",
       "      <td>0.978923</td>\n",
       "      <td>37.301075</td>\n",
       "      <td>3465.698925</td>\n",
       "      <td>13.860583</td>\n",
       "      <td>5.557249</td>\n",
       "      <td>5936</td>\n",
       "      <td>Rafinduma, Sokoto, Nigeria</td>\n",
       "      <td>Rafinduma</td>\n",
       "      <td>Sokoto</td>\n",
       "      <td>Nigeria</td>\n",
       "      <td>Photon</td>\n",
       "      <td>1</td>\n",
       "    </tr>\n",
       "    <tr>\n",
       "      <th>1</th>\n",
       "      <td>1</td>\n",
       "      <td>4275</td>\n",
       "      <td>0.905933</td>\n",
       "      <td>52.445783</td>\n",
       "      <td>3498.024096</td>\n",
       "      <td>13.847962</td>\n",
       "      <td>5.584187</td>\n",
       "      <td>5998</td>\n",
       "      <td>Gidan Tanko, Sokoto, Nigeria</td>\n",
       "      <td>Gidan Tanko</td>\n",
       "      <td>Sokoto</td>\n",
       "      <td>Nigeria</td>\n",
       "      <td>Photon</td>\n",
       "      <td>3</td>\n",
       "    </tr>\n",
       "    <tr>\n",
       "      <th>2</th>\n",
       "      <td>2</td>\n",
       "      <td>10828</td>\n",
       "      <td>12.159254</td>\n",
       "      <td>115.834951</td>\n",
       "      <td>3649.121359</td>\n",
       "      <td>13.795138</td>\n",
       "      <td>5.710101</td>\n",
       "      <td>6121</td>\n",
       "      <td>Bigal, Sokoto, Nigeria</td>\n",
       "      <td>Bigal</td>\n",
       "      <td>Sokoto</td>\n",
       "      <td>Nigeria</td>\n",
       "      <td>Photon</td>\n",
       "      <td>8</td>\n",
       "    </tr>\n",
       "    <tr>\n",
       "      <th>3</th>\n",
       "      <td>3</td>\n",
       "      <td>8669</td>\n",
       "      <td>4.886028</td>\n",
       "      <td>117.244444</td>\n",
       "      <td>3216.927778</td>\n",
       "      <td>13.793963</td>\n",
       "      <td>5.349940</td>\n",
       "      <td>5608</td>\n",
       "      <td>Mallamawa1, Sokoto, Nigeria</td>\n",
       "      <td>Mallamawa1</td>\n",
       "      <td>Sokoto</td>\n",
       "      <td>Nigeria</td>\n",
       "      <td>Photon</td>\n",
       "      <td>4</td>\n",
       "    </tr>\n",
       "    <tr>\n",
       "      <th>4</th>\n",
       "      <td>4</td>\n",
       "      <td>12034</td>\n",
       "      <td>6.131149</td>\n",
       "      <td>139.211340</td>\n",
       "      <td>3384.170103</td>\n",
       "      <td>13.775657</td>\n",
       "      <td>5.489308</td>\n",
       "      <td>7223</td>\n",
       "      <td>Wauru, Sokoto, Nigeria</td>\n",
       "      <td>Wauru</td>\n",
       "      <td>Sokoto</td>\n",
       "      <td>Nigeria</td>\n",
       "      <td>Photon</td>\n",
       "      <td>1</td>\n",
       "    </tr>\n",
       "    <tr>\n",
       "      <th>5</th>\n",
       "      <td>5</td>\n",
       "      <td>5638</td>\n",
       "      <td>1.356753</td>\n",
       "      <td>140.000000</td>\n",
       "      <td>3289.973684</td>\n",
       "      <td>13.775000</td>\n",
       "      <td>5.410811</td>\n",
       "      <td>5759</td>\n",
       "      <td>Hasamawa, Sokoto, Nigeria</td>\n",
       "      <td>Hasamawa</td>\n",
       "      <td>Sokoto</td>\n",
       "      <td>Nigeria</td>\n",
       "      <td>Photon</td>\n",
       "      <td>2</td>\n",
       "    </tr>\n",
       "    <tr>\n",
       "      <th>6</th>\n",
       "      <td>6</td>\n",
       "      <td>5049</td>\n",
       "      <td>3.868463</td>\n",
       "      <td>142.358491</td>\n",
       "      <td>3438.339623</td>\n",
       "      <td>13.773035</td>\n",
       "      <td>5.534450</td>\n",
       "      <td>5546</td>\n",
       "      <td>NaN</td>\n",
       "      <td>NaN</td>\n",
       "      <td>NaN</td>\n",
       "      <td>NaN</td>\n",
       "      <td>NaN</td>\n",
       "      <td>2</td>\n",
       "    </tr>\n",
       "    <tr>\n",
       "      <th>7</th>\n",
       "      <td>7</td>\n",
       "      <td>13663</td>\n",
       "      <td>8.127637</td>\n",
       "      <td>150.551471</td>\n",
       "      <td>3516.161765</td>\n",
       "      <td>13.766207</td>\n",
       "      <td>5.599301</td>\n",
       "      <td>5849</td>\n",
       "      <td>NaN</td>\n",
       "      <td>NaN</td>\n",
       "      <td>NaN</td>\n",
       "      <td>NaN</td>\n",
       "      <td>NaN</td>\n",
       "      <td>7</td>\n",
       "    </tr>\n",
       "    <tr>\n",
       "      <th>8</th>\n",
       "      <td>8</td>\n",
       "      <td>8908</td>\n",
       "      <td>9.694772</td>\n",
       "      <td>172.933735</td>\n",
       "      <td>3661.590361</td>\n",
       "      <td>13.747555</td>\n",
       "      <td>5.720492</td>\n",
       "      <td>6249</td>\n",
       "      <td>NaN</td>\n",
       "      <td>NaN</td>\n",
       "      <td>NaN</td>\n",
       "      <td>NaN</td>\n",
       "      <td>NaN</td>\n",
       "      <td>3</td>\n",
       "    </tr>\n",
       "    <tr>\n",
       "      <th>9</th>\n",
       "      <td>9</td>\n",
       "      <td>11247</td>\n",
       "      <td>16.328263</td>\n",
       "      <td>165.564784</td>\n",
       "      <td>3586.209302</td>\n",
       "      <td>13.753696</td>\n",
       "      <td>5.657674</td>\n",
       "      <td>4351</td>\n",
       "      <td>NaN</td>\n",
       "      <td>NaN</td>\n",
       "      <td>NaN</td>\n",
       "      <td>NaN</td>\n",
       "      <td>NaN</td>\n",
       "      <td>6</td>\n",
       "    </tr>\n",
       "    <tr>\n",
       "      <th>10</th>\n",
       "      <td>10</td>\n",
       "      <td>4703</td>\n",
       "      <td>3.108510</td>\n",
       "      <td>166.516129</td>\n",
       "      <td>3778.053763</td>\n",
       "      <td>13.752903</td>\n",
       "      <td>5.817545</td>\n",
       "      <td>5889</td>\n",
       "      <td>NaN</td>\n",
       "      <td>NaN</td>\n",
       "      <td>NaN</td>\n",
       "      <td>NaN</td>\n",
       "      <td>NaN</td>\n",
       "      <td>9</td>\n",
       "    </tr>\n",
       "    <tr>\n",
       "      <th>11</th>\n",
       "      <td>11</td>\n",
       "      <td>4172</td>\n",
       "      <td>2.820844</td>\n",
       "      <td>220.969697</td>\n",
       "      <td>3832.555556</td>\n",
       "      <td>13.707525</td>\n",
       "      <td>5.862963</td>\n",
       "      <td>4907</td>\n",
       "      <td>NaN</td>\n",
       "      <td>NaN</td>\n",
       "      <td>NaN</td>\n",
       "      <td>NaN</td>\n",
       "      <td>NaN</td>\n",
       "      <td>1</td>\n",
       "    </tr>\n",
       "    <tr>\n",
       "      <th>12</th>\n",
       "      <td>12</td>\n",
       "      <td>8504</td>\n",
       "      <td>5.341141</td>\n",
       "      <td>250.281879</td>\n",
       "      <td>3485.355705</td>\n",
       "      <td>13.683099</td>\n",
       "      <td>5.573630</td>\n",
       "      <td>6646</td>\n",
       "      <td>NaN</td>\n",
       "      <td>NaN</td>\n",
       "      <td>NaN</td>\n",
       "      <td>NaN</td>\n",
       "      <td>NaN</td>\n",
       "      <td>1</td>\n",
       "    </tr>\n",
       "    <tr>\n",
       "      <th>13</th>\n",
       "      <td>13</td>\n",
       "      <td>5560</td>\n",
       "      <td>1.322405</td>\n",
       "      <td>244.443038</td>\n",
       "      <td>2927.924051</td>\n",
       "      <td>13.687964</td>\n",
       "      <td>5.109103</td>\n",
       "      <td>8196</td>\n",
       "      <td>NaN</td>\n",
       "      <td>NaN</td>\n",
       "      <td>NaN</td>\n",
       "      <td>NaN</td>\n",
       "      <td>NaN</td>\n",
       "      <td>10</td>\n",
       "    </tr>\n",
       "    <tr>\n",
       "      <th>14</th>\n",
       "      <td>14</td>\n",
       "      <td>4959</td>\n",
       "      <td>0.691257</td>\n",
       "      <td>245.348837</td>\n",
       "      <td>3667.081395</td>\n",
       "      <td>13.687209</td>\n",
       "      <td>5.725068</td>\n",
       "      <td>6715</td>\n",
       "      <td>NaN</td>\n",
       "      <td>NaN</td>\n",
       "      <td>NaN</td>\n",
       "      <td>NaN</td>\n",
       "      <td>NaN</td>\n",
       "      <td>2</td>\n",
       "    </tr>\n",
       "    <tr>\n",
       "      <th>15</th>\n",
       "      <td>15</td>\n",
       "      <td>20473</td>\n",
       "      <td>12.399691</td>\n",
       "      <td>260.686717</td>\n",
       "      <td>12803.929825</td>\n",
       "      <td>13.674428</td>\n",
       "      <td>13.339108</td>\n",
       "      <td>5975</td>\n",
       "      <td>NaN</td>\n",
       "      <td>NaN</td>\n",
       "      <td>NaN</td>\n",
       "      <td>NaN</td>\n",
       "      <td>NaN</td>\n",
       "      <td>9</td>\n",
       "    </tr>\n",
       "    <tr>\n",
       "      <th>16</th>\n",
       "      <td>16</td>\n",
       "      <td>4744</td>\n",
       "      <td>0.824356</td>\n",
       "      <td>249.230769</td>\n",
       "      <td>3591.021978</td>\n",
       "      <td>13.683975</td>\n",
       "      <td>5.661685</td>\n",
       "      <td>6070</td>\n",
       "      <td>NaN</td>\n",
       "      <td>NaN</td>\n",
       "      <td>NaN</td>\n",
       "      <td>NaN</td>\n",
       "      <td>NaN</td>\n",
       "      <td>3</td>\n",
       "    </tr>\n",
       "    <tr>\n",
       "      <th>17</th>\n",
       "      <td>17</td>\n",
       "      <td>5783</td>\n",
       "      <td>2.816550</td>\n",
       "      <td>248.658120</td>\n",
       "      <td>3629.623932</td>\n",
       "      <td>13.684452</td>\n",
       "      <td>5.693853</td>\n",
       "      <td>5756</td>\n",
       "      <td>NaN</td>\n",
       "      <td>NaN</td>\n",
       "      <td>NaN</td>\n",
       "      <td>NaN</td>\n",
       "      <td>NaN</td>\n",
       "      <td>6</td>\n",
       "    </tr>\n",
       "    <tr>\n",
       "      <th>18</th>\n",
       "      <td>18</td>\n",
       "      <td>5741</td>\n",
       "      <td>3.147151</td>\n",
       "      <td>244.325000</td>\n",
       "      <td>3730.933333</td>\n",
       "      <td>13.688063</td>\n",
       "      <td>5.778278</td>\n",
       "      <td>5571</td>\n",
       "      <td>NaN</td>\n",
       "      <td>NaN</td>\n",
       "      <td>NaN</td>\n",
       "      <td>NaN</td>\n",
       "      <td>NaN</td>\n",
       "      <td>8</td>\n",
       "    </tr>\n",
       "    <tr>\n",
       "      <th>19</th>\n",
       "      <td>19</td>\n",
       "      <td>6694</td>\n",
       "      <td>6.272835</td>\n",
       "      <td>269.084112</td>\n",
       "      <td>3979.214953</td>\n",
       "      <td>13.667430</td>\n",
       "      <td>5.985179</td>\n",
       "      <td>7285</td>\n",
       "      <td>NaN</td>\n",
       "      <td>NaN</td>\n",
       "      <td>NaN</td>\n",
       "      <td>NaN</td>\n",
       "      <td>NaN</td>\n",
       "      <td>9</td>\n",
       "    </tr>\n",
       "    <tr>\n",
       "      <th>20</th>\n",
       "      <td>20</td>\n",
       "      <td>4702</td>\n",
       "      <td>1.356753</td>\n",
       "      <td>270.183908</td>\n",
       "      <td>2697.977011</td>\n",
       "      <td>13.666514</td>\n",
       "      <td>4.917481</td>\n",
       "      <td>6293</td>\n",
       "      <td>NaN</td>\n",
       "      <td>NaN</td>\n",
       "      <td>NaN</td>\n",
       "      <td>NaN</td>\n",
       "      <td>NaN</td>\n",
       "      <td>6</td>\n",
       "    </tr>\n",
       "    <tr>\n",
       "      <th>21</th>\n",
       "      <td>21</td>\n",
       "      <td>4582</td>\n",
       "      <td>4.546840</td>\n",
       "      <td>275.362832</td>\n",
       "      <td>3774.814159</td>\n",
       "      <td>13.662198</td>\n",
       "      <td>5.814845</td>\n",
       "      <td>4722</td>\n",
       "      <td>NaN</td>\n",
       "      <td>NaN</td>\n",
       "      <td>NaN</td>\n",
       "      <td>NaN</td>\n",
       "      <td>NaN</td>\n",
       "      <td>11</td>\n",
       "    </tr>\n",
       "    <tr>\n",
       "      <th>22</th>\n",
       "      <td>22</td>\n",
       "      <td>4377</td>\n",
       "      <td>1.537081</td>\n",
       "      <td>289.065421</td>\n",
       "      <td>3622.616822</td>\n",
       "      <td>13.650779</td>\n",
       "      <td>5.688014</td>\n",
       "      <td>4763</td>\n",
       "      <td>NaN</td>\n",
       "      <td>NaN</td>\n",
       "      <td>NaN</td>\n",
       "      <td>NaN</td>\n",
       "      <td>NaN</td>\n",
       "      <td>3</td>\n",
       "    </tr>\n",
       "    <tr>\n",
       "      <th>23</th>\n",
       "      <td>23</td>\n",
       "      <td>5399</td>\n",
       "      <td>2.249805</td>\n",
       "      <td>294.218182</td>\n",
       "      <td>3678.000000</td>\n",
       "      <td>13.646485</td>\n",
       "      <td>5.734167</td>\n",
       "      <td>5715</td>\n",
       "      <td>NaN</td>\n",
       "      <td>NaN</td>\n",
       "      <td>NaN</td>\n",
       "      <td>NaN</td>\n",
       "      <td>NaN</td>\n",
       "      <td>5</td>\n",
       "    </tr>\n",
       "    <tr>\n",
       "      <th>24</th>\n",
       "      <td>24</td>\n",
       "      <td>5144</td>\n",
       "      <td>2.576113</td>\n",
       "      <td>296.575342</td>\n",
       "      <td>4351.986301</td>\n",
       "      <td>13.644521</td>\n",
       "      <td>6.295822</td>\n",
       "      <td>8206</td>\n",
       "      <td>NaN</td>\n",
       "      <td>NaN</td>\n",
       "      <td>NaN</td>\n",
       "      <td>NaN</td>\n",
       "      <td>NaN</td>\n",
       "      <td>1</td>\n",
       "    </tr>\n",
       "    <tr>\n",
       "      <th>25</th>\n",
       "      <td>25</td>\n",
       "      <td>8127</td>\n",
       "      <td>4.606949</td>\n",
       "      <td>300.072993</td>\n",
       "      <td>3874.306569</td>\n",
       "      <td>13.641606</td>\n",
       "      <td>5.897755</td>\n",
       "      <td>6908</td>\n",
       "      <td>NaN</td>\n",
       "      <td>NaN</td>\n",
       "      <td>NaN</td>\n",
       "      <td>NaN</td>\n",
       "      <td>NaN</td>\n",
       "      <td>2</td>\n",
       "    </tr>\n",
       "    <tr>\n",
       "      <th>26</th>\n",
       "      <td>26</td>\n",
       "      <td>5510</td>\n",
       "      <td>3.872757</td>\n",
       "      <td>302.541284</td>\n",
       "      <td>4152.137615</td>\n",
       "      <td>13.639549</td>\n",
       "      <td>6.129281</td>\n",
       "      <td>5886</td>\n",
       "      <td>NaN</td>\n",
       "      <td>NaN</td>\n",
       "      <td>NaN</td>\n",
       "      <td>NaN</td>\n",
       "      <td>NaN</td>\n",
       "      <td>11</td>\n",
       "    </tr>\n",
       "    <tr>\n",
       "      <th>27</th>\n",
       "      <td>27</td>\n",
       "      <td>5199</td>\n",
       "      <td>1.910617</td>\n",
       "      <td>318.981651</td>\n",
       "      <td>3236.899083</td>\n",
       "      <td>13.625849</td>\n",
       "      <td>5.366583</td>\n",
       "      <td>5554</td>\n",
       "      <td>NaN</td>\n",
       "      <td>NaN</td>\n",
       "      <td>NaN</td>\n",
       "      <td>NaN</td>\n",
       "      <td>NaN</td>\n",
       "      <td>9</td>\n",
       "    </tr>\n",
       "    <tr>\n",
       "      <th>28</th>\n",
       "      <td>28</td>\n",
       "      <td>4602</td>\n",
       "      <td>1.983607</td>\n",
       "      <td>323.055556</td>\n",
       "      <td>2087.333333</td>\n",
       "      <td>13.622454</td>\n",
       "      <td>4.408611</td>\n",
       "      <td>4962</td>\n",
       "      <td>NaN</td>\n",
       "      <td>NaN</td>\n",
       "      <td>NaN</td>\n",
       "      <td>NaN</td>\n",
       "      <td>NaN</td>\n",
       "      <td>10</td>\n",
       "    </tr>\n",
       "    <tr>\n",
       "      <th>29</th>\n",
       "      <td>29</td>\n",
       "      <td>4882</td>\n",
       "      <td>2.473069</td>\n",
       "      <td>323.048193</td>\n",
       "      <td>4113.204819</td>\n",
       "      <td>13.622460</td>\n",
       "      <td>6.096837</td>\n",
       "      <td>6849</td>\n",
       "      <td>NaN</td>\n",
       "      <td>NaN</td>\n",
       "      <td>NaN</td>\n",
       "      <td>NaN</td>\n",
       "      <td>NaN</td>\n",
       "      <td>11</td>\n",
       "    </tr>\n",
       "    <tr>\n",
       "      <th>...</th>\n",
       "      <td>...</td>\n",
       "      <td>...</td>\n",
       "      <td>...</td>\n",
       "      <td>...</td>\n",
       "      <td>...</td>\n",
       "      <td>...</td>\n",
       "      <td>...</td>\n",
       "      <td>...</td>\n",
       "      <td>...</td>\n",
       "      <td>...</td>\n",
       "      <td>...</td>\n",
       "      <td>...</td>\n",
       "      <td>...</td>\n",
       "      <td>...</td>\n",
       "    </tr>\n",
       "    <tr>\n",
       "      <th>2117</th>\n",
       "      <td>2117</td>\n",
       "      <td>21578</td>\n",
       "      <td>33.326316</td>\n",
       "      <td>10261.165951</td>\n",
       "      <td>6105.663805</td>\n",
       "      <td>5.340695</td>\n",
       "      <td>7.757220</td>\n",
       "      <td>3594</td>\n",
       "      <td>NaN</td>\n",
       "      <td>NaN</td>\n",
       "      <td>NaN</td>\n",
       "      <td>NaN</td>\n",
       "      <td>NaN</td>\n",
       "      <td>1</td>\n",
       "    </tr>\n",
       "    <tr>\n",
       "      <th>2118</th>\n",
       "      <td>2118</td>\n",
       "      <td>5402</td>\n",
       "      <td>9.162375</td>\n",
       "      <td>10240.796954</td>\n",
       "      <td>5818.426396</td>\n",
       "      <td>5.357669</td>\n",
       "      <td>7.517855</td>\n",
       "      <td>3193</td>\n",
       "      <td>NaN</td>\n",
       "      <td>NaN</td>\n",
       "      <td>NaN</td>\n",
       "      <td>NaN</td>\n",
       "      <td>NaN</td>\n",
       "      <td>4</td>\n",
       "    </tr>\n",
       "    <tr>\n",
       "      <th>2119</th>\n",
       "      <td>2119</td>\n",
       "      <td>40790</td>\n",
       "      <td>77.519535</td>\n",
       "      <td>10306.431945</td>\n",
       "      <td>5708.960069</td>\n",
       "      <td>5.302974</td>\n",
       "      <td>7.426633</td>\n",
       "      <td>2039</td>\n",
       "      <td>NaN</td>\n",
       "      <td>NaN</td>\n",
       "      <td>NaN</td>\n",
       "      <td>NaN</td>\n",
       "      <td>NaN</td>\n",
       "      <td>5</td>\n",
       "    </tr>\n",
       "    <tr>\n",
       "      <th>2120</th>\n",
       "      <td>2120</td>\n",
       "      <td>3045</td>\n",
       "      <td>2.460188</td>\n",
       "      <td>10238.441176</td>\n",
       "      <td>5754.068627</td>\n",
       "      <td>5.359633</td>\n",
       "      <td>7.464224</td>\n",
       "      <td>3476</td>\n",
       "      <td>NaN</td>\n",
       "      <td>NaN</td>\n",
       "      <td>NaN</td>\n",
       "      <td>NaN</td>\n",
       "      <td>NaN</td>\n",
       "      <td>5</td>\n",
       "    </tr>\n",
       "    <tr>\n",
       "      <th>2121</th>\n",
       "      <td>2121</td>\n",
       "      <td>49653</td>\n",
       "      <td>81.340770</td>\n",
       "      <td>10285.521127</td>\n",
       "      <td>6033.387866</td>\n",
       "      <td>5.320399</td>\n",
       "      <td>7.696990</td>\n",
       "      <td>3132</td>\n",
       "      <td>NaN</td>\n",
       "      <td>NaN</td>\n",
       "      <td>NaN</td>\n",
       "      <td>NaN</td>\n",
       "      <td>NaN</td>\n",
       "      <td>1</td>\n",
       "    </tr>\n",
       "    <tr>\n",
       "      <th>2122</th>\n",
       "      <td>2122</td>\n",
       "      <td>10301</td>\n",
       "      <td>15.667061</td>\n",
       "      <td>10270.460490</td>\n",
       "      <td>5767.602180</td>\n",
       "      <td>5.332950</td>\n",
       "      <td>7.475502</td>\n",
       "      <td>3268</td>\n",
       "      <td>NaN</td>\n",
       "      <td>NaN</td>\n",
       "      <td>NaN</td>\n",
       "      <td>NaN</td>\n",
       "      <td>NaN</td>\n",
       "      <td>5</td>\n",
       "    </tr>\n",
       "    <tr>\n",
       "      <th>2123</th>\n",
       "      <td>2123</td>\n",
       "      <td>6291</td>\n",
       "      <td>9.179550</td>\n",
       "      <td>10272.589080</td>\n",
       "      <td>5662.729885</td>\n",
       "      <td>5.331176</td>\n",
       "      <td>7.388108</td>\n",
       "      <td>2105</td>\n",
       "      <td>NaN</td>\n",
       "      <td>NaN</td>\n",
       "      <td>NaN</td>\n",
       "      <td>NaN</td>\n",
       "      <td>NaN</td>\n",
       "      <td>7</td>\n",
       "    </tr>\n",
       "    <tr>\n",
       "      <th>2124</th>\n",
       "      <td>2124</td>\n",
       "      <td>20965</td>\n",
       "      <td>37.688534</td>\n",
       "      <td>10308.961089</td>\n",
       "      <td>5788.754864</td>\n",
       "      <td>5.300866</td>\n",
       "      <td>7.493129</td>\n",
       "      <td>3166</td>\n",
       "      <td>NaN</td>\n",
       "      <td>NaN</td>\n",
       "      <td>NaN</td>\n",
       "      <td>NaN</td>\n",
       "      <td>NaN</td>\n",
       "      <td>10</td>\n",
       "    </tr>\n",
       "    <tr>\n",
       "      <th>2125</th>\n",
       "      <td>2125</td>\n",
       "      <td>6388</td>\n",
       "      <td>8.449651</td>\n",
       "      <td>10307.177686</td>\n",
       "      <td>6139.760331</td>\n",
       "      <td>5.302352</td>\n",
       "      <td>7.785634</td>\n",
       "      <td>3074</td>\n",
       "      <td>NaN</td>\n",
       "      <td>NaN</td>\n",
       "      <td>NaN</td>\n",
       "      <td>NaN</td>\n",
       "      <td>NaN</td>\n",
       "      <td>6</td>\n",
       "    </tr>\n",
       "    <tr>\n",
       "      <th>2126</th>\n",
       "      <td>2126</td>\n",
       "      <td>15653</td>\n",
       "      <td>20.372761</td>\n",
       "      <td>10310.927126</td>\n",
       "      <td>5485.283401</td>\n",
       "      <td>5.299228</td>\n",
       "      <td>7.240236</td>\n",
       "      <td>3690</td>\n",
       "      <td>NaN</td>\n",
       "      <td>NaN</td>\n",
       "      <td>NaN</td>\n",
       "      <td>NaN</td>\n",
       "      <td>NaN</td>\n",
       "      <td>9</td>\n",
       "    </tr>\n",
       "    <tr>\n",
       "      <th>2127</th>\n",
       "      <td>2127</td>\n",
       "      <td>16829</td>\n",
       "      <td>30.831780</td>\n",
       "      <td>10328.132736</td>\n",
       "      <td>5941.197883</td>\n",
       "      <td>5.284890</td>\n",
       "      <td>7.620165</td>\n",
       "      <td>1595</td>\n",
       "      <td>NaN</td>\n",
       "      <td>NaN</td>\n",
       "      <td>NaN</td>\n",
       "      <td>NaN</td>\n",
       "      <td>NaN</td>\n",
       "      <td>9</td>\n",
       "    </tr>\n",
       "    <tr>\n",
       "      <th>2128</th>\n",
       "      <td>2128</td>\n",
       "      <td>13422</td>\n",
       "      <td>16.615929</td>\n",
       "      <td>10358.913732</td>\n",
       "      <td>5559.066901</td>\n",
       "      <td>5.259239</td>\n",
       "      <td>7.301722</td>\n",
       "      <td>2751</td>\n",
       "      <td>NaN</td>\n",
       "      <td>NaN</td>\n",
       "      <td>NaN</td>\n",
       "      <td>NaN</td>\n",
       "      <td>NaN</td>\n",
       "      <td>9</td>\n",
       "    </tr>\n",
       "    <tr>\n",
       "      <th>2129</th>\n",
       "      <td>2129</td>\n",
       "      <td>5550</td>\n",
       "      <td>3.731070</td>\n",
       "      <td>10353.433962</td>\n",
       "      <td>5485.742138</td>\n",
       "      <td>5.263805</td>\n",
       "      <td>7.240618</td>\n",
       "      <td>4064</td>\n",
       "      <td>NaN</td>\n",
       "      <td>NaN</td>\n",
       "      <td>NaN</td>\n",
       "      <td>NaN</td>\n",
       "      <td>NaN</td>\n",
       "      <td>1</td>\n",
       "    </tr>\n",
       "    <tr>\n",
       "      <th>2130</th>\n",
       "      <td>2130</td>\n",
       "      <td>4245</td>\n",
       "      <td>5.504295</td>\n",
       "      <td>10373.000000</td>\n",
       "      <td>5748.275281</td>\n",
       "      <td>5.247500</td>\n",
       "      <td>7.459396</td>\n",
       "      <td>2777</td>\n",
       "      <td>NaN</td>\n",
       "      <td>NaN</td>\n",
       "      <td>NaN</td>\n",
       "      <td>NaN</td>\n",
       "      <td>NaN</td>\n",
       "      <td>3</td>\n",
       "    </tr>\n",
       "    <tr>\n",
       "      <th>2131</th>\n",
       "      <td>2131</td>\n",
       "      <td>10978</td>\n",
       "      <td>12.562845</td>\n",
       "      <td>10387.119114</td>\n",
       "      <td>5431.947368</td>\n",
       "      <td>5.235734</td>\n",
       "      <td>7.195789</td>\n",
       "      <td>3541</td>\n",
       "      <td>NaN</td>\n",
       "      <td>NaN</td>\n",
       "      <td>NaN</td>\n",
       "      <td>NaN</td>\n",
       "      <td>NaN</td>\n",
       "      <td>3</td>\n",
       "    </tr>\n",
       "    <tr>\n",
       "      <th>2132</th>\n",
       "      <td>2132</td>\n",
       "      <td>20513</td>\n",
       "      <td>29.067142</td>\n",
       "      <td>10420.488889</td>\n",
       "      <td>5322.019753</td>\n",
       "      <td>5.207926</td>\n",
       "      <td>7.104183</td>\n",
       "      <td>5898</td>\n",
       "      <td>NaN</td>\n",
       "      <td>NaN</td>\n",
       "      <td>NaN</td>\n",
       "      <td>NaN</td>\n",
       "      <td>NaN</td>\n",
       "      <td>5</td>\n",
       "    </tr>\n",
       "    <tr>\n",
       "      <th>2133</th>\n",
       "      <td>2133</td>\n",
       "      <td>27079</td>\n",
       "      <td>42.952392</td>\n",
       "      <td>10434.401923</td>\n",
       "      <td>5413.530769</td>\n",
       "      <td>5.196332</td>\n",
       "      <td>7.180442</td>\n",
       "      <td>6064</td>\n",
       "      <td>NaN</td>\n",
       "      <td>NaN</td>\n",
       "      <td>NaN</td>\n",
       "      <td>NaN</td>\n",
       "      <td>NaN</td>\n",
       "      <td>7</td>\n",
       "    </tr>\n",
       "    <tr>\n",
       "      <th>2134</th>\n",
       "      <td>2134</td>\n",
       "      <td>5967</td>\n",
       "      <td>4.263467</td>\n",
       "      <td>10408.656627</td>\n",
       "      <td>5476.789157</td>\n",
       "      <td>5.217786</td>\n",
       "      <td>7.233158</td>\n",
       "      <td>4186</td>\n",
       "      <td>NaN</td>\n",
       "      <td>NaN</td>\n",
       "      <td>NaN</td>\n",
       "      <td>NaN</td>\n",
       "      <td>NaN</td>\n",
       "      <td>6</td>\n",
       "    </tr>\n",
       "    <tr>\n",
       "      <th>2135</th>\n",
       "      <td>2135</td>\n",
       "      <td>14340</td>\n",
       "      <td>21.321629</td>\n",
       "      <td>10466.383260</td>\n",
       "      <td>6609.242291</td>\n",
       "      <td>5.169681</td>\n",
       "      <td>8.176869</td>\n",
       "      <td>3678</td>\n",
       "      <td>NaN</td>\n",
       "      <td>NaN</td>\n",
       "      <td>NaN</td>\n",
       "      <td>NaN</td>\n",
       "      <td>NaN</td>\n",
       "      <td>9</td>\n",
       "    </tr>\n",
       "    <tr>\n",
       "      <th>2136</th>\n",
       "      <td>2136</td>\n",
       "      <td>7124</td>\n",
       "      <td>15.873150</td>\n",
       "      <td>10513.819149</td>\n",
       "      <td>5949.597518</td>\n",
       "      <td>5.130151</td>\n",
       "      <td>7.627165</td>\n",
       "      <td>1470</td>\n",
       "      <td>NaN</td>\n",
       "      <td>NaN</td>\n",
       "      <td>NaN</td>\n",
       "      <td>NaN</td>\n",
       "      <td>NaN</td>\n",
       "      <td>1</td>\n",
       "    </tr>\n",
       "    <tr>\n",
       "      <th>2137</th>\n",
       "      <td>2137</td>\n",
       "      <td>116672</td>\n",
       "      <td>265.550027</td>\n",
       "      <td>10626.811415</td>\n",
       "      <td>6037.885155</td>\n",
       "      <td>5.035991</td>\n",
       "      <td>7.700738</td>\n",
       "      <td>1886</td>\n",
       "      <td>NaN</td>\n",
       "      <td>NaN</td>\n",
       "      <td>NaN</td>\n",
       "      <td>NaN</td>\n",
       "      <td>NaN</td>\n",
       "      <td>11</td>\n",
       "    </tr>\n",
       "    <tr>\n",
       "      <th>2138</th>\n",
       "      <td>2138</td>\n",
       "      <td>21554</td>\n",
       "      <td>41.303679</td>\n",
       "      <td>10659.289595</td>\n",
       "      <td>5842.277457</td>\n",
       "      <td>5.008926</td>\n",
       "      <td>7.537731</td>\n",
       "      <td>1450</td>\n",
       "      <td>NaN</td>\n",
       "      <td>NaN</td>\n",
       "      <td>NaN</td>\n",
       "      <td>NaN</td>\n",
       "      <td>NaN</td>\n",
       "      <td>11</td>\n",
       "    </tr>\n",
       "    <tr>\n",
       "      <th>2139</th>\n",
       "      <td>2139</td>\n",
       "      <td>5877</td>\n",
       "      <td>9.776349</td>\n",
       "      <td>10712.109434</td>\n",
       "      <td>5898.377358</td>\n",
       "      <td>4.964909</td>\n",
       "      <td>7.584481</td>\n",
       "      <td>1291</td>\n",
       "      <td>NaN</td>\n",
       "      <td>NaN</td>\n",
       "      <td>NaN</td>\n",
       "      <td>NaN</td>\n",
       "      <td>NaN</td>\n",
       "      <td>6</td>\n",
       "    </tr>\n",
       "    <tr>\n",
       "      <th>2140</th>\n",
       "      <td>2140</td>\n",
       "      <td>9046</td>\n",
       "      <td>18.672526</td>\n",
       "      <td>10759.054206</td>\n",
       "      <td>5950.633645</td>\n",
       "      <td>4.925788</td>\n",
       "      <td>7.628028</td>\n",
       "      <td>1969</td>\n",
       "      <td>NaN</td>\n",
       "      <td>NaN</td>\n",
       "      <td>NaN</td>\n",
       "      <td>NaN</td>\n",
       "      <td>NaN</td>\n",
       "      <td>10</td>\n",
       "    </tr>\n",
       "    <tr>\n",
       "      <th>2141</th>\n",
       "      <td>2141</td>\n",
       "      <td>38203</td>\n",
       "      <td>75.377068</td>\n",
       "      <td>10811.594551</td>\n",
       "      <td>5894.066907</td>\n",
       "      <td>4.882005</td>\n",
       "      <td>7.580889</td>\n",
       "      <td>1782</td>\n",
       "      <td>NaN</td>\n",
       "      <td>NaN</td>\n",
       "      <td>NaN</td>\n",
       "      <td>NaN</td>\n",
       "      <td>NaN</td>\n",
       "      <td>9</td>\n",
       "    </tr>\n",
       "    <tr>\n",
       "      <th>2142</th>\n",
       "      <td>2142</td>\n",
       "      <td>13261</td>\n",
       "      <td>24.206876</td>\n",
       "      <td>10819.637549</td>\n",
       "      <td>5986.612777</td>\n",
       "      <td>4.875302</td>\n",
       "      <td>7.658011</td>\n",
       "      <td>2013</td>\n",
       "      <td>NaN</td>\n",
       "      <td>NaN</td>\n",
       "      <td>NaN</td>\n",
       "      <td>NaN</td>\n",
       "      <td>NaN</td>\n",
       "      <td>3</td>\n",
       "    </tr>\n",
       "    <tr>\n",
       "      <th>2143</th>\n",
       "      <td>2143</td>\n",
       "      <td>6120</td>\n",
       "      <td>9.720533</td>\n",
       "      <td>10839.396429</td>\n",
       "      <td>6217.064286</td>\n",
       "      <td>4.858836</td>\n",
       "      <td>7.850054</td>\n",
       "      <td>2545</td>\n",
       "      <td>NaN</td>\n",
       "      <td>NaN</td>\n",
       "      <td>NaN</td>\n",
       "      <td>NaN</td>\n",
       "      <td>NaN</td>\n",
       "      <td>11</td>\n",
       "    </tr>\n",
       "    <tr>\n",
       "      <th>2144</th>\n",
       "      <td>2144</td>\n",
       "      <td>6394</td>\n",
       "      <td>9.196724</td>\n",
       "      <td>10843.485714</td>\n",
       "      <td>5942.675325</td>\n",
       "      <td>4.855429</td>\n",
       "      <td>7.621396</td>\n",
       "      <td>1934</td>\n",
       "      <td>NaN</td>\n",
       "      <td>NaN</td>\n",
       "      <td>NaN</td>\n",
       "      <td>NaN</td>\n",
       "      <td>NaN</td>\n",
       "      <td>1</td>\n",
       "    </tr>\n",
       "    <tr>\n",
       "      <th>2145</th>\n",
       "      <td>2145</td>\n",
       "      <td>9831</td>\n",
       "      <td>19.655743</td>\n",
       "      <td>10850.855756</td>\n",
       "      <td>6098.220527</td>\n",
       "      <td>4.849287</td>\n",
       "      <td>7.751017</td>\n",
       "      <td>1587</td>\n",
       "      <td>NaN</td>\n",
       "      <td>NaN</td>\n",
       "      <td>NaN</td>\n",
       "      <td>NaN</td>\n",
       "      <td>NaN</td>\n",
       "      <td>10</td>\n",
       "    </tr>\n",
       "    <tr>\n",
       "      <th>2146</th>\n",
       "      <td>2146</td>\n",
       "      <td>9084</td>\n",
       "      <td>17.259957</td>\n",
       "      <td>10900.602972</td>\n",
       "      <td>5938.715499</td>\n",
       "      <td>4.807831</td>\n",
       "      <td>7.618096</td>\n",
       "      <td>2246</td>\n",
       "      <td>NaN</td>\n",
       "      <td>NaN</td>\n",
       "      <td>NaN</td>\n",
       "      <td>NaN</td>\n",
       "      <td>NaN</td>\n",
       "      <td>4</td>\n",
       "    </tr>\n",
       "  </tbody>\n",
       "</table>\n",
       "<p>2147 rows × 14 columns</p>\n",
       "</div>"
      ],
      "text/plain": [
       "      label  population        area           row           col        lat  \\\n",
       "0         0        4741    0.978923     37.301075   3465.698925  13.860583   \n",
       "1         1        4275    0.905933     52.445783   3498.024096  13.847962   \n",
       "2         2       10828   12.159254    115.834951   3649.121359  13.795138   \n",
       "3         3        8669    4.886028    117.244444   3216.927778  13.793963   \n",
       "4         4       12034    6.131149    139.211340   3384.170103  13.775657   \n",
       "5         5        5638    1.356753    140.000000   3289.973684  13.775000   \n",
       "6         6        5049    3.868463    142.358491   3438.339623  13.773035   \n",
       "7         7       13663    8.127637    150.551471   3516.161765  13.766207   \n",
       "8         8        8908    9.694772    172.933735   3661.590361  13.747555   \n",
       "9         9       11247   16.328263    165.564784   3586.209302  13.753696   \n",
       "10       10        4703    3.108510    166.516129   3778.053763  13.752903   \n",
       "11       11        4172    2.820844    220.969697   3832.555556  13.707525   \n",
       "12       12        8504    5.341141    250.281879   3485.355705  13.683099   \n",
       "13       13        5560    1.322405    244.443038   2927.924051  13.687964   \n",
       "14       14        4959    0.691257    245.348837   3667.081395  13.687209   \n",
       "15       15       20473   12.399691    260.686717  12803.929825  13.674428   \n",
       "16       16        4744    0.824356    249.230769   3591.021978  13.683975   \n",
       "17       17        5783    2.816550    248.658120   3629.623932  13.684452   \n",
       "18       18        5741    3.147151    244.325000   3730.933333  13.688063   \n",
       "19       19        6694    6.272835    269.084112   3979.214953  13.667430   \n",
       "20       20        4702    1.356753    270.183908   2697.977011  13.666514   \n",
       "21       21        4582    4.546840    275.362832   3774.814159  13.662198   \n",
       "22       22        4377    1.537081    289.065421   3622.616822  13.650779   \n",
       "23       23        5399    2.249805    294.218182   3678.000000  13.646485   \n",
       "24       24        5144    2.576113    296.575342   4351.986301  13.644521   \n",
       "25       25        8127    4.606949    300.072993   3874.306569  13.641606   \n",
       "26       26        5510    3.872757    302.541284   4152.137615  13.639549   \n",
       "27       27        5199    1.910617    318.981651   3236.899083  13.625849   \n",
       "28       28        4602    1.983607    323.055556   2087.333333  13.622454   \n",
       "29       29        4882    2.473069    323.048193   4113.204819  13.622460   \n",
       "...     ...         ...         ...           ...           ...        ...   \n",
       "2117   2117       21578   33.326316  10261.165951   6105.663805   5.340695   \n",
       "2118   2118        5402    9.162375  10240.796954   5818.426396   5.357669   \n",
       "2119   2119       40790   77.519535  10306.431945   5708.960069   5.302974   \n",
       "2120   2120        3045    2.460188  10238.441176   5754.068627   5.359633   \n",
       "2121   2121       49653   81.340770  10285.521127   6033.387866   5.320399   \n",
       "2122   2122       10301   15.667061  10270.460490   5767.602180   5.332950   \n",
       "2123   2123        6291    9.179550  10272.589080   5662.729885   5.331176   \n",
       "2124   2124       20965   37.688534  10308.961089   5788.754864   5.300866   \n",
       "2125   2125        6388    8.449651  10307.177686   6139.760331   5.302352   \n",
       "2126   2126       15653   20.372761  10310.927126   5485.283401   5.299228   \n",
       "2127   2127       16829   30.831780  10328.132736   5941.197883   5.284890   \n",
       "2128   2128       13422   16.615929  10358.913732   5559.066901   5.259239   \n",
       "2129   2129        5550    3.731070  10353.433962   5485.742138   5.263805   \n",
       "2130   2130        4245    5.504295  10373.000000   5748.275281   5.247500   \n",
       "2131   2131       10978   12.562845  10387.119114   5431.947368   5.235734   \n",
       "2132   2132       20513   29.067142  10420.488889   5322.019753   5.207926   \n",
       "2133   2133       27079   42.952392  10434.401923   5413.530769   5.196332   \n",
       "2134   2134        5967    4.263467  10408.656627   5476.789157   5.217786   \n",
       "2135   2135       14340   21.321629  10466.383260   6609.242291   5.169681   \n",
       "2136   2136        7124   15.873150  10513.819149   5949.597518   5.130151   \n",
       "2137   2137      116672  265.550027  10626.811415   6037.885155   5.035991   \n",
       "2138   2138       21554   41.303679  10659.289595   5842.277457   5.008926   \n",
       "2139   2139        5877    9.776349  10712.109434   5898.377358   4.964909   \n",
       "2140   2140        9046   18.672526  10759.054206   5950.633645   4.925788   \n",
       "2141   2141       38203   75.377068  10811.594551   5894.066907   4.882005   \n",
       "2142   2142       13261   24.206876  10819.637549   5986.612777   4.875302   \n",
       "2143   2143        6120    9.720533  10839.396429   6217.064286   4.858836   \n",
       "2144   2144        6394    9.196724  10843.485714   5942.675325   4.855429   \n",
       "2145   2145        9831   19.655743  10850.855756   6098.220527   4.849287   \n",
       "2146   2146        9084   17.259957  10900.602972   5938.715499   4.807831   \n",
       "\n",
       "            lon  density                       address     address0 address1  \\\n",
       "0      5.557249     5936    Rafinduma, Sokoto, Nigeria    Rafinduma   Sokoto   \n",
       "1      5.584187     5998  Gidan Tanko, Sokoto, Nigeria  Gidan Tanko   Sokoto   \n",
       "2      5.710101     6121        Bigal, Sokoto, Nigeria        Bigal   Sokoto   \n",
       "3      5.349940     5608   Mallamawa1, Sokoto, Nigeria   Mallamawa1   Sokoto   \n",
       "4      5.489308     7223        Wauru, Sokoto, Nigeria        Wauru   Sokoto   \n",
       "5      5.410811     5759     Hasamawa, Sokoto, Nigeria     Hasamawa   Sokoto   \n",
       "6      5.534450     5546                           NaN          NaN      NaN   \n",
       "7      5.599301     5849                           NaN          NaN      NaN   \n",
       "8      5.720492     6249                           NaN          NaN      NaN   \n",
       "9      5.657674     4351                           NaN          NaN      NaN   \n",
       "10     5.817545     5889                           NaN          NaN      NaN   \n",
       "11     5.862963     4907                           NaN          NaN      NaN   \n",
       "12     5.573630     6646                           NaN          NaN      NaN   \n",
       "13     5.109103     8196                           NaN          NaN      NaN   \n",
       "14     5.725068     6715                           NaN          NaN      NaN   \n",
       "15    13.339108     5975                           NaN          NaN      NaN   \n",
       "16     5.661685     6070                           NaN          NaN      NaN   \n",
       "17     5.693853     5756                           NaN          NaN      NaN   \n",
       "18     5.778278     5571                           NaN          NaN      NaN   \n",
       "19     5.985179     7285                           NaN          NaN      NaN   \n",
       "20     4.917481     6293                           NaN          NaN      NaN   \n",
       "21     5.814845     4722                           NaN          NaN      NaN   \n",
       "22     5.688014     4763                           NaN          NaN      NaN   \n",
       "23     5.734167     5715                           NaN          NaN      NaN   \n",
       "24     6.295822     8206                           NaN          NaN      NaN   \n",
       "25     5.897755     6908                           NaN          NaN      NaN   \n",
       "26     6.129281     5886                           NaN          NaN      NaN   \n",
       "27     5.366583     5554                           NaN          NaN      NaN   \n",
       "28     4.408611     4962                           NaN          NaN      NaN   \n",
       "29     6.096837     6849                           NaN          NaN      NaN   \n",
       "...         ...      ...                           ...          ...      ...   \n",
       "2117   7.757220     3594                           NaN          NaN      NaN   \n",
       "2118   7.517855     3193                           NaN          NaN      NaN   \n",
       "2119   7.426633     2039                           NaN          NaN      NaN   \n",
       "2120   7.464224     3476                           NaN          NaN      NaN   \n",
       "2121   7.696990     3132                           NaN          NaN      NaN   \n",
       "2122   7.475502     3268                           NaN          NaN      NaN   \n",
       "2123   7.388108     2105                           NaN          NaN      NaN   \n",
       "2124   7.493129     3166                           NaN          NaN      NaN   \n",
       "2125   7.785634     3074                           NaN          NaN      NaN   \n",
       "2126   7.240236     3690                           NaN          NaN      NaN   \n",
       "2127   7.620165     1595                           NaN          NaN      NaN   \n",
       "2128   7.301722     2751                           NaN          NaN      NaN   \n",
       "2129   7.240618     4064                           NaN          NaN      NaN   \n",
       "2130   7.459396     2777                           NaN          NaN      NaN   \n",
       "2131   7.195789     3541                           NaN          NaN      NaN   \n",
       "2132   7.104183     5898                           NaN          NaN      NaN   \n",
       "2133   7.180442     6064                           NaN          NaN      NaN   \n",
       "2134   7.233158     4186                           NaN          NaN      NaN   \n",
       "2135   8.176869     3678                           NaN          NaN      NaN   \n",
       "2136   7.627165     1470                           NaN          NaN      NaN   \n",
       "2137   7.700738     1886                           NaN          NaN      NaN   \n",
       "2138   7.537731     1450                           NaN          NaN      NaN   \n",
       "2139   7.584481     1291                           NaN          NaN      NaN   \n",
       "2140   7.628028     1969                           NaN          NaN      NaN   \n",
       "2141   7.580889     1782                           NaN          NaN      NaN   \n",
       "2142   7.658011     2013                           NaN          NaN      NaN   \n",
       "2143   7.850054     2545                           NaN          NaN      NaN   \n",
       "2144   7.621396     1934                           NaN          NaN      NaN   \n",
       "2145   7.751017     1587                           NaN          NaN      NaN   \n",
       "2146   7.618096     2246                           NaN          NaN      NaN   \n",
       "\n",
       "      address2 geolocator  color  \n",
       "0      Nigeria     Photon      1  \n",
       "1      Nigeria     Photon      3  \n",
       "2      Nigeria     Photon      8  \n",
       "3      Nigeria     Photon      4  \n",
       "4      Nigeria     Photon      1  \n",
       "5      Nigeria     Photon      2  \n",
       "6          NaN        NaN      2  \n",
       "7          NaN        NaN      7  \n",
       "8          NaN        NaN      3  \n",
       "9          NaN        NaN      6  \n",
       "10         NaN        NaN      9  \n",
       "11         NaN        NaN      1  \n",
       "12         NaN        NaN      1  \n",
       "13         NaN        NaN     10  \n",
       "14         NaN        NaN      2  \n",
       "15         NaN        NaN      9  \n",
       "16         NaN        NaN      3  \n",
       "17         NaN        NaN      6  \n",
       "18         NaN        NaN      8  \n",
       "19         NaN        NaN      9  \n",
       "20         NaN        NaN      6  \n",
       "21         NaN        NaN     11  \n",
       "22         NaN        NaN      3  \n",
       "23         NaN        NaN      5  \n",
       "24         NaN        NaN      1  \n",
       "25         NaN        NaN      2  \n",
       "26         NaN        NaN     11  \n",
       "27         NaN        NaN      9  \n",
       "28         NaN        NaN     10  \n",
       "29         NaN        NaN     11  \n",
       "...        ...        ...    ...  \n",
       "2117       NaN        NaN      1  \n",
       "2118       NaN        NaN      4  \n",
       "2119       NaN        NaN      5  \n",
       "2120       NaN        NaN      5  \n",
       "2121       NaN        NaN      1  \n",
       "2122       NaN        NaN      5  \n",
       "2123       NaN        NaN      7  \n",
       "2124       NaN        NaN     10  \n",
       "2125       NaN        NaN      6  \n",
       "2126       NaN        NaN      9  \n",
       "2127       NaN        NaN      9  \n",
       "2128       NaN        NaN      9  \n",
       "2129       NaN        NaN      1  \n",
       "2130       NaN        NaN      3  \n",
       "2131       NaN        NaN      3  \n",
       "2132       NaN        NaN      5  \n",
       "2133       NaN        NaN      7  \n",
       "2134       NaN        NaN      6  \n",
       "2135       NaN        NaN      9  \n",
       "2136       NaN        NaN      1  \n",
       "2137       NaN        NaN     11  \n",
       "2138       NaN        NaN     11  \n",
       "2139       NaN        NaN      6  \n",
       "2140       NaN        NaN     10  \n",
       "2141       NaN        NaN      9  \n",
       "2142       NaN        NaN      3  \n",
       "2143       NaN        NaN     11  \n",
       "2144       NaN        NaN      1  \n",
       "2145       NaN        NaN     10  \n",
       "2146       NaN        NaN      4  \n",
       "\n",
       "[2147 rows x 14 columns]"
      ]
     },
     "execution_count": 240,
     "metadata": {},
     "output_type": "execute_result"
    },
    {
     "name": "stdout",
     "output_type": "stream",
     "text": [
      "time: 33 ms\n"
     ]
    }
   ],
   "source": [
    "dfc.apply()"
   ]
  },
  {
   "cell_type": "code",
   "execution_count": 241,
   "metadata": {
    "collapsed": true
   },
   "outputs": [
    {
     "name": "stderr",
     "output_type": "stream",
     "text": [
      "[cellevents:INFO]:starting (cellevents.py:43, time=Dec-12 20:09)\n"
     ]
    },
    {
     "ename": "TypeError",
     "evalue": "('zip argument #1 must support iteration', 'occurred at index 0')",
     "output_type": "error",
     "traceback": [
      "\u001b[1;31m---------------------------------------------------------------------------\u001b[0m",
      "\u001b[1;31mTypeError\u001b[0m                                 Traceback (most recent call last)",
      "\u001b[1;32m<ipython-input-241-0f22d2a975dc>\u001b[0m in \u001b[0;36m<module>\u001b[1;34m\u001b[0m\n\u001b[1;32m----> 1\u001b[1;33m \u001b[0mdfc\u001b[0m\u001b[1;33m.\u001b[0m\u001b[0mapply\u001b[0m\u001b[1;33m(\u001b[0m\u001b[1;32mlambda\u001b[0m \u001b[0mx\u001b[0m\u001b[1;33m:\u001b[0m \u001b[0mgpd\u001b[0m\u001b[1;33m.\u001b[0m\u001b[0mGeoSeries\u001b[0m\u001b[1;33m(\u001b[0m\u001b[0mMultiPoint\u001b[0m\u001b[1;33m(\u001b[0m\u001b[0mlist\u001b[0m\u001b[1;33m(\u001b[0m\u001b[0mzip\u001b[0m\u001b[1;33m(\u001b[0m\u001b[0mx\u001b[0m\u001b[1;33m.\u001b[0m\u001b[0mlon\u001b[0m\u001b[1;33m,\u001b[0m \u001b[0mx\u001b[0m\u001b[1;33m.\u001b[0m\u001b[0mlat\u001b[0m\u001b[1;33m)\u001b[0m\u001b[1;33m)\u001b[0m\u001b[1;33m)\u001b[0m\u001b[1;33m.\u001b[0m\u001b[0mconvex_hull\u001b[0m\u001b[1;33m)\u001b[0m\u001b[1;33m,\u001b[0m \u001b[0maxis\u001b[0m\u001b[1;33m=\u001b[0m\u001b[1;36m1\u001b[0m\u001b[1;33m)\u001b[0m\u001b[1;33m\u001b[0m\u001b[1;33m\u001b[0m\u001b[0m\n\u001b[0m",
      "\u001b[1;32m~\\Anaconda3\\lib\\site-packages\\pandas\\core\\frame.py\u001b[0m in \u001b[0;36mapply\u001b[1;34m(self, func, axis, broadcast, raw, reduce, result_type, args, **kwds)\u001b[0m\n\u001b[0;32m   6485\u001b[0m                          \u001b[0margs\u001b[0m\u001b[1;33m=\u001b[0m\u001b[0margs\u001b[0m\u001b[1;33m,\u001b[0m\u001b[1;33m\u001b[0m\u001b[1;33m\u001b[0m\u001b[0m\n\u001b[0;32m   6486\u001b[0m                          kwds=kwds)\n\u001b[1;32m-> 6487\u001b[1;33m         \u001b[1;32mreturn\u001b[0m \u001b[0mop\u001b[0m\u001b[1;33m.\u001b[0m\u001b[0mget_result\u001b[0m\u001b[1;33m(\u001b[0m\u001b[1;33m)\u001b[0m\u001b[1;33m\u001b[0m\u001b[1;33m\u001b[0m\u001b[0m\n\u001b[0m\u001b[0;32m   6488\u001b[0m \u001b[1;33m\u001b[0m\u001b[0m\n\u001b[0;32m   6489\u001b[0m     \u001b[1;32mdef\u001b[0m \u001b[0mapplymap\u001b[0m\u001b[1;33m(\u001b[0m\u001b[0mself\u001b[0m\u001b[1;33m,\u001b[0m \u001b[0mfunc\u001b[0m\u001b[1;33m)\u001b[0m\u001b[1;33m:\u001b[0m\u001b[1;33m\u001b[0m\u001b[1;33m\u001b[0m\u001b[0m\n",
      "\u001b[1;32m~\\Anaconda3\\lib\\site-packages\\pandas\\core\\apply.py\u001b[0m in \u001b[0;36mget_result\u001b[1;34m(self)\u001b[0m\n\u001b[0;32m    149\u001b[0m             \u001b[1;32mreturn\u001b[0m \u001b[0mself\u001b[0m\u001b[1;33m.\u001b[0m\u001b[0mapply_raw\u001b[0m\u001b[1;33m(\u001b[0m\u001b[1;33m)\u001b[0m\u001b[1;33m\u001b[0m\u001b[1;33m\u001b[0m\u001b[0m\n\u001b[0;32m    150\u001b[0m \u001b[1;33m\u001b[0m\u001b[0m\n\u001b[1;32m--> 151\u001b[1;33m         \u001b[1;32mreturn\u001b[0m \u001b[0mself\u001b[0m\u001b[1;33m.\u001b[0m\u001b[0mapply_standard\u001b[0m\u001b[1;33m(\u001b[0m\u001b[1;33m)\u001b[0m\u001b[1;33m\u001b[0m\u001b[1;33m\u001b[0m\u001b[0m\n\u001b[0m\u001b[0;32m    152\u001b[0m \u001b[1;33m\u001b[0m\u001b[0m\n\u001b[0;32m    153\u001b[0m     \u001b[1;32mdef\u001b[0m \u001b[0mapply_empty_result\u001b[0m\u001b[1;33m(\u001b[0m\u001b[0mself\u001b[0m\u001b[1;33m)\u001b[0m\u001b[1;33m:\u001b[0m\u001b[1;33m\u001b[0m\u001b[1;33m\u001b[0m\u001b[0m\n",
      "\u001b[1;32m~\\Anaconda3\\lib\\site-packages\\pandas\\core\\apply.py\u001b[0m in \u001b[0;36mapply_standard\u001b[1;34m(self)\u001b[0m\n\u001b[0;32m    255\u001b[0m \u001b[1;33m\u001b[0m\u001b[0m\n\u001b[0;32m    256\u001b[0m         \u001b[1;31m# compute the result using the series generator\u001b[0m\u001b[1;33m\u001b[0m\u001b[1;33m\u001b[0m\u001b[1;33m\u001b[0m\u001b[0m\n\u001b[1;32m--> 257\u001b[1;33m         \u001b[0mself\u001b[0m\u001b[1;33m.\u001b[0m\u001b[0mapply_series_generator\u001b[0m\u001b[1;33m(\u001b[0m\u001b[1;33m)\u001b[0m\u001b[1;33m\u001b[0m\u001b[1;33m\u001b[0m\u001b[0m\n\u001b[0m\u001b[0;32m    258\u001b[0m \u001b[1;33m\u001b[0m\u001b[0m\n\u001b[0;32m    259\u001b[0m         \u001b[1;31m# wrap results\u001b[0m\u001b[1;33m\u001b[0m\u001b[1;33m\u001b[0m\u001b[1;33m\u001b[0m\u001b[0m\n",
      "\u001b[1;32m~\\Anaconda3\\lib\\site-packages\\pandas\\core\\apply.py\u001b[0m in \u001b[0;36mapply_series_generator\u001b[1;34m(self)\u001b[0m\n\u001b[0;32m    284\u001b[0m             \u001b[1;32mtry\u001b[0m\u001b[1;33m:\u001b[0m\u001b[1;33m\u001b[0m\u001b[1;33m\u001b[0m\u001b[0m\n\u001b[0;32m    285\u001b[0m                 \u001b[1;32mfor\u001b[0m \u001b[0mi\u001b[0m\u001b[1;33m,\u001b[0m \u001b[0mv\u001b[0m \u001b[1;32min\u001b[0m \u001b[0menumerate\u001b[0m\u001b[1;33m(\u001b[0m\u001b[0mseries_gen\u001b[0m\u001b[1;33m)\u001b[0m\u001b[1;33m:\u001b[0m\u001b[1;33m\u001b[0m\u001b[1;33m\u001b[0m\u001b[0m\n\u001b[1;32m--> 286\u001b[1;33m                     \u001b[0mresults\u001b[0m\u001b[1;33m[\u001b[0m\u001b[0mi\u001b[0m\u001b[1;33m]\u001b[0m \u001b[1;33m=\u001b[0m \u001b[0mself\u001b[0m\u001b[1;33m.\u001b[0m\u001b[0mf\u001b[0m\u001b[1;33m(\u001b[0m\u001b[0mv\u001b[0m\u001b[1;33m)\u001b[0m\u001b[1;33m\u001b[0m\u001b[1;33m\u001b[0m\u001b[0m\n\u001b[0m\u001b[0;32m    287\u001b[0m                     \u001b[0mkeys\u001b[0m\u001b[1;33m.\u001b[0m\u001b[0mappend\u001b[0m\u001b[1;33m(\u001b[0m\u001b[0mv\u001b[0m\u001b[1;33m.\u001b[0m\u001b[0mname\u001b[0m\u001b[1;33m)\u001b[0m\u001b[1;33m\u001b[0m\u001b[1;33m\u001b[0m\u001b[0m\n\u001b[0;32m    288\u001b[0m             \u001b[1;32mexcept\u001b[0m \u001b[0mException\u001b[0m \u001b[1;32mas\u001b[0m \u001b[0me\u001b[0m\u001b[1;33m:\u001b[0m\u001b[1;33m\u001b[0m\u001b[1;33m\u001b[0m\u001b[0m\n",
      "\u001b[1;32m<ipython-input-241-0f22d2a975dc>\u001b[0m in \u001b[0;36m<lambda>\u001b[1;34m(x)\u001b[0m\n\u001b[1;32m----> 1\u001b[1;33m \u001b[0mdfc\u001b[0m\u001b[1;33m.\u001b[0m\u001b[0mapply\u001b[0m\u001b[1;33m(\u001b[0m\u001b[1;32mlambda\u001b[0m \u001b[0mx\u001b[0m\u001b[1;33m:\u001b[0m \u001b[0mgpd\u001b[0m\u001b[1;33m.\u001b[0m\u001b[0mGeoSeries\u001b[0m\u001b[1;33m(\u001b[0m\u001b[0mMultiPoint\u001b[0m\u001b[1;33m(\u001b[0m\u001b[0mlist\u001b[0m\u001b[1;33m(\u001b[0m\u001b[0mzip\u001b[0m\u001b[1;33m(\u001b[0m\u001b[0mx\u001b[0m\u001b[1;33m.\u001b[0m\u001b[0mlon\u001b[0m\u001b[1;33m,\u001b[0m \u001b[0mx\u001b[0m\u001b[1;33m.\u001b[0m\u001b[0mlat\u001b[0m\u001b[1;33m)\u001b[0m\u001b[1;33m)\u001b[0m\u001b[1;33m)\u001b[0m\u001b[1;33m.\u001b[0m\u001b[0mconvex_hull\u001b[0m\u001b[1;33m)\u001b[0m\u001b[1;33m,\u001b[0m \u001b[0maxis\u001b[0m\u001b[1;33m=\u001b[0m\u001b[1;36m1\u001b[0m\u001b[1;33m)\u001b[0m\u001b[1;33m\u001b[0m\u001b[1;33m\u001b[0m\u001b[0m\n\u001b[0m",
      "\u001b[1;31mTypeError\u001b[0m: ('zip argument #1 must support iteration', 'occurred at index 0')"
     ]
    },
    {
     "name": "stdout",
     "output_type": "stream",
     "text": [
      "time: 32 ms\n"
     ]
    }
   ],
   "source": [
    "dfc.apply(lambda x: gpd.GeoSeries(MultiPoint(list(zip(x.lon, x.lat))).convex_hull), axis=1)"
   ]
  },
  {
   "cell_type": "code",
   "execution_count": 231,
   "metadata": {},
   "outputs": [
    {
     "name": "stderr",
     "output_type": "stream",
     "text": [
      "[cellevents:INFO]:starting (cellevents.py:43, time=Dec-12 19:58)\n"
     ]
    },
    {
     "name": "stdout",
     "output_type": "stream",
     "text": [
      "time: 4 ms\n"
     ]
    }
   ],
   "source": []
  },
  {
   "cell_type": "code",
   "execution_count": 204,
   "metadata": {},
   "outputs": [
    {
     "name": "stderr",
     "output_type": "stream",
     "text": [
      "[cellevents:INFO]:starting (cellevents.py:43, time=Dec-12 19:50)\n"
     ]
    },
    {
     "data": {
      "text/plain": [
       "0.09266630189865996"
      ]
     },
     "execution_count": 204,
     "metadata": {},
     "output_type": "execute_result"
    },
    {
     "name": "stdout",
     "output_type": "stream",
     "text": [
      "time: 3 ms\n"
     ]
    }
   ],
   "source": [
    "gpd.GeoSeries(hull)"
   ]
  },
  {
   "cell_type": "code",
   "execution_count": 203,
   "metadata": {},
   "outputs": [
    {
     "name": "stderr",
     "output_type": "stream",
     "text": [
      "[cellevents:INFO]:starting (cellevents.py:43, time=Dec-12 19:49)\n"
     ]
    },
    {
     "data": {
      "text/plain": [
       "0.02479434068921467"
      ]
     },
     "execution_count": 203,
     "metadata": {},
     "output_type": "execute_result"
    },
    {
     "name": "stdout",
     "output_type": "stream",
     "text": [
      "time: 2 ms\n"
     ]
    }
   ],
   "source": [
    "7.91666660299415e-05*(6371/360)**2"
   ]
  },
  {
   "cell_type": "code",
   "execution_count": 192,
   "metadata": {},
   "outputs": [
    {
     "name": "stderr",
     "output_type": "stream",
     "text": [
      "[cellevents:INFO]:starting (cellevents.py:43, time=Dec-12 19:40)\n"
     ]
    },
    {
     "data": {
      "text/plain": [
       "12365.342750358494"
      ]
     },
     "execution_count": 192,
     "metadata": {},
     "output_type": "execute_result"
    },
    {
     "name": "stdout",
     "output_type": "stream",
     "text": [
      "time: 2 ms\n"
     ]
    }
   ],
   "source": [
    "0.9789229598633893/7.91666660299415e-05"
   ]
  },
  {
   "cell_type": "code",
   "execution_count": 128,
   "metadata": {},
   "outputs": [
    {
     "name": "stderr",
     "output_type": "stream",
     "text": [
      "[cellevents:INFO]:starting (cellevents.py:43, time=Dec-12 19:02)\n"
     ]
    },
    {
     "data": {
      "application/vnd.plotly.v1+json": {
       "config": {
        "plotlyServerURL": "https://plot.ly"
       },
       "data": [
        {
         "hoverlabel": {
          "namelength": 0
         },
         "hovertemplate": "x=%{x}<br>y=%{y}",
         "legendgroup": "",
         "marker": {
          "color": "#636efa",
          "symbol": "circle"
         },
         "mode": "markers",
         "name": "",
         "showlegend": false,
         "type": "scatter",
         "x": [
          3462,
          3463,
          3462,
          3463,
          3465,
          3466,
          3467,
          3456,
          3457,
          3464,
          3465,
          3466,
          3467,
          3456,
          3457,
          3462,
          3463,
          3464,
          3465,
          3466,
          3467,
          3468,
          3457,
          3460,
          3461,
          3462,
          3463,
          3464,
          3465,
          3466,
          3467,
          3468,
          3470,
          3471,
          3472,
          3460,
          3461,
          3462,
          3463,
          3464,
          3465,
          3466,
          3467,
          3468,
          3470,
          3471,
          3472,
          3473,
          3460,
          3461,
          3462,
          3463,
          3464,
          3465,
          3466,
          3468,
          3470,
          3471,
          3472,
          3460,
          3461,
          3462,
          3463,
          3464,
          3465,
          3466,
          3467,
          3468,
          3469,
          3470,
          3471,
          3472,
          3473,
          3460,
          3461,
          3463,
          3464,
          3465,
          3466,
          3467,
          3468,
          3469,
          3470,
          3471,
          3472,
          3473,
          3467,
          3468,
          3469,
          3470,
          3471,
          3472,
          3472
         ],
         "xaxis": "x",
         "y": [
          -32,
          -32,
          -33,
          -33,
          -33,
          -33,
          -33,
          -34,
          -34,
          -34,
          -34,
          -34,
          -34,
          -35,
          -35,
          -35,
          -35,
          -35,
          -35,
          -35,
          -35,
          -35,
          -36,
          -36,
          -36,
          -36,
          -36,
          -36,
          -36,
          -36,
          -36,
          -36,
          -36,
          -36,
          -36,
          -37,
          -37,
          -37,
          -37,
          -37,
          -37,
          -37,
          -37,
          -37,
          -37,
          -37,
          -37,
          -37,
          -38,
          -38,
          -38,
          -38,
          -38,
          -38,
          -38,
          -38,
          -38,
          -38,
          -38,
          -39,
          -39,
          -39,
          -39,
          -39,
          -39,
          -39,
          -39,
          -39,
          -39,
          -39,
          -39,
          -39,
          -39,
          -40,
          -40,
          -40,
          -40,
          -40,
          -40,
          -40,
          -40,
          -40,
          -40,
          -40,
          -40,
          -40,
          -41,
          -41,
          -41,
          -41,
          -41,
          -41,
          -42
         ],
         "yaxis": "y"
        }
       ],
       "layout": {
        "height": 600,
        "legend": {
         "tracegroupgap": 0
        },
        "margin": {
         "t": 60
        },
        "template": {
         "data": {
          "bar": [
           {
            "error_x": {
             "color": "#2a3f5f"
            },
            "error_y": {
             "color": "#2a3f5f"
            },
            "marker": {
             "line": {
              "color": "#E5ECF6",
              "width": 0.5
             }
            },
            "type": "bar"
           }
          ],
          "barpolar": [
           {
            "marker": {
             "line": {
              "color": "#E5ECF6",
              "width": 0.5
             }
            },
            "type": "barpolar"
           }
          ],
          "carpet": [
           {
            "aaxis": {
             "endlinecolor": "#2a3f5f",
             "gridcolor": "white",
             "linecolor": "white",
             "minorgridcolor": "white",
             "startlinecolor": "#2a3f5f"
            },
            "baxis": {
             "endlinecolor": "#2a3f5f",
             "gridcolor": "white",
             "linecolor": "white",
             "minorgridcolor": "white",
             "startlinecolor": "#2a3f5f"
            },
            "type": "carpet"
           }
          ],
          "choropleth": [
           {
            "colorbar": {
             "outlinewidth": 0,
             "ticks": ""
            },
            "type": "choropleth"
           }
          ],
          "contour": [
           {
            "colorbar": {
             "outlinewidth": 0,
             "ticks": ""
            },
            "colorscale": [
             [
              0,
              "#0d0887"
             ],
             [
              0.1111111111111111,
              "#46039f"
             ],
             [
              0.2222222222222222,
              "#7201a8"
             ],
             [
              0.3333333333333333,
              "#9c179e"
             ],
             [
              0.4444444444444444,
              "#bd3786"
             ],
             [
              0.5555555555555556,
              "#d8576b"
             ],
             [
              0.6666666666666666,
              "#ed7953"
             ],
             [
              0.7777777777777778,
              "#fb9f3a"
             ],
             [
              0.8888888888888888,
              "#fdca26"
             ],
             [
              1,
              "#f0f921"
             ]
            ],
            "type": "contour"
           }
          ],
          "contourcarpet": [
           {
            "colorbar": {
             "outlinewidth": 0,
             "ticks": ""
            },
            "type": "contourcarpet"
           }
          ],
          "heatmap": [
           {
            "colorbar": {
             "outlinewidth": 0,
             "ticks": ""
            },
            "colorscale": [
             [
              0,
              "#0d0887"
             ],
             [
              0.1111111111111111,
              "#46039f"
             ],
             [
              0.2222222222222222,
              "#7201a8"
             ],
             [
              0.3333333333333333,
              "#9c179e"
             ],
             [
              0.4444444444444444,
              "#bd3786"
             ],
             [
              0.5555555555555556,
              "#d8576b"
             ],
             [
              0.6666666666666666,
              "#ed7953"
             ],
             [
              0.7777777777777778,
              "#fb9f3a"
             ],
             [
              0.8888888888888888,
              "#fdca26"
             ],
             [
              1,
              "#f0f921"
             ]
            ],
            "type": "heatmap"
           }
          ],
          "heatmapgl": [
           {
            "colorbar": {
             "outlinewidth": 0,
             "ticks": ""
            },
            "colorscale": [
             [
              0,
              "#0d0887"
             ],
             [
              0.1111111111111111,
              "#46039f"
             ],
             [
              0.2222222222222222,
              "#7201a8"
             ],
             [
              0.3333333333333333,
              "#9c179e"
             ],
             [
              0.4444444444444444,
              "#bd3786"
             ],
             [
              0.5555555555555556,
              "#d8576b"
             ],
             [
              0.6666666666666666,
              "#ed7953"
             ],
             [
              0.7777777777777778,
              "#fb9f3a"
             ],
             [
              0.8888888888888888,
              "#fdca26"
             ],
             [
              1,
              "#f0f921"
             ]
            ],
            "type": "heatmapgl"
           }
          ],
          "histogram": [
           {
            "marker": {
             "colorbar": {
              "outlinewidth": 0,
              "ticks": ""
             }
            },
            "type": "histogram"
           }
          ],
          "histogram2d": [
           {
            "colorbar": {
             "outlinewidth": 0,
             "ticks": ""
            },
            "colorscale": [
             [
              0,
              "#0d0887"
             ],
             [
              0.1111111111111111,
              "#46039f"
             ],
             [
              0.2222222222222222,
              "#7201a8"
             ],
             [
              0.3333333333333333,
              "#9c179e"
             ],
             [
              0.4444444444444444,
              "#bd3786"
             ],
             [
              0.5555555555555556,
              "#d8576b"
             ],
             [
              0.6666666666666666,
              "#ed7953"
             ],
             [
              0.7777777777777778,
              "#fb9f3a"
             ],
             [
              0.8888888888888888,
              "#fdca26"
             ],
             [
              1,
              "#f0f921"
             ]
            ],
            "type": "histogram2d"
           }
          ],
          "histogram2dcontour": [
           {
            "colorbar": {
             "outlinewidth": 0,
             "ticks": ""
            },
            "colorscale": [
             [
              0,
              "#0d0887"
             ],
             [
              0.1111111111111111,
              "#46039f"
             ],
             [
              0.2222222222222222,
              "#7201a8"
             ],
             [
              0.3333333333333333,
              "#9c179e"
             ],
             [
              0.4444444444444444,
              "#bd3786"
             ],
             [
              0.5555555555555556,
              "#d8576b"
             ],
             [
              0.6666666666666666,
              "#ed7953"
             ],
             [
              0.7777777777777778,
              "#fb9f3a"
             ],
             [
              0.8888888888888888,
              "#fdca26"
             ],
             [
              1,
              "#f0f921"
             ]
            ],
            "type": "histogram2dcontour"
           }
          ],
          "mesh3d": [
           {
            "colorbar": {
             "outlinewidth": 0,
             "ticks": ""
            },
            "type": "mesh3d"
           }
          ],
          "parcoords": [
           {
            "line": {
             "colorbar": {
              "outlinewidth": 0,
              "ticks": ""
             }
            },
            "type": "parcoords"
           }
          ],
          "scatter": [
           {
            "marker": {
             "colorbar": {
              "outlinewidth": 0,
              "ticks": ""
             }
            },
            "type": "scatter"
           }
          ],
          "scatter3d": [
           {
            "line": {
             "colorbar": {
              "outlinewidth": 0,
              "ticks": ""
             }
            },
            "marker": {
             "colorbar": {
              "outlinewidth": 0,
              "ticks": ""
             }
            },
            "type": "scatter3d"
           }
          ],
          "scattercarpet": [
           {
            "marker": {
             "colorbar": {
              "outlinewidth": 0,
              "ticks": ""
             }
            },
            "type": "scattercarpet"
           }
          ],
          "scattergeo": [
           {
            "marker": {
             "colorbar": {
              "outlinewidth": 0,
              "ticks": ""
             }
            },
            "type": "scattergeo"
           }
          ],
          "scattergl": [
           {
            "marker": {
             "colorbar": {
              "outlinewidth": 0,
              "ticks": ""
             }
            },
            "type": "scattergl"
           }
          ],
          "scattermapbox": [
           {
            "marker": {
             "colorbar": {
              "outlinewidth": 0,
              "ticks": ""
             }
            },
            "type": "scattermapbox"
           }
          ],
          "scatterpolar": [
           {
            "marker": {
             "colorbar": {
              "outlinewidth": 0,
              "ticks": ""
             }
            },
            "type": "scatterpolar"
           }
          ],
          "scatterpolargl": [
           {
            "marker": {
             "colorbar": {
              "outlinewidth": 0,
              "ticks": ""
             }
            },
            "type": "scatterpolargl"
           }
          ],
          "scatterternary": [
           {
            "marker": {
             "colorbar": {
              "outlinewidth": 0,
              "ticks": ""
             }
            },
            "type": "scatterternary"
           }
          ],
          "surface": [
           {
            "colorbar": {
             "outlinewidth": 0,
             "ticks": ""
            },
            "colorscale": [
             [
              0,
              "#0d0887"
             ],
             [
              0.1111111111111111,
              "#46039f"
             ],
             [
              0.2222222222222222,
              "#7201a8"
             ],
             [
              0.3333333333333333,
              "#9c179e"
             ],
             [
              0.4444444444444444,
              "#bd3786"
             ],
             [
              0.5555555555555556,
              "#d8576b"
             ],
             [
              0.6666666666666666,
              "#ed7953"
             ],
             [
              0.7777777777777778,
              "#fb9f3a"
             ],
             [
              0.8888888888888888,
              "#fdca26"
             ],
             [
              1,
              "#f0f921"
             ]
            ],
            "type": "surface"
           }
          ],
          "table": [
           {
            "cells": {
             "fill": {
              "color": "#EBF0F8"
             },
             "line": {
              "color": "white"
             }
            },
            "header": {
             "fill": {
              "color": "#C8D4E3"
             },
             "line": {
              "color": "white"
             }
            },
            "type": "table"
           }
          ]
         },
         "layout": {
          "annotationdefaults": {
           "arrowcolor": "#2a3f5f",
           "arrowhead": 0,
           "arrowwidth": 1
          },
          "colorscale": {
           "diverging": [
            [
             0,
             "#8e0152"
            ],
            [
             0.1,
             "#c51b7d"
            ],
            [
             0.2,
             "#de77ae"
            ],
            [
             0.3,
             "#f1b6da"
            ],
            [
             0.4,
             "#fde0ef"
            ],
            [
             0.5,
             "#f7f7f7"
            ],
            [
             0.6,
             "#e6f5d0"
            ],
            [
             0.7,
             "#b8e186"
            ],
            [
             0.8,
             "#7fbc41"
            ],
            [
             0.9,
             "#4d9221"
            ],
            [
             1,
             "#276419"
            ]
           ],
           "sequential": [
            [
             0,
             "#0d0887"
            ],
            [
             0.1111111111111111,
             "#46039f"
            ],
            [
             0.2222222222222222,
             "#7201a8"
            ],
            [
             0.3333333333333333,
             "#9c179e"
            ],
            [
             0.4444444444444444,
             "#bd3786"
            ],
            [
             0.5555555555555556,
             "#d8576b"
            ],
            [
             0.6666666666666666,
             "#ed7953"
            ],
            [
             0.7777777777777778,
             "#fb9f3a"
            ],
            [
             0.8888888888888888,
             "#fdca26"
            ],
            [
             1,
             "#f0f921"
            ]
           ],
           "sequentialminus": [
            [
             0,
             "#0d0887"
            ],
            [
             0.1111111111111111,
             "#46039f"
            ],
            [
             0.2222222222222222,
             "#7201a8"
            ],
            [
             0.3333333333333333,
             "#9c179e"
            ],
            [
             0.4444444444444444,
             "#bd3786"
            ],
            [
             0.5555555555555556,
             "#d8576b"
            ],
            [
             0.6666666666666666,
             "#ed7953"
            ],
            [
             0.7777777777777778,
             "#fb9f3a"
            ],
            [
             0.8888888888888888,
             "#fdca26"
            ],
            [
             1,
             "#f0f921"
            ]
           ]
          },
          "colorway": [
           "#636efa",
           "#EF553B",
           "#00cc96",
           "#ab63fa",
           "#FFA15A",
           "#19d3f3",
           "#FF6692",
           "#B6E880",
           "#FF97FF",
           "#FECB52"
          ],
          "font": {
           "color": "#2a3f5f"
          },
          "geo": {
           "bgcolor": "white",
           "lakecolor": "white",
           "landcolor": "#E5ECF6",
           "showlakes": true,
           "showland": true,
           "subunitcolor": "white"
          },
          "hoverlabel": {
           "align": "left"
          },
          "hovermode": "closest",
          "mapbox": {
           "style": "light"
          },
          "paper_bgcolor": "white",
          "plot_bgcolor": "#E5ECF6",
          "polar": {
           "angularaxis": {
            "gridcolor": "white",
            "linecolor": "white",
            "ticks": ""
           },
           "bgcolor": "#E5ECF6",
           "radialaxis": {
            "gridcolor": "white",
            "linecolor": "white",
            "ticks": ""
           }
          },
          "scene": {
           "xaxis": {
            "backgroundcolor": "#E5ECF6",
            "gridcolor": "white",
            "gridwidth": 2,
            "linecolor": "white",
            "showbackground": true,
            "ticks": "",
            "zerolinecolor": "white"
           },
           "yaxis": {
            "backgroundcolor": "#E5ECF6",
            "gridcolor": "white",
            "gridwidth": 2,
            "linecolor": "white",
            "showbackground": true,
            "ticks": "",
            "zerolinecolor": "white"
           },
           "zaxis": {
            "backgroundcolor": "#E5ECF6",
            "gridcolor": "white",
            "gridwidth": 2,
            "linecolor": "white",
            "showbackground": true,
            "ticks": "",
            "zerolinecolor": "white"
           }
          },
          "shapedefaults": {
           "line": {
            "color": "#2a3f5f"
           }
          },
          "ternary": {
           "aaxis": {
            "gridcolor": "white",
            "linecolor": "white",
            "ticks": ""
           },
           "baxis": {
            "gridcolor": "white",
            "linecolor": "white",
            "ticks": ""
           },
           "bgcolor": "#E5ECF6",
           "caxis": {
            "gridcolor": "white",
            "linecolor": "white",
            "ticks": ""
           }
          },
          "title": {
           "x": 0.05
          },
          "xaxis": {
           "automargin": true,
           "gridcolor": "white",
           "linecolor": "white",
           "ticks": "",
           "zerolinecolor": "white",
           "zerolinewidth": 2
          },
          "yaxis": {
           "automargin": true,
           "gridcolor": "white",
           "linecolor": "white",
           "ticks": "",
           "zerolinecolor": "white",
           "zerolinewidth": 2
          }
         }
        },
        "xaxis": {
         "anchor": "y",
         "domain": [
          0,
          0.98
         ],
         "title": {
          "text": "x"
         }
        },
        "yaxis": {
         "anchor": "x",
         "domain": [
          0,
          1
         ],
         "title": {
          "text": "y"
         }
        }
       }
      },
      "text/html": [
       "<div>\n",
       "        \n",
       "        \n",
       "            <div id=\"7f6f6388-0855-4104-b4ab-fedaaa42bcbe\" class=\"plotly-graph-div\" style=\"height:600px; width:100%;\"></div>\n",
       "            <script type=\"text/javascript\">\n",
       "                require([\"plotly\"], function(Plotly) {\n",
       "                    window.PLOTLYENV=window.PLOTLYENV || {};\n",
       "                    \n",
       "                if (document.getElementById(\"7f6f6388-0855-4104-b4ab-fedaaa42bcbe\")) {\n",
       "                    Plotly.newPlot(\n",
       "                        '7f6f6388-0855-4104-b4ab-fedaaa42bcbe',\n",
       "                        [{\"hoverlabel\": {\"namelength\": 0}, \"hovertemplate\": \"x=%{x}<br>y=%{y}\", \"legendgroup\": \"\", \"marker\": {\"color\": \"#636efa\", \"symbol\": \"circle\"}, \"mode\": \"markers\", \"name\": \"\", \"showlegend\": false, \"type\": \"scatter\", \"x\": [3462, 3463, 3462, 3463, 3465, 3466, 3467, 3456, 3457, 3464, 3465, 3466, 3467, 3456, 3457, 3462, 3463, 3464, 3465, 3466, 3467, 3468, 3457, 3460, 3461, 3462, 3463, 3464, 3465, 3466, 3467, 3468, 3470, 3471, 3472, 3460, 3461, 3462, 3463, 3464, 3465, 3466, 3467, 3468, 3470, 3471, 3472, 3473, 3460, 3461, 3462, 3463, 3464, 3465, 3466, 3468, 3470, 3471, 3472, 3460, 3461, 3462, 3463, 3464, 3465, 3466, 3467, 3468, 3469, 3470, 3471, 3472, 3473, 3460, 3461, 3463, 3464, 3465, 3466, 3467, 3468, 3469, 3470, 3471, 3472, 3473, 3467, 3468, 3469, 3470, 3471, 3472, 3472], \"xaxis\": \"x\", \"y\": [-32, -32, -33, -33, -33, -33, -33, -34, -34, -34, -34, -34, -34, -35, -35, -35, -35, -35, -35, -35, -35, -35, -36, -36, -36, -36, -36, -36, -36, -36, -36, -36, -36, -36, -36, -37, -37, -37, -37, -37, -37, -37, -37, -37, -37, -37, -37, -37, -38, -38, -38, -38, -38, -38, -38, -38, -38, -38, -38, -39, -39, -39, -39, -39, -39, -39, -39, -39, -39, -39, -39, -39, -39, -40, -40, -40, -40, -40, -40, -40, -40, -40, -40, -40, -40, -40, -41, -41, -41, -41, -41, -41, -42], \"yaxis\": \"y\"}],\n",
       "                        {\"height\": 600, \"legend\": {\"tracegroupgap\": 0}, \"margin\": {\"t\": 60}, \"template\": {\"data\": {\"bar\": [{\"error_x\": {\"color\": \"#2a3f5f\"}, \"error_y\": {\"color\": \"#2a3f5f\"}, \"marker\": {\"line\": {\"color\": \"#E5ECF6\", \"width\": 0.5}}, \"type\": \"bar\"}], \"barpolar\": [{\"marker\": {\"line\": {\"color\": \"#E5ECF6\", \"width\": 0.5}}, \"type\": \"barpolar\"}], \"carpet\": [{\"aaxis\": {\"endlinecolor\": \"#2a3f5f\", \"gridcolor\": \"white\", \"linecolor\": \"white\", \"minorgridcolor\": \"white\", \"startlinecolor\": \"#2a3f5f\"}, \"baxis\": {\"endlinecolor\": \"#2a3f5f\", \"gridcolor\": \"white\", \"linecolor\": \"white\", \"minorgridcolor\": \"white\", \"startlinecolor\": \"#2a3f5f\"}, \"type\": \"carpet\"}], \"choropleth\": [{\"colorbar\": {\"outlinewidth\": 0, \"ticks\": \"\"}, \"type\": \"choropleth\"}], \"contour\": [{\"colorbar\": {\"outlinewidth\": 0, \"ticks\": \"\"}, \"colorscale\": [[0.0, \"#0d0887\"], [0.1111111111111111, \"#46039f\"], [0.2222222222222222, \"#7201a8\"], [0.3333333333333333, \"#9c179e\"], [0.4444444444444444, \"#bd3786\"], [0.5555555555555556, \"#d8576b\"], [0.6666666666666666, \"#ed7953\"], [0.7777777777777778, \"#fb9f3a\"], [0.8888888888888888, \"#fdca26\"], [1.0, \"#f0f921\"]], \"type\": \"contour\"}], \"contourcarpet\": [{\"colorbar\": {\"outlinewidth\": 0, \"ticks\": \"\"}, \"type\": \"contourcarpet\"}], \"heatmap\": [{\"colorbar\": {\"outlinewidth\": 0, \"ticks\": \"\"}, \"colorscale\": [[0.0, \"#0d0887\"], [0.1111111111111111, \"#46039f\"], [0.2222222222222222, \"#7201a8\"], [0.3333333333333333, \"#9c179e\"], [0.4444444444444444, \"#bd3786\"], [0.5555555555555556, \"#d8576b\"], [0.6666666666666666, \"#ed7953\"], [0.7777777777777778, \"#fb9f3a\"], [0.8888888888888888, \"#fdca26\"], [1.0, \"#f0f921\"]], \"type\": \"heatmap\"}], \"heatmapgl\": [{\"colorbar\": {\"outlinewidth\": 0, \"ticks\": \"\"}, \"colorscale\": [[0.0, \"#0d0887\"], [0.1111111111111111, \"#46039f\"], [0.2222222222222222, \"#7201a8\"], [0.3333333333333333, \"#9c179e\"], [0.4444444444444444, \"#bd3786\"], [0.5555555555555556, \"#d8576b\"], [0.6666666666666666, \"#ed7953\"], [0.7777777777777778, \"#fb9f3a\"], [0.8888888888888888, \"#fdca26\"], [1.0, \"#f0f921\"]], \"type\": \"heatmapgl\"}], \"histogram\": [{\"marker\": {\"colorbar\": {\"outlinewidth\": 0, \"ticks\": \"\"}}, \"type\": \"histogram\"}], \"histogram2d\": [{\"colorbar\": {\"outlinewidth\": 0, \"ticks\": \"\"}, \"colorscale\": [[0.0, \"#0d0887\"], [0.1111111111111111, \"#46039f\"], [0.2222222222222222, \"#7201a8\"], [0.3333333333333333, \"#9c179e\"], [0.4444444444444444, \"#bd3786\"], [0.5555555555555556, \"#d8576b\"], [0.6666666666666666, \"#ed7953\"], [0.7777777777777778, \"#fb9f3a\"], [0.8888888888888888, \"#fdca26\"], [1.0, \"#f0f921\"]], \"type\": \"histogram2d\"}], \"histogram2dcontour\": [{\"colorbar\": {\"outlinewidth\": 0, \"ticks\": \"\"}, \"colorscale\": [[0.0, \"#0d0887\"], [0.1111111111111111, \"#46039f\"], [0.2222222222222222, \"#7201a8\"], [0.3333333333333333, \"#9c179e\"], [0.4444444444444444, \"#bd3786\"], [0.5555555555555556, \"#d8576b\"], [0.6666666666666666, \"#ed7953\"], [0.7777777777777778, \"#fb9f3a\"], [0.8888888888888888, \"#fdca26\"], [1.0, \"#f0f921\"]], \"type\": \"histogram2dcontour\"}], \"mesh3d\": [{\"colorbar\": {\"outlinewidth\": 0, \"ticks\": \"\"}, \"type\": \"mesh3d\"}], \"parcoords\": [{\"line\": {\"colorbar\": {\"outlinewidth\": 0, \"ticks\": \"\"}}, \"type\": \"parcoords\"}], \"scatter\": [{\"marker\": {\"colorbar\": {\"outlinewidth\": 0, \"ticks\": \"\"}}, \"type\": \"scatter\"}], \"scatter3d\": [{\"line\": {\"colorbar\": {\"outlinewidth\": 0, \"ticks\": \"\"}}, \"marker\": {\"colorbar\": {\"outlinewidth\": 0, \"ticks\": \"\"}}, \"type\": \"scatter3d\"}], \"scattercarpet\": [{\"marker\": {\"colorbar\": {\"outlinewidth\": 0, \"ticks\": \"\"}}, \"type\": \"scattercarpet\"}], \"scattergeo\": [{\"marker\": {\"colorbar\": {\"outlinewidth\": 0, \"ticks\": \"\"}}, \"type\": \"scattergeo\"}], \"scattergl\": [{\"marker\": {\"colorbar\": {\"outlinewidth\": 0, \"ticks\": \"\"}}, \"type\": \"scattergl\"}], \"scattermapbox\": [{\"marker\": {\"colorbar\": {\"outlinewidth\": 0, \"ticks\": \"\"}}, \"type\": \"scattermapbox\"}], \"scatterpolar\": [{\"marker\": {\"colorbar\": {\"outlinewidth\": 0, \"ticks\": \"\"}}, \"type\": \"scatterpolar\"}], \"scatterpolargl\": [{\"marker\": {\"colorbar\": {\"outlinewidth\": 0, \"ticks\": \"\"}}, \"type\": \"scatterpolargl\"}], \"scatterternary\": [{\"marker\": {\"colorbar\": {\"outlinewidth\": 0, \"ticks\": \"\"}}, \"type\": \"scatterternary\"}], \"surface\": [{\"colorbar\": {\"outlinewidth\": 0, \"ticks\": \"\"}, \"colorscale\": [[0.0, \"#0d0887\"], [0.1111111111111111, \"#46039f\"], [0.2222222222222222, \"#7201a8\"], [0.3333333333333333, \"#9c179e\"], [0.4444444444444444, \"#bd3786\"], [0.5555555555555556, \"#d8576b\"], [0.6666666666666666, \"#ed7953\"], [0.7777777777777778, \"#fb9f3a\"], [0.8888888888888888, \"#fdca26\"], [1.0, \"#f0f921\"]], \"type\": \"surface\"}], \"table\": [{\"cells\": {\"fill\": {\"color\": \"#EBF0F8\"}, \"line\": {\"color\": \"white\"}}, \"header\": {\"fill\": {\"color\": \"#C8D4E3\"}, \"line\": {\"color\": \"white\"}}, \"type\": \"table\"}]}, \"layout\": {\"annotationdefaults\": {\"arrowcolor\": \"#2a3f5f\", \"arrowhead\": 0, \"arrowwidth\": 1}, \"colorscale\": {\"diverging\": [[0, \"#8e0152\"], [0.1, \"#c51b7d\"], [0.2, \"#de77ae\"], [0.3, \"#f1b6da\"], [0.4, \"#fde0ef\"], [0.5, \"#f7f7f7\"], [0.6, \"#e6f5d0\"], [0.7, \"#b8e186\"], [0.8, \"#7fbc41\"], [0.9, \"#4d9221\"], [1, \"#276419\"]], \"sequential\": [[0.0, \"#0d0887\"], [0.1111111111111111, \"#46039f\"], [0.2222222222222222, \"#7201a8\"], [0.3333333333333333, \"#9c179e\"], [0.4444444444444444, \"#bd3786\"], [0.5555555555555556, \"#d8576b\"], [0.6666666666666666, \"#ed7953\"], [0.7777777777777778, \"#fb9f3a\"], [0.8888888888888888, \"#fdca26\"], [1.0, \"#f0f921\"]], \"sequentialminus\": [[0.0, \"#0d0887\"], [0.1111111111111111, \"#46039f\"], [0.2222222222222222, \"#7201a8\"], [0.3333333333333333, \"#9c179e\"], [0.4444444444444444, \"#bd3786\"], [0.5555555555555556, \"#d8576b\"], [0.6666666666666666, \"#ed7953\"], [0.7777777777777778, \"#fb9f3a\"], [0.8888888888888888, \"#fdca26\"], [1.0, \"#f0f921\"]]}, \"colorway\": [\"#636efa\", \"#EF553B\", \"#00cc96\", \"#ab63fa\", \"#FFA15A\", \"#19d3f3\", \"#FF6692\", \"#B6E880\", \"#FF97FF\", \"#FECB52\"], \"font\": {\"color\": \"#2a3f5f\"}, \"geo\": {\"bgcolor\": \"white\", \"lakecolor\": \"white\", \"landcolor\": \"#E5ECF6\", \"showlakes\": true, \"showland\": true, \"subunitcolor\": \"white\"}, \"hoverlabel\": {\"align\": \"left\"}, \"hovermode\": \"closest\", \"mapbox\": {\"style\": \"light\"}, \"paper_bgcolor\": \"white\", \"plot_bgcolor\": \"#E5ECF6\", \"polar\": {\"angularaxis\": {\"gridcolor\": \"white\", \"linecolor\": \"white\", \"ticks\": \"\"}, \"bgcolor\": \"#E5ECF6\", \"radialaxis\": {\"gridcolor\": \"white\", \"linecolor\": \"white\", \"ticks\": \"\"}}, \"scene\": {\"xaxis\": {\"backgroundcolor\": \"#E5ECF6\", \"gridcolor\": \"white\", \"gridwidth\": 2, \"linecolor\": \"white\", \"showbackground\": true, \"ticks\": \"\", \"zerolinecolor\": \"white\"}, \"yaxis\": {\"backgroundcolor\": \"#E5ECF6\", \"gridcolor\": \"white\", \"gridwidth\": 2, \"linecolor\": \"white\", \"showbackground\": true, \"ticks\": \"\", \"zerolinecolor\": \"white\"}, \"zaxis\": {\"backgroundcolor\": \"#E5ECF6\", \"gridcolor\": \"white\", \"gridwidth\": 2, \"linecolor\": \"white\", \"showbackground\": true, \"ticks\": \"\", \"zerolinecolor\": \"white\"}}, \"shapedefaults\": {\"line\": {\"color\": \"#2a3f5f\"}}, \"ternary\": {\"aaxis\": {\"gridcolor\": \"white\", \"linecolor\": \"white\", \"ticks\": \"\"}, \"baxis\": {\"gridcolor\": \"white\", \"linecolor\": \"white\", \"ticks\": \"\"}, \"bgcolor\": \"#E5ECF6\", \"caxis\": {\"gridcolor\": \"white\", \"linecolor\": \"white\", \"ticks\": \"\"}}, \"title\": {\"x\": 0.05}, \"xaxis\": {\"automargin\": true, \"gridcolor\": \"white\", \"linecolor\": \"white\", \"ticks\": \"\", \"zerolinecolor\": \"white\", \"zerolinewidth\": 2}, \"yaxis\": {\"automargin\": true, \"gridcolor\": \"white\", \"linecolor\": \"white\", \"ticks\": \"\", \"zerolinecolor\": \"white\", \"zerolinewidth\": 2}}}, \"xaxis\": {\"anchor\": \"y\", \"domain\": [0.0, 0.98], \"title\": {\"text\": \"x\"}}, \"yaxis\": {\"anchor\": \"x\", \"domain\": [0.0, 1.0], \"title\": {\"text\": \"y\"}}},\n",
       "                        {\"responsive\": true}\n",
       "                    ).then(function(){\n",
       "                            \n",
       "var gd = document.getElementById('7f6f6388-0855-4104-b4ab-fedaaa42bcbe');\n",
       "var x = new MutationObserver(function (mutations, observer) {{\n",
       "        var display = window.getComputedStyle(gd).display;\n",
       "        if (!display || display === 'none') {{\n",
       "            console.log([gd, 'removed!']);\n",
       "            Plotly.purge(gd);\n",
       "            observer.disconnect();\n",
       "        }}\n",
       "}});\n",
       "\n",
       "// Listen for the removal of the full notebook cells\n",
       "var notebookContainer = gd.closest('#notebook-container');\n",
       "if (notebookContainer) {{\n",
       "    x.observe(notebookContainer, {childList: true});\n",
       "}}\n",
       "\n",
       "// Listen for the clearing of the current output cell\n",
       "var outputEl = gd.closest('.output');\n",
       "if (outputEl) {{\n",
       "    x.observe(outputEl, {childList: true});\n",
       "}}\n",
       "\n",
       "                        })\n",
       "                };\n",
       "                });\n",
       "            </script>\n",
       "        </div>"
      ]
     },
     "metadata": {},
     "output_type": "display_data"
    },
    {
     "name": "stdout",
     "output_type": "stream",
     "text": [
      "time: 222 ms\n"
     ]
    }
   ],
   "source": [
    "px.scatter(x=c0.col, y=-c0.row)"
   ]
  },
  {
   "cell_type": "code",
   "execution_count": 129,
   "metadata": {},
   "outputs": [
    {
     "name": "stderr",
     "output_type": "stream",
     "text": [
      "[cellevents:INFO]:starting (cellevents.py:43, time=Dec-12 19:02)\n"
     ]
    },
    {
     "data": {
      "application/vnd.plotly.v1+json": {
       "config": {
        "plotlyServerURL": "https://plot.ly"
       },
       "data": [
        {
         "hoverlabel": {
          "namelength": 0
         },
         "hovertemplate": "x=%{x}<br>y=%{y}",
         "legendgroup": "",
         "marker": {
          "color": "#636efa",
          "symbol": "circle"
         },
         "mode": "markers",
         "name": "",
         "showlegend": false,
         "type": "scatter",
         "x": [
          5.554166659055332,
          5.554999992385312,
          5.554166659055332,
          5.554999992385312,
          5.556666659045272,
          5.55749999237525,
          5.558333325705231,
          5.549166659075452,
          5.549999992405432,
          5.555833325715291,
          5.556666659045272,
          5.55749999237525,
          5.558333325705231,
          5.549166659075452,
          5.549999992405432,
          5.554166659055332,
          5.554999992385312,
          5.555833325715291,
          5.556666659045272,
          5.55749999237525,
          5.558333325705231,
          5.559166659035212,
          5.549999992405432,
          5.552499992395372,
          5.553333325725351,
          5.554166659055332,
          5.554999992385312,
          5.555833325715291,
          5.556666659045272,
          5.55749999237525,
          5.558333325705231,
          5.559166659035212,
          5.560833325695171,
          5.56166665902515,
          5.56249999235513,
          5.552499992395372,
          5.553333325725351,
          5.554166659055332,
          5.554999992385312,
          5.555833325715291,
          5.556666659045272,
          5.55749999237525,
          5.558333325705231,
          5.559166659035212,
          5.560833325695171,
          5.56166665902515,
          5.56249999235513,
          5.563333325685111,
          5.552499992395372,
          5.553333325725351,
          5.554166659055332,
          5.554999992385312,
          5.555833325715291,
          5.556666659045272,
          5.55749999237525,
          5.559166659035212,
          5.560833325695171,
          5.56166665902515,
          5.56249999235513,
          5.552499992395372,
          5.553333325725351,
          5.554166659055332,
          5.554999992385312,
          5.555833325715291,
          5.556666659045272,
          5.55749999237525,
          5.558333325705231,
          5.559166659035212,
          5.55999999236519,
          5.560833325695171,
          5.56166665902515,
          5.56249999235513,
          5.563333325685111,
          5.552499992395372,
          5.553333325725351,
          5.554999992385312,
          5.555833325715291,
          5.556666659045272,
          5.55749999237525,
          5.558333325705231,
          5.559166659035212,
          5.55999999236519,
          5.560833325695171,
          5.56166665902515,
          5.56249999235513,
          5.563333325685111,
          5.558333325705231,
          5.559166659035212,
          5.55999999236519,
          5.560833325695171,
          5.56166665902515,
          5.56249999235513,
          5.56249999235513
         ],
         "xaxis": "x",
         "y": [
          13.865000145775506,
          13.865000145775506,
          13.864166812445522,
          13.864166812445522,
          13.864166812445522,
          13.864166812445522,
          13.864166812445522,
          13.863333479115537,
          13.863333479115537,
          13.863333479115537,
          13.863333479115537,
          13.863333479115537,
          13.863333479115537,
          13.862500145785553,
          13.862500145785553,
          13.862500145785553,
          13.862500145785553,
          13.862500145785553,
          13.862500145785553,
          13.862500145785553,
          13.862500145785553,
          13.862500145785553,
          13.861666812455569,
          13.861666812455569,
          13.861666812455569,
          13.861666812455569,
          13.861666812455569,
          13.861666812455569,
          13.861666812455569,
          13.861666812455569,
          13.861666812455569,
          13.861666812455569,
          13.861666812455569,
          13.861666812455569,
          13.861666812455569,
          13.860833479125583,
          13.860833479125583,
          13.860833479125583,
          13.860833479125583,
          13.860833479125583,
          13.860833479125583,
          13.860833479125583,
          13.860833479125583,
          13.860833479125583,
          13.860833479125583,
          13.860833479125583,
          13.860833479125583,
          13.860833479125583,
          13.860000145795599,
          13.860000145795599,
          13.860000145795599,
          13.860000145795599,
          13.860000145795599,
          13.860000145795599,
          13.860000145795599,
          13.860000145795599,
          13.860000145795599,
          13.860000145795599,
          13.860000145795599,
          13.859166812465615,
          13.859166812465615,
          13.859166812465615,
          13.859166812465615,
          13.859166812465615,
          13.859166812465615,
          13.859166812465615,
          13.859166812465615,
          13.859166812465615,
          13.859166812465615,
          13.859166812465615,
          13.859166812465615,
          13.859166812465615,
          13.859166812465615,
          13.85833347913563,
          13.85833347913563,
          13.85833347913563,
          13.85833347913563,
          13.85833347913563,
          13.85833347913563,
          13.85833347913563,
          13.85833347913563,
          13.85833347913563,
          13.85833347913563,
          13.85833347913563,
          13.85833347913563,
          13.85833347913563,
          13.857500145805647,
          13.857500145805647,
          13.857500145805647,
          13.857500145805647,
          13.857500145805647,
          13.857500145805647,
          13.856666812475662
         ],
         "yaxis": "y"
        }
       ],
       "layout": {
        "height": 600,
        "legend": {
         "tracegroupgap": 0
        },
        "margin": {
         "t": 60
        },
        "template": {
         "data": {
          "bar": [
           {
            "error_x": {
             "color": "#2a3f5f"
            },
            "error_y": {
             "color": "#2a3f5f"
            },
            "marker": {
             "line": {
              "color": "#E5ECF6",
              "width": 0.5
             }
            },
            "type": "bar"
           }
          ],
          "barpolar": [
           {
            "marker": {
             "line": {
              "color": "#E5ECF6",
              "width": 0.5
             }
            },
            "type": "barpolar"
           }
          ],
          "carpet": [
           {
            "aaxis": {
             "endlinecolor": "#2a3f5f",
             "gridcolor": "white",
             "linecolor": "white",
             "minorgridcolor": "white",
             "startlinecolor": "#2a3f5f"
            },
            "baxis": {
             "endlinecolor": "#2a3f5f",
             "gridcolor": "white",
             "linecolor": "white",
             "minorgridcolor": "white",
             "startlinecolor": "#2a3f5f"
            },
            "type": "carpet"
           }
          ],
          "choropleth": [
           {
            "colorbar": {
             "outlinewidth": 0,
             "ticks": ""
            },
            "type": "choropleth"
           }
          ],
          "contour": [
           {
            "colorbar": {
             "outlinewidth": 0,
             "ticks": ""
            },
            "colorscale": [
             [
              0,
              "#0d0887"
             ],
             [
              0.1111111111111111,
              "#46039f"
             ],
             [
              0.2222222222222222,
              "#7201a8"
             ],
             [
              0.3333333333333333,
              "#9c179e"
             ],
             [
              0.4444444444444444,
              "#bd3786"
             ],
             [
              0.5555555555555556,
              "#d8576b"
             ],
             [
              0.6666666666666666,
              "#ed7953"
             ],
             [
              0.7777777777777778,
              "#fb9f3a"
             ],
             [
              0.8888888888888888,
              "#fdca26"
             ],
             [
              1,
              "#f0f921"
             ]
            ],
            "type": "contour"
           }
          ],
          "contourcarpet": [
           {
            "colorbar": {
             "outlinewidth": 0,
             "ticks": ""
            },
            "type": "contourcarpet"
           }
          ],
          "heatmap": [
           {
            "colorbar": {
             "outlinewidth": 0,
             "ticks": ""
            },
            "colorscale": [
             [
              0,
              "#0d0887"
             ],
             [
              0.1111111111111111,
              "#46039f"
             ],
             [
              0.2222222222222222,
              "#7201a8"
             ],
             [
              0.3333333333333333,
              "#9c179e"
             ],
             [
              0.4444444444444444,
              "#bd3786"
             ],
             [
              0.5555555555555556,
              "#d8576b"
             ],
             [
              0.6666666666666666,
              "#ed7953"
             ],
             [
              0.7777777777777778,
              "#fb9f3a"
             ],
             [
              0.8888888888888888,
              "#fdca26"
             ],
             [
              1,
              "#f0f921"
             ]
            ],
            "type": "heatmap"
           }
          ],
          "heatmapgl": [
           {
            "colorbar": {
             "outlinewidth": 0,
             "ticks": ""
            },
            "colorscale": [
             [
              0,
              "#0d0887"
             ],
             [
              0.1111111111111111,
              "#46039f"
             ],
             [
              0.2222222222222222,
              "#7201a8"
             ],
             [
              0.3333333333333333,
              "#9c179e"
             ],
             [
              0.4444444444444444,
              "#bd3786"
             ],
             [
              0.5555555555555556,
              "#d8576b"
             ],
             [
              0.6666666666666666,
              "#ed7953"
             ],
             [
              0.7777777777777778,
              "#fb9f3a"
             ],
             [
              0.8888888888888888,
              "#fdca26"
             ],
             [
              1,
              "#f0f921"
             ]
            ],
            "type": "heatmapgl"
           }
          ],
          "histogram": [
           {
            "marker": {
             "colorbar": {
              "outlinewidth": 0,
              "ticks": ""
             }
            },
            "type": "histogram"
           }
          ],
          "histogram2d": [
           {
            "colorbar": {
             "outlinewidth": 0,
             "ticks": ""
            },
            "colorscale": [
             [
              0,
              "#0d0887"
             ],
             [
              0.1111111111111111,
              "#46039f"
             ],
             [
              0.2222222222222222,
              "#7201a8"
             ],
             [
              0.3333333333333333,
              "#9c179e"
             ],
             [
              0.4444444444444444,
              "#bd3786"
             ],
             [
              0.5555555555555556,
              "#d8576b"
             ],
             [
              0.6666666666666666,
              "#ed7953"
             ],
             [
              0.7777777777777778,
              "#fb9f3a"
             ],
             [
              0.8888888888888888,
              "#fdca26"
             ],
             [
              1,
              "#f0f921"
             ]
            ],
            "type": "histogram2d"
           }
          ],
          "histogram2dcontour": [
           {
            "colorbar": {
             "outlinewidth": 0,
             "ticks": ""
            },
            "colorscale": [
             [
              0,
              "#0d0887"
             ],
             [
              0.1111111111111111,
              "#46039f"
             ],
             [
              0.2222222222222222,
              "#7201a8"
             ],
             [
              0.3333333333333333,
              "#9c179e"
             ],
             [
              0.4444444444444444,
              "#bd3786"
             ],
             [
              0.5555555555555556,
              "#d8576b"
             ],
             [
              0.6666666666666666,
              "#ed7953"
             ],
             [
              0.7777777777777778,
              "#fb9f3a"
             ],
             [
              0.8888888888888888,
              "#fdca26"
             ],
             [
              1,
              "#f0f921"
             ]
            ],
            "type": "histogram2dcontour"
           }
          ],
          "mesh3d": [
           {
            "colorbar": {
             "outlinewidth": 0,
             "ticks": ""
            },
            "type": "mesh3d"
           }
          ],
          "parcoords": [
           {
            "line": {
             "colorbar": {
              "outlinewidth": 0,
              "ticks": ""
             }
            },
            "type": "parcoords"
           }
          ],
          "scatter": [
           {
            "marker": {
             "colorbar": {
              "outlinewidth": 0,
              "ticks": ""
             }
            },
            "type": "scatter"
           }
          ],
          "scatter3d": [
           {
            "line": {
             "colorbar": {
              "outlinewidth": 0,
              "ticks": ""
             }
            },
            "marker": {
             "colorbar": {
              "outlinewidth": 0,
              "ticks": ""
             }
            },
            "type": "scatter3d"
           }
          ],
          "scattercarpet": [
           {
            "marker": {
             "colorbar": {
              "outlinewidth": 0,
              "ticks": ""
             }
            },
            "type": "scattercarpet"
           }
          ],
          "scattergeo": [
           {
            "marker": {
             "colorbar": {
              "outlinewidth": 0,
              "ticks": ""
             }
            },
            "type": "scattergeo"
           }
          ],
          "scattergl": [
           {
            "marker": {
             "colorbar": {
              "outlinewidth": 0,
              "ticks": ""
             }
            },
            "type": "scattergl"
           }
          ],
          "scattermapbox": [
           {
            "marker": {
             "colorbar": {
              "outlinewidth": 0,
              "ticks": ""
             }
            },
            "type": "scattermapbox"
           }
          ],
          "scatterpolar": [
           {
            "marker": {
             "colorbar": {
              "outlinewidth": 0,
              "ticks": ""
             }
            },
            "type": "scatterpolar"
           }
          ],
          "scatterpolargl": [
           {
            "marker": {
             "colorbar": {
              "outlinewidth": 0,
              "ticks": ""
             }
            },
            "type": "scatterpolargl"
           }
          ],
          "scatterternary": [
           {
            "marker": {
             "colorbar": {
              "outlinewidth": 0,
              "ticks": ""
             }
            },
            "type": "scatterternary"
           }
          ],
          "surface": [
           {
            "colorbar": {
             "outlinewidth": 0,
             "ticks": ""
            },
            "colorscale": [
             [
              0,
              "#0d0887"
             ],
             [
              0.1111111111111111,
              "#46039f"
             ],
             [
              0.2222222222222222,
              "#7201a8"
             ],
             [
              0.3333333333333333,
              "#9c179e"
             ],
             [
              0.4444444444444444,
              "#bd3786"
             ],
             [
              0.5555555555555556,
              "#d8576b"
             ],
             [
              0.6666666666666666,
              "#ed7953"
             ],
             [
              0.7777777777777778,
              "#fb9f3a"
             ],
             [
              0.8888888888888888,
              "#fdca26"
             ],
             [
              1,
              "#f0f921"
             ]
            ],
            "type": "surface"
           }
          ],
          "table": [
           {
            "cells": {
             "fill": {
              "color": "#EBF0F8"
             },
             "line": {
              "color": "white"
             }
            },
            "header": {
             "fill": {
              "color": "#C8D4E3"
             },
             "line": {
              "color": "white"
             }
            },
            "type": "table"
           }
          ]
         },
         "layout": {
          "annotationdefaults": {
           "arrowcolor": "#2a3f5f",
           "arrowhead": 0,
           "arrowwidth": 1
          },
          "colorscale": {
           "diverging": [
            [
             0,
             "#8e0152"
            ],
            [
             0.1,
             "#c51b7d"
            ],
            [
             0.2,
             "#de77ae"
            ],
            [
             0.3,
             "#f1b6da"
            ],
            [
             0.4,
             "#fde0ef"
            ],
            [
             0.5,
             "#f7f7f7"
            ],
            [
             0.6,
             "#e6f5d0"
            ],
            [
             0.7,
             "#b8e186"
            ],
            [
             0.8,
             "#7fbc41"
            ],
            [
             0.9,
             "#4d9221"
            ],
            [
             1,
             "#276419"
            ]
           ],
           "sequential": [
            [
             0,
             "#0d0887"
            ],
            [
             0.1111111111111111,
             "#46039f"
            ],
            [
             0.2222222222222222,
             "#7201a8"
            ],
            [
             0.3333333333333333,
             "#9c179e"
            ],
            [
             0.4444444444444444,
             "#bd3786"
            ],
            [
             0.5555555555555556,
             "#d8576b"
            ],
            [
             0.6666666666666666,
             "#ed7953"
            ],
            [
             0.7777777777777778,
             "#fb9f3a"
            ],
            [
             0.8888888888888888,
             "#fdca26"
            ],
            [
             1,
             "#f0f921"
            ]
           ],
           "sequentialminus": [
            [
             0,
             "#0d0887"
            ],
            [
             0.1111111111111111,
             "#46039f"
            ],
            [
             0.2222222222222222,
             "#7201a8"
            ],
            [
             0.3333333333333333,
             "#9c179e"
            ],
            [
             0.4444444444444444,
             "#bd3786"
            ],
            [
             0.5555555555555556,
             "#d8576b"
            ],
            [
             0.6666666666666666,
             "#ed7953"
            ],
            [
             0.7777777777777778,
             "#fb9f3a"
            ],
            [
             0.8888888888888888,
             "#fdca26"
            ],
            [
             1,
             "#f0f921"
            ]
           ]
          },
          "colorway": [
           "#636efa",
           "#EF553B",
           "#00cc96",
           "#ab63fa",
           "#FFA15A",
           "#19d3f3",
           "#FF6692",
           "#B6E880",
           "#FF97FF",
           "#FECB52"
          ],
          "font": {
           "color": "#2a3f5f"
          },
          "geo": {
           "bgcolor": "white",
           "lakecolor": "white",
           "landcolor": "#E5ECF6",
           "showlakes": true,
           "showland": true,
           "subunitcolor": "white"
          },
          "hoverlabel": {
           "align": "left"
          },
          "hovermode": "closest",
          "mapbox": {
           "style": "light"
          },
          "paper_bgcolor": "white",
          "plot_bgcolor": "#E5ECF6",
          "polar": {
           "angularaxis": {
            "gridcolor": "white",
            "linecolor": "white",
            "ticks": ""
           },
           "bgcolor": "#E5ECF6",
           "radialaxis": {
            "gridcolor": "white",
            "linecolor": "white",
            "ticks": ""
           }
          },
          "scene": {
           "xaxis": {
            "backgroundcolor": "#E5ECF6",
            "gridcolor": "white",
            "gridwidth": 2,
            "linecolor": "white",
            "showbackground": true,
            "ticks": "",
            "zerolinecolor": "white"
           },
           "yaxis": {
            "backgroundcolor": "#E5ECF6",
            "gridcolor": "white",
            "gridwidth": 2,
            "linecolor": "white",
            "showbackground": true,
            "ticks": "",
            "zerolinecolor": "white"
           },
           "zaxis": {
            "backgroundcolor": "#E5ECF6",
            "gridcolor": "white",
            "gridwidth": 2,
            "linecolor": "white",
            "showbackground": true,
            "ticks": "",
            "zerolinecolor": "white"
           }
          },
          "shapedefaults": {
           "line": {
            "color": "#2a3f5f"
           }
          },
          "ternary": {
           "aaxis": {
            "gridcolor": "white",
            "linecolor": "white",
            "ticks": ""
           },
           "baxis": {
            "gridcolor": "white",
            "linecolor": "white",
            "ticks": ""
           },
           "bgcolor": "#E5ECF6",
           "caxis": {
            "gridcolor": "white",
            "linecolor": "white",
            "ticks": ""
           }
          },
          "title": {
           "x": 0.05
          },
          "xaxis": {
           "automargin": true,
           "gridcolor": "white",
           "linecolor": "white",
           "ticks": "",
           "zerolinecolor": "white",
           "zerolinewidth": 2
          },
          "yaxis": {
           "automargin": true,
           "gridcolor": "white",
           "linecolor": "white",
           "ticks": "",
           "zerolinecolor": "white",
           "zerolinewidth": 2
          }
         }
        },
        "xaxis": {
         "anchor": "y",
         "domain": [
          0,
          0.98
         ],
         "title": {
          "text": "x"
         }
        },
        "yaxis": {
         "anchor": "x",
         "domain": [
          0,
          1
         ],
         "title": {
          "text": "y"
         }
        }
       }
      },
      "text/html": [
       "<div>\n",
       "        \n",
       "        \n",
       "            <div id=\"a4c48201-6fc3-4bb5-b0b6-3cfbc0b7e4b5\" class=\"plotly-graph-div\" style=\"height:600px; width:100%;\"></div>\n",
       "            <script type=\"text/javascript\">\n",
       "                require([\"plotly\"], function(Plotly) {\n",
       "                    window.PLOTLYENV=window.PLOTLYENV || {};\n",
       "                    \n",
       "                if (document.getElementById(\"a4c48201-6fc3-4bb5-b0b6-3cfbc0b7e4b5\")) {\n",
       "                    Plotly.newPlot(\n",
       "                        'a4c48201-6fc3-4bb5-b0b6-3cfbc0b7e4b5',\n",
       "                        [{\"hoverlabel\": {\"namelength\": 0}, \"hovertemplate\": \"x=%{x}<br>y=%{y}\", \"legendgroup\": \"\", \"marker\": {\"color\": \"#636efa\", \"symbol\": \"circle\"}, \"mode\": \"markers\", \"name\": \"\", \"showlegend\": false, \"type\": \"scatter\", \"x\": [5.554166659055332, 5.554999992385312, 5.554166659055332, 5.554999992385312, 5.556666659045272, 5.55749999237525, 5.558333325705231, 5.549166659075452, 5.549999992405432, 5.555833325715291, 5.556666659045272, 5.55749999237525, 5.558333325705231, 5.549166659075452, 5.549999992405432, 5.554166659055332, 5.554999992385312, 5.555833325715291, 5.556666659045272, 5.55749999237525, 5.558333325705231, 5.559166659035212, 5.549999992405432, 5.552499992395372, 5.553333325725351, 5.554166659055332, 5.554999992385312, 5.555833325715291, 5.556666659045272, 5.55749999237525, 5.558333325705231, 5.559166659035212, 5.560833325695171, 5.56166665902515, 5.56249999235513, 5.552499992395372, 5.553333325725351, 5.554166659055332, 5.554999992385312, 5.555833325715291, 5.556666659045272, 5.55749999237525, 5.558333325705231, 5.559166659035212, 5.560833325695171, 5.56166665902515, 5.56249999235513, 5.563333325685111, 5.552499992395372, 5.553333325725351, 5.554166659055332, 5.554999992385312, 5.555833325715291, 5.556666659045272, 5.55749999237525, 5.559166659035212, 5.560833325695171, 5.56166665902515, 5.56249999235513, 5.552499992395372, 5.553333325725351, 5.554166659055332, 5.554999992385312, 5.555833325715291, 5.556666659045272, 5.55749999237525, 5.558333325705231, 5.559166659035212, 5.55999999236519, 5.560833325695171, 5.56166665902515, 5.56249999235513, 5.563333325685111, 5.552499992395372, 5.553333325725351, 5.554999992385312, 5.555833325715291, 5.556666659045272, 5.55749999237525, 5.558333325705231, 5.559166659035212, 5.55999999236519, 5.560833325695171, 5.56166665902515, 5.56249999235513, 5.563333325685111, 5.558333325705231, 5.559166659035212, 5.55999999236519, 5.560833325695171, 5.56166665902515, 5.56249999235513, 5.56249999235513], \"xaxis\": \"x\", \"y\": [13.865000145775506, 13.865000145775506, 13.864166812445522, 13.864166812445522, 13.864166812445522, 13.864166812445522, 13.864166812445522, 13.863333479115537, 13.863333479115537, 13.863333479115537, 13.863333479115537, 13.863333479115537, 13.863333479115537, 13.862500145785553, 13.862500145785553, 13.862500145785553, 13.862500145785553, 13.862500145785553, 13.862500145785553, 13.862500145785553, 13.862500145785553, 13.862500145785553, 13.861666812455569, 13.861666812455569, 13.861666812455569, 13.861666812455569, 13.861666812455569, 13.861666812455569, 13.861666812455569, 13.861666812455569, 13.861666812455569, 13.861666812455569, 13.861666812455569, 13.861666812455569, 13.861666812455569, 13.860833479125583, 13.860833479125583, 13.860833479125583, 13.860833479125583, 13.860833479125583, 13.860833479125583, 13.860833479125583, 13.860833479125583, 13.860833479125583, 13.860833479125583, 13.860833479125583, 13.860833479125583, 13.860833479125583, 13.860000145795599, 13.860000145795599, 13.860000145795599, 13.860000145795599, 13.860000145795599, 13.860000145795599, 13.860000145795599, 13.860000145795599, 13.860000145795599, 13.860000145795599, 13.860000145795599, 13.859166812465615, 13.859166812465615, 13.859166812465615, 13.859166812465615, 13.859166812465615, 13.859166812465615, 13.859166812465615, 13.859166812465615, 13.859166812465615, 13.859166812465615, 13.859166812465615, 13.859166812465615, 13.859166812465615, 13.859166812465615, 13.85833347913563, 13.85833347913563, 13.85833347913563, 13.85833347913563, 13.85833347913563, 13.85833347913563, 13.85833347913563, 13.85833347913563, 13.85833347913563, 13.85833347913563, 13.85833347913563, 13.85833347913563, 13.85833347913563, 13.857500145805647, 13.857500145805647, 13.857500145805647, 13.857500145805647, 13.857500145805647, 13.857500145805647, 13.856666812475662], \"yaxis\": \"y\"}],\n",
       "                        {\"height\": 600, \"legend\": {\"tracegroupgap\": 0}, \"margin\": {\"t\": 60}, \"template\": {\"data\": {\"bar\": [{\"error_x\": {\"color\": \"#2a3f5f\"}, \"error_y\": {\"color\": \"#2a3f5f\"}, \"marker\": {\"line\": {\"color\": \"#E5ECF6\", \"width\": 0.5}}, \"type\": \"bar\"}], \"barpolar\": [{\"marker\": {\"line\": {\"color\": \"#E5ECF6\", \"width\": 0.5}}, \"type\": \"barpolar\"}], \"carpet\": [{\"aaxis\": {\"endlinecolor\": \"#2a3f5f\", \"gridcolor\": \"white\", \"linecolor\": \"white\", \"minorgridcolor\": \"white\", \"startlinecolor\": \"#2a3f5f\"}, \"baxis\": {\"endlinecolor\": \"#2a3f5f\", \"gridcolor\": \"white\", \"linecolor\": \"white\", \"minorgridcolor\": \"white\", \"startlinecolor\": \"#2a3f5f\"}, \"type\": \"carpet\"}], \"choropleth\": [{\"colorbar\": {\"outlinewidth\": 0, \"ticks\": \"\"}, \"type\": \"choropleth\"}], \"contour\": [{\"colorbar\": {\"outlinewidth\": 0, \"ticks\": \"\"}, \"colorscale\": [[0.0, \"#0d0887\"], [0.1111111111111111, \"#46039f\"], [0.2222222222222222, \"#7201a8\"], [0.3333333333333333, \"#9c179e\"], [0.4444444444444444, \"#bd3786\"], [0.5555555555555556, \"#d8576b\"], [0.6666666666666666, \"#ed7953\"], [0.7777777777777778, \"#fb9f3a\"], [0.8888888888888888, \"#fdca26\"], [1.0, \"#f0f921\"]], \"type\": \"contour\"}], \"contourcarpet\": [{\"colorbar\": {\"outlinewidth\": 0, \"ticks\": \"\"}, \"type\": \"contourcarpet\"}], \"heatmap\": [{\"colorbar\": {\"outlinewidth\": 0, \"ticks\": \"\"}, \"colorscale\": [[0.0, \"#0d0887\"], [0.1111111111111111, \"#46039f\"], [0.2222222222222222, \"#7201a8\"], [0.3333333333333333, \"#9c179e\"], [0.4444444444444444, \"#bd3786\"], [0.5555555555555556, \"#d8576b\"], [0.6666666666666666, \"#ed7953\"], [0.7777777777777778, \"#fb9f3a\"], [0.8888888888888888, \"#fdca26\"], [1.0, \"#f0f921\"]], \"type\": \"heatmap\"}], \"heatmapgl\": [{\"colorbar\": {\"outlinewidth\": 0, \"ticks\": \"\"}, \"colorscale\": [[0.0, \"#0d0887\"], [0.1111111111111111, \"#46039f\"], [0.2222222222222222, \"#7201a8\"], [0.3333333333333333, \"#9c179e\"], [0.4444444444444444, \"#bd3786\"], [0.5555555555555556, \"#d8576b\"], [0.6666666666666666, \"#ed7953\"], [0.7777777777777778, \"#fb9f3a\"], [0.8888888888888888, \"#fdca26\"], [1.0, \"#f0f921\"]], \"type\": \"heatmapgl\"}], \"histogram\": [{\"marker\": {\"colorbar\": {\"outlinewidth\": 0, \"ticks\": \"\"}}, \"type\": \"histogram\"}], \"histogram2d\": [{\"colorbar\": {\"outlinewidth\": 0, \"ticks\": \"\"}, \"colorscale\": [[0.0, \"#0d0887\"], [0.1111111111111111, \"#46039f\"], [0.2222222222222222, \"#7201a8\"], [0.3333333333333333, \"#9c179e\"], [0.4444444444444444, \"#bd3786\"], [0.5555555555555556, \"#d8576b\"], [0.6666666666666666, \"#ed7953\"], [0.7777777777777778, \"#fb9f3a\"], [0.8888888888888888, \"#fdca26\"], [1.0, \"#f0f921\"]], \"type\": \"histogram2d\"}], \"histogram2dcontour\": [{\"colorbar\": {\"outlinewidth\": 0, \"ticks\": \"\"}, \"colorscale\": [[0.0, \"#0d0887\"], [0.1111111111111111, \"#46039f\"], [0.2222222222222222, \"#7201a8\"], [0.3333333333333333, \"#9c179e\"], [0.4444444444444444, \"#bd3786\"], [0.5555555555555556, \"#d8576b\"], [0.6666666666666666, \"#ed7953\"], [0.7777777777777778, \"#fb9f3a\"], [0.8888888888888888, \"#fdca26\"], [1.0, \"#f0f921\"]], \"type\": \"histogram2dcontour\"}], \"mesh3d\": [{\"colorbar\": {\"outlinewidth\": 0, \"ticks\": \"\"}, \"type\": \"mesh3d\"}], \"parcoords\": [{\"line\": {\"colorbar\": {\"outlinewidth\": 0, \"ticks\": \"\"}}, \"type\": \"parcoords\"}], \"scatter\": [{\"marker\": {\"colorbar\": {\"outlinewidth\": 0, \"ticks\": \"\"}}, \"type\": \"scatter\"}], \"scatter3d\": [{\"line\": {\"colorbar\": {\"outlinewidth\": 0, \"ticks\": \"\"}}, \"marker\": {\"colorbar\": {\"outlinewidth\": 0, \"ticks\": \"\"}}, \"type\": \"scatter3d\"}], \"scattercarpet\": [{\"marker\": {\"colorbar\": {\"outlinewidth\": 0, \"ticks\": \"\"}}, \"type\": \"scattercarpet\"}], \"scattergeo\": [{\"marker\": {\"colorbar\": {\"outlinewidth\": 0, \"ticks\": \"\"}}, \"type\": \"scattergeo\"}], \"scattergl\": [{\"marker\": {\"colorbar\": {\"outlinewidth\": 0, \"ticks\": \"\"}}, \"type\": \"scattergl\"}], \"scattermapbox\": [{\"marker\": {\"colorbar\": {\"outlinewidth\": 0, \"ticks\": \"\"}}, \"type\": \"scattermapbox\"}], \"scatterpolar\": [{\"marker\": {\"colorbar\": {\"outlinewidth\": 0, \"ticks\": \"\"}}, \"type\": \"scatterpolar\"}], \"scatterpolargl\": [{\"marker\": {\"colorbar\": {\"outlinewidth\": 0, \"ticks\": \"\"}}, \"type\": \"scatterpolargl\"}], \"scatterternary\": [{\"marker\": {\"colorbar\": {\"outlinewidth\": 0, \"ticks\": \"\"}}, \"type\": \"scatterternary\"}], \"surface\": [{\"colorbar\": {\"outlinewidth\": 0, \"ticks\": \"\"}, \"colorscale\": [[0.0, \"#0d0887\"], [0.1111111111111111, \"#46039f\"], [0.2222222222222222, \"#7201a8\"], [0.3333333333333333, \"#9c179e\"], [0.4444444444444444, \"#bd3786\"], [0.5555555555555556, \"#d8576b\"], [0.6666666666666666, \"#ed7953\"], [0.7777777777777778, \"#fb9f3a\"], [0.8888888888888888, \"#fdca26\"], [1.0, \"#f0f921\"]], \"type\": \"surface\"}], \"table\": [{\"cells\": {\"fill\": {\"color\": \"#EBF0F8\"}, \"line\": {\"color\": \"white\"}}, \"header\": {\"fill\": {\"color\": \"#C8D4E3\"}, \"line\": {\"color\": \"white\"}}, \"type\": \"table\"}]}, \"layout\": {\"annotationdefaults\": {\"arrowcolor\": \"#2a3f5f\", \"arrowhead\": 0, \"arrowwidth\": 1}, \"colorscale\": {\"diverging\": [[0, \"#8e0152\"], [0.1, \"#c51b7d\"], [0.2, \"#de77ae\"], [0.3, \"#f1b6da\"], [0.4, \"#fde0ef\"], [0.5, \"#f7f7f7\"], [0.6, \"#e6f5d0\"], [0.7, \"#b8e186\"], [0.8, \"#7fbc41\"], [0.9, \"#4d9221\"], [1, \"#276419\"]], \"sequential\": [[0.0, \"#0d0887\"], [0.1111111111111111, \"#46039f\"], [0.2222222222222222, \"#7201a8\"], [0.3333333333333333, \"#9c179e\"], [0.4444444444444444, \"#bd3786\"], [0.5555555555555556, \"#d8576b\"], [0.6666666666666666, \"#ed7953\"], [0.7777777777777778, \"#fb9f3a\"], [0.8888888888888888, \"#fdca26\"], [1.0, \"#f0f921\"]], \"sequentialminus\": [[0.0, \"#0d0887\"], [0.1111111111111111, \"#46039f\"], [0.2222222222222222, \"#7201a8\"], [0.3333333333333333, \"#9c179e\"], [0.4444444444444444, \"#bd3786\"], [0.5555555555555556, \"#d8576b\"], [0.6666666666666666, \"#ed7953\"], [0.7777777777777778, \"#fb9f3a\"], [0.8888888888888888, \"#fdca26\"], [1.0, \"#f0f921\"]]}, \"colorway\": [\"#636efa\", \"#EF553B\", \"#00cc96\", \"#ab63fa\", \"#FFA15A\", \"#19d3f3\", \"#FF6692\", \"#B6E880\", \"#FF97FF\", \"#FECB52\"], \"font\": {\"color\": \"#2a3f5f\"}, \"geo\": {\"bgcolor\": \"white\", \"lakecolor\": \"white\", \"landcolor\": \"#E5ECF6\", \"showlakes\": true, \"showland\": true, \"subunitcolor\": \"white\"}, \"hoverlabel\": {\"align\": \"left\"}, \"hovermode\": \"closest\", \"mapbox\": {\"style\": \"light\"}, \"paper_bgcolor\": \"white\", \"plot_bgcolor\": \"#E5ECF6\", \"polar\": {\"angularaxis\": {\"gridcolor\": \"white\", \"linecolor\": \"white\", \"ticks\": \"\"}, \"bgcolor\": \"#E5ECF6\", \"radialaxis\": {\"gridcolor\": \"white\", \"linecolor\": \"white\", \"ticks\": \"\"}}, \"scene\": {\"xaxis\": {\"backgroundcolor\": \"#E5ECF6\", \"gridcolor\": \"white\", \"gridwidth\": 2, \"linecolor\": \"white\", \"showbackground\": true, \"ticks\": \"\", \"zerolinecolor\": \"white\"}, \"yaxis\": {\"backgroundcolor\": \"#E5ECF6\", \"gridcolor\": \"white\", \"gridwidth\": 2, \"linecolor\": \"white\", \"showbackground\": true, \"ticks\": \"\", \"zerolinecolor\": \"white\"}, \"zaxis\": {\"backgroundcolor\": \"#E5ECF6\", \"gridcolor\": \"white\", \"gridwidth\": 2, \"linecolor\": \"white\", \"showbackground\": true, \"ticks\": \"\", \"zerolinecolor\": \"white\"}}, \"shapedefaults\": {\"line\": {\"color\": \"#2a3f5f\"}}, \"ternary\": {\"aaxis\": {\"gridcolor\": \"white\", \"linecolor\": \"white\", \"ticks\": \"\"}, \"baxis\": {\"gridcolor\": \"white\", \"linecolor\": \"white\", \"ticks\": \"\"}, \"bgcolor\": \"#E5ECF6\", \"caxis\": {\"gridcolor\": \"white\", \"linecolor\": \"white\", \"ticks\": \"\"}}, \"title\": {\"x\": 0.05}, \"xaxis\": {\"automargin\": true, \"gridcolor\": \"white\", \"linecolor\": \"white\", \"ticks\": \"\", \"zerolinecolor\": \"white\", \"zerolinewidth\": 2}, \"yaxis\": {\"automargin\": true, \"gridcolor\": \"white\", \"linecolor\": \"white\", \"ticks\": \"\", \"zerolinecolor\": \"white\", \"zerolinewidth\": 2}}}, \"xaxis\": {\"anchor\": \"y\", \"domain\": [0.0, 0.98], \"title\": {\"text\": \"x\"}}, \"yaxis\": {\"anchor\": \"x\", \"domain\": [0.0, 1.0], \"title\": {\"text\": \"y\"}}},\n",
       "                        {\"responsive\": true}\n",
       "                    ).then(function(){\n",
       "                            \n",
       "var gd = document.getElementById('a4c48201-6fc3-4bb5-b0b6-3cfbc0b7e4b5');\n",
       "var x = new MutationObserver(function (mutations, observer) {{\n",
       "        var display = window.getComputedStyle(gd).display;\n",
       "        if (!display || display === 'none') {{\n",
       "            console.log([gd, 'removed!']);\n",
       "            Plotly.purge(gd);\n",
       "            observer.disconnect();\n",
       "        }}\n",
       "}});\n",
       "\n",
       "// Listen for the removal of the full notebook cells\n",
       "var notebookContainer = gd.closest('#notebook-container');\n",
       "if (notebookContainer) {{\n",
       "    x.observe(notebookContainer, {childList: true});\n",
       "}}\n",
       "\n",
       "// Listen for the clearing of the current output cell\n",
       "var outputEl = gd.closest('.output');\n",
       "if (outputEl) {{\n",
       "    x.observe(outputEl, {childList: true});\n",
       "}}\n",
       "\n",
       "                        })\n",
       "                };\n",
       "                });\n",
       "            </script>\n",
       "        </div>"
      ]
     },
     "metadata": {},
     "output_type": "display_data"
    },
    {
     "name": "stdout",
     "output_type": "stream",
     "text": [
      "time: 230 ms\n"
     ]
    }
   ],
   "source": [
    "px.scatter(x=c0.lon, y=c0.lat)"
   ]
  },
  {
   "cell_type": "code",
   "execution_count": 112,
   "metadata": {},
   "outputs": [
    {
     "name": "stderr",
     "output_type": "stream",
     "text": [
      "[cellevents:INFO]:starting (cellevents.py:43, time=Dec-12 18:56)\n"
     ]
    },
    {
     "data": {
      "text/plain": [
       "114.0"
      ]
     },
     "execution_count": 112,
     "metadata": {},
     "output_type": "execute_result"
    },
    {
     "name": "stdout",
     "output_type": "stream",
     "text": [
      "time: 3.82 ms\n"
     ]
    }
   ],
   "source": [
    "mp.convex_hull.area"
   ]
  },
  {
   "cell_type": "code",
   "execution_count": 72,
   "metadata": {},
   "outputs": [
    {
     "name": "stderr",
     "output_type": "stream",
     "text": [
      "[cellevents:INFO]:starting (cellevents.py:43, time=Dec-12 18:04)\n"
     ]
    },
    {
     "data": {
      "image/svg+xml": [
       "<svg xmlns=\"http://www.w3.org/2000/svg\" xmlns:xlink=\"http://www.w3.org/1999/xlink\" width=\"100.0\" height=\"100.0\" viewBox=\"0.76 2.76 6.48 5.48\" preserveAspectRatio=\"xMinYMin meet\"><g transform=\"matrix(1,0,0,-1,0,11.0)\"><path fill-rule=\"evenodd\" fill=\"#66cc99\" stroke=\"#555555\" stroke-width=\"0.12960000000000002\" opacity=\"0.6\" d=\"M 2.0,3.0 L 1.0,8.0 L 2.0,8.0 L 7.0,4.0 L 7.0,3.0 L 2.0,3.0 z\" /></g></svg>"
      ],
      "text/plain": [
       "<shapely.geometry.polygon.Polygon at 0x14eaa2e49b0>"
      ]
     },
     "metadata": {},
     "output_type": "display_data"
    },
    {
     "data": {
      "image/svg+xml": [
       "<svg xmlns=\"http://www.w3.org/2000/svg\" xmlns:xlink=\"http://www.w3.org/1999/xlink\" width=\"100.0\" height=\"100.0\" viewBox=\"0.76 2.76 6.48 5.48\" preserveAspectRatio=\"xMinYMin meet\"><g transform=\"matrix(1,0,0,-1,0,11.0)\"><path fill-rule=\"evenodd\" fill=\"#66cc99\" stroke=\"#555555\" stroke-width=\"0.12960000000000002\" opacity=\"0.6\" d=\"M 1.0,3.0 L 7.0,3.0 L 7.0,8.0 L 1.0,8.0 L 1.0,3.0 z\" /></g></svg>"
      ],
      "text/plain": [
       "<shapely.geometry.polygon.Polygon at 0x14eaac31ef0>"
      ]
     },
     "metadata": {},
     "output_type": "display_data"
    },
    {
     "name": "stdout",
     "output_type": "stream",
     "text": [
      "time: 5.96 ms\n"
     ]
    }
   ],
   "source": [
    "points = [Point(row, col) for row,col in rawpoints]\n",
    "mp = MultiPoint(points)\n",
    "d(mp.convex_hull, mp.envelope)"
   ]
  },
  {
   "cell_type": "code",
   "execution_count": 193,
   "metadata": {
    "collapsed": true
   },
   "outputs": [
    {
     "name": "stderr",
     "output_type": "stream",
     "text": [
      "[cellevents:INFO]:starting (cellevents.py:43, time=Dec-12 11:21)\n"
     ]
    },
    {
     "data": {
      "text/html": [
       "<div>\n",
       "<style scoped>\n",
       "    .dataframe tbody tr th:only-of-type {\n",
       "        vertical-align: middle;\n",
       "    }\n",
       "\n",
       "    .dataframe tbody tr th {\n",
       "        vertical-align: top;\n",
       "    }\n",
       "\n",
       "    .dataframe thead th {\n",
       "        text-align: right;\n",
       "    }\n",
       "</style>\n",
       "<table border=\"1\" class=\"dataframe\">\n",
       "  <thead>\n",
       "    <tr style=\"text-align: right;\">\n",
       "      <th></th>\n",
       "      <th>population</th>\n",
       "      <th>area</th>\n",
       "      <th>row</th>\n",
       "      <th>col</th>\n",
       "      <th>lat</th>\n",
       "      <th>lon</th>\n",
       "      <th>density</th>\n",
       "      <th>address</th>\n",
       "      <th>address0</th>\n",
       "      <th>address1</th>\n",
       "      <th>address2</th>\n",
       "      <th>geolocator</th>\n",
       "      <th>label_out</th>\n",
       "      <th>geometry</th>\n",
       "    </tr>\n",
       "    <tr>\n",
       "      <th>label</th>\n",
       "      <th></th>\n",
       "      <th></th>\n",
       "      <th></th>\n",
       "      <th></th>\n",
       "      <th></th>\n",
       "      <th></th>\n",
       "      <th></th>\n",
       "      <th></th>\n",
       "      <th></th>\n",
       "      <th></th>\n",
       "      <th></th>\n",
       "      <th></th>\n",
       "      <th></th>\n",
       "      <th></th>\n",
       "    </tr>\n",
       "  </thead>\n",
       "  <tbody>\n",
       "    <tr>\n",
       "      <th>0</th>\n",
       "      <td>4741</td>\n",
       "      <td>0</td>\n",
       "      <td>37.301075</td>\n",
       "      <td>3465.698925</td>\n",
       "      <td>13.860583</td>\n",
       "      <td>5.557249</td>\n",
       "      <td>5936</td>\n",
       "      <td>Rafinduma, Sokoto, Nigeria</td>\n",
       "      <td>Rafinduma</td>\n",
       "      <td>Sokoto</td>\n",
       "      <td>Nigeria</td>\n",
       "      <td>Photon</td>\n",
       "      <td>0=4741</td>\n",
       "      <td>POINT (5.34333 13.81167)</td>\n",
       "    </tr>\n",
       "    <tr>\n",
       "      <th>1</th>\n",
       "      <td>4275</td>\n",
       "      <td>0</td>\n",
       "      <td>52.445783</td>\n",
       "      <td>3498.024096</td>\n",
       "      <td>13.847962</td>\n",
       "      <td>5.584187</td>\n",
       "      <td>5998</td>\n",
       "      <td>Gidan Tanko, Sokoto, Nigeria</td>\n",
       "      <td>Gidan Tanko</td>\n",
       "      <td>Sokoto</td>\n",
       "      <td>Nigeria</td>\n",
       "      <td>Photon</td>\n",
       "      <td>1=4275</td>\n",
       "      <td>POINT (5.34333 13.81167)</td>\n",
       "    </tr>\n",
       "    <tr>\n",
       "      <th>2</th>\n",
       "      <td>10828</td>\n",
       "      <td>1</td>\n",
       "      <td>115.834951</td>\n",
       "      <td>3649.121359</td>\n",
       "      <td>13.795138</td>\n",
       "      <td>5.710101</td>\n",
       "      <td>6121</td>\n",
       "      <td>Bigal, Sokoto, Nigeria</td>\n",
       "      <td>Bigal</td>\n",
       "      <td>Sokoto</td>\n",
       "      <td>Nigeria</td>\n",
       "      <td>Photon</td>\n",
       "      <td>2=10828</td>\n",
       "      <td>POINT (5.34333 13.81167)</td>\n",
       "    </tr>\n",
       "    <tr>\n",
       "      <th>3</th>\n",
       "      <td>8669</td>\n",
       "      <td>1</td>\n",
       "      <td>117.244444</td>\n",
       "      <td>3216.927778</td>\n",
       "      <td>13.793963</td>\n",
       "      <td>5.349940</td>\n",
       "      <td>5608</td>\n",
       "      <td>Mallamawa1, Sokoto, Nigeria</td>\n",
       "      <td>Mallamawa1</td>\n",
       "      <td>Sokoto</td>\n",
       "      <td>Nigeria</td>\n",
       "      <td>Photon</td>\n",
       "      <td>3=8669</td>\n",
       "      <td>POINT (5.34333 13.81167)</td>\n",
       "    </tr>\n",
       "    <tr>\n",
       "      <th>4</th>\n",
       "      <td>12034</td>\n",
       "      <td>1</td>\n",
       "      <td>139.211340</td>\n",
       "      <td>3384.170103</td>\n",
       "      <td>13.775657</td>\n",
       "      <td>5.489308</td>\n",
       "      <td>7223</td>\n",
       "      <td>Wauru, Sokoto, Nigeria</td>\n",
       "      <td>Wauru</td>\n",
       "      <td>Sokoto</td>\n",
       "      <td>Nigeria</td>\n",
       "      <td>Photon</td>\n",
       "      <td>4=12034</td>\n",
       "      <td>POINT (5.34333 13.81167)</td>\n",
       "    </tr>\n",
       "    <tr>\n",
       "      <th>5</th>\n",
       "      <td>5638</td>\n",
       "      <td>0</td>\n",
       "      <td>140.000000</td>\n",
       "      <td>3289.973684</td>\n",
       "      <td>13.775000</td>\n",
       "      <td>5.410811</td>\n",
       "      <td>5759</td>\n",
       "      <td>Hasamawa, Sokoto, Nigeria</td>\n",
       "      <td>Hasamawa</td>\n",
       "      <td>Sokoto</td>\n",
       "      <td>Nigeria</td>\n",
       "      <td>Photon</td>\n",
       "      <td>5=5638</td>\n",
       "      <td>POINT (5.34333 13.81167)</td>\n",
       "    </tr>\n",
       "    <tr>\n",
       "      <th>6</th>\n",
       "      <td>5049</td>\n",
       "      <td>0</td>\n",
       "      <td>142.358491</td>\n",
       "      <td>3438.339623</td>\n",
       "      <td>13.773035</td>\n",
       "      <td>5.534450</td>\n",
       "      <td>5546</td>\n",
       "      <td>NaN</td>\n",
       "      <td>NaN</td>\n",
       "      <td>NaN</td>\n",
       "      <td>NaN</td>\n",
       "      <td>NaN</td>\n",
       "      <td>6=5049</td>\n",
       "      <td>POINT (5.34333 13.81167)</td>\n",
       "    </tr>\n",
       "    <tr>\n",
       "      <th>7</th>\n",
       "      <td>13663</td>\n",
       "      <td>2</td>\n",
       "      <td>150.551471</td>\n",
       "      <td>3516.161765</td>\n",
       "      <td>13.766207</td>\n",
       "      <td>5.599301</td>\n",
       "      <td>5849</td>\n",
       "      <td>NaN</td>\n",
       "      <td>NaN</td>\n",
       "      <td>NaN</td>\n",
       "      <td>NaN</td>\n",
       "      <td>NaN</td>\n",
       "      <td>7=13663</td>\n",
       "      <td>POINT (5.34333 13.81167)</td>\n",
       "    </tr>\n",
       "    <tr>\n",
       "      <th>8</th>\n",
       "      <td>8908</td>\n",
       "      <td>1</td>\n",
       "      <td>172.933735</td>\n",
       "      <td>3661.590361</td>\n",
       "      <td>13.747555</td>\n",
       "      <td>5.720492</td>\n",
       "      <td>6249</td>\n",
       "      <td>NaN</td>\n",
       "      <td>NaN</td>\n",
       "      <td>NaN</td>\n",
       "      <td>NaN</td>\n",
       "      <td>NaN</td>\n",
       "      <td>8=8908</td>\n",
       "      <td>POINT (5.34333 13.81167)</td>\n",
       "    </tr>\n",
       "    <tr>\n",
       "      <th>9</th>\n",
       "      <td>11247</td>\n",
       "      <td>2</td>\n",
       "      <td>165.564784</td>\n",
       "      <td>3586.209302</td>\n",
       "      <td>13.753696</td>\n",
       "      <td>5.657674</td>\n",
       "      <td>4351</td>\n",
       "      <td>NaN</td>\n",
       "      <td>NaN</td>\n",
       "      <td>NaN</td>\n",
       "      <td>NaN</td>\n",
       "      <td>NaN</td>\n",
       "      <td>9=11247</td>\n",
       "      <td>POINT (5.34333 13.81167)</td>\n",
       "    </tr>\n",
       "    <tr>\n",
       "      <th>10</th>\n",
       "      <td>4703</td>\n",
       "      <td>0</td>\n",
       "      <td>166.516129</td>\n",
       "      <td>3778.053763</td>\n",
       "      <td>13.752903</td>\n",
       "      <td>5.817545</td>\n",
       "      <td>5889</td>\n",
       "      <td>NaN</td>\n",
       "      <td>NaN</td>\n",
       "      <td>NaN</td>\n",
       "      <td>NaN</td>\n",
       "      <td>NaN</td>\n",
       "      <td>10=4703</td>\n",
       "      <td>POINT (5.34333 13.81167)</td>\n",
       "    </tr>\n",
       "    <tr>\n",
       "      <th>11</th>\n",
       "      <td>4172</td>\n",
       "      <td>0</td>\n",
       "      <td>220.969697</td>\n",
       "      <td>3832.555556</td>\n",
       "      <td>13.707525</td>\n",
       "      <td>5.862963</td>\n",
       "      <td>4907</td>\n",
       "      <td>NaN</td>\n",
       "      <td>NaN</td>\n",
       "      <td>NaN</td>\n",
       "      <td>NaN</td>\n",
       "      <td>NaN</td>\n",
       "      <td>11=4172</td>\n",
       "      <td>POINT (5.34333 13.81167)</td>\n",
       "    </tr>\n",
       "    <tr>\n",
       "      <th>12</th>\n",
       "      <td>8504</td>\n",
       "      <td>1</td>\n",
       "      <td>250.281879</td>\n",
       "      <td>3485.355705</td>\n",
       "      <td>13.683099</td>\n",
       "      <td>5.573630</td>\n",
       "      <td>6646</td>\n",
       "      <td>NaN</td>\n",
       "      <td>NaN</td>\n",
       "      <td>NaN</td>\n",
       "      <td>NaN</td>\n",
       "      <td>NaN</td>\n",
       "      <td>12=8504</td>\n",
       "      <td>POINT (5.34333 13.81167)</td>\n",
       "    </tr>\n",
       "    <tr>\n",
       "      <th>13</th>\n",
       "      <td>5560</td>\n",
       "      <td>0</td>\n",
       "      <td>244.443038</td>\n",
       "      <td>2927.924051</td>\n",
       "      <td>13.687964</td>\n",
       "      <td>5.109103</td>\n",
       "      <td>8196</td>\n",
       "      <td>NaN</td>\n",
       "      <td>NaN</td>\n",
       "      <td>NaN</td>\n",
       "      <td>NaN</td>\n",
       "      <td>NaN</td>\n",
       "      <td>13=5560</td>\n",
       "      <td>POINT (5.34333 13.81167)</td>\n",
       "    </tr>\n",
       "    <tr>\n",
       "      <th>14</th>\n",
       "      <td>4959</td>\n",
       "      <td>0</td>\n",
       "      <td>245.348837</td>\n",
       "      <td>3667.081395</td>\n",
       "      <td>13.687209</td>\n",
       "      <td>5.725068</td>\n",
       "      <td>6715</td>\n",
       "      <td>NaN</td>\n",
       "      <td>NaN</td>\n",
       "      <td>NaN</td>\n",
       "      <td>NaN</td>\n",
       "      <td>NaN</td>\n",
       "      <td>14=4959</td>\n",
       "      <td>POINT (5.34333 13.81167)</td>\n",
       "    </tr>\n",
       "    <tr>\n",
       "      <th>15</th>\n",
       "      <td>20473</td>\n",
       "      <td>3</td>\n",
       "      <td>260.686717</td>\n",
       "      <td>12803.929825</td>\n",
       "      <td>13.674428</td>\n",
       "      <td>13.339108</td>\n",
       "      <td>5975</td>\n",
       "      <td>NaN</td>\n",
       "      <td>NaN</td>\n",
       "      <td>NaN</td>\n",
       "      <td>NaN</td>\n",
       "      <td>NaN</td>\n",
       "      <td>15=20473</td>\n",
       "      <td>POINT (5.34333 13.81167)</td>\n",
       "    </tr>\n",
       "    <tr>\n",
       "      <th>16</th>\n",
       "      <td>4744</td>\n",
       "      <td>0</td>\n",
       "      <td>249.230769</td>\n",
       "      <td>3591.021978</td>\n",
       "      <td>13.683975</td>\n",
       "      <td>5.661685</td>\n",
       "      <td>6070</td>\n",
       "      <td>NaN</td>\n",
       "      <td>NaN</td>\n",
       "      <td>NaN</td>\n",
       "      <td>NaN</td>\n",
       "      <td>NaN</td>\n",
       "      <td>16=4744</td>\n",
       "      <td>POINT (5.34333 13.81167)</td>\n",
       "    </tr>\n",
       "    <tr>\n",
       "      <th>17</th>\n",
       "      <td>5783</td>\n",
       "      <td>1</td>\n",
       "      <td>248.658120</td>\n",
       "      <td>3629.623932</td>\n",
       "      <td>13.684452</td>\n",
       "      <td>5.693853</td>\n",
       "      <td>5756</td>\n",
       "      <td>NaN</td>\n",
       "      <td>NaN</td>\n",
       "      <td>NaN</td>\n",
       "      <td>NaN</td>\n",
       "      <td>NaN</td>\n",
       "      <td>17=5783</td>\n",
       "      <td>POINT (5.34333 13.81167)</td>\n",
       "    </tr>\n",
       "    <tr>\n",
       "      <th>18</th>\n",
       "      <td>5741</td>\n",
       "      <td>1</td>\n",
       "      <td>244.325000</td>\n",
       "      <td>3730.933333</td>\n",
       "      <td>13.688063</td>\n",
       "      <td>5.778278</td>\n",
       "      <td>5571</td>\n",
       "      <td>NaN</td>\n",
       "      <td>NaN</td>\n",
       "      <td>NaN</td>\n",
       "      <td>NaN</td>\n",
       "      <td>NaN</td>\n",
       "      <td>18=5741</td>\n",
       "      <td>POINT (5.34333 13.81167)</td>\n",
       "    </tr>\n",
       "    <tr>\n",
       "      <th>19</th>\n",
       "      <td>6694</td>\n",
       "      <td>0</td>\n",
       "      <td>269.084112</td>\n",
       "      <td>3979.214953</td>\n",
       "      <td>13.667430</td>\n",
       "      <td>5.985179</td>\n",
       "      <td>7285</td>\n",
       "      <td>NaN</td>\n",
       "      <td>NaN</td>\n",
       "      <td>NaN</td>\n",
       "      <td>NaN</td>\n",
       "      <td>NaN</td>\n",
       "      <td>19=6694</td>\n",
       "      <td>POINT (5.34333 13.81167)</td>\n",
       "    </tr>\n",
       "    <tr>\n",
       "      <th>20</th>\n",
       "      <td>4702</td>\n",
       "      <td>0</td>\n",
       "      <td>270.183908</td>\n",
       "      <td>2697.977011</td>\n",
       "      <td>13.666514</td>\n",
       "      <td>4.917481</td>\n",
       "      <td>6293</td>\n",
       "      <td>NaN</td>\n",
       "      <td>NaN</td>\n",
       "      <td>NaN</td>\n",
       "      <td>NaN</td>\n",
       "      <td>NaN</td>\n",
       "      <td>20=4702</td>\n",
       "      <td>POINT (5.34333 13.81167)</td>\n",
       "    </tr>\n",
       "    <tr>\n",
       "      <th>21</th>\n",
       "      <td>4582</td>\n",
       "      <td>0</td>\n",
       "      <td>275.362832</td>\n",
       "      <td>3774.814159</td>\n",
       "      <td>13.662198</td>\n",
       "      <td>5.814845</td>\n",
       "      <td>4722</td>\n",
       "      <td>NaN</td>\n",
       "      <td>NaN</td>\n",
       "      <td>NaN</td>\n",
       "      <td>NaN</td>\n",
       "      <td>NaN</td>\n",
       "      <td>21=4582</td>\n",
       "      <td>POINT (5.34333 13.81167)</td>\n",
       "    </tr>\n",
       "    <tr>\n",
       "      <th>22</th>\n",
       "      <td>4377</td>\n",
       "      <td>0</td>\n",
       "      <td>289.065421</td>\n",
       "      <td>3622.616822</td>\n",
       "      <td>13.650779</td>\n",
       "      <td>5.688014</td>\n",
       "      <td>4763</td>\n",
       "      <td>NaN</td>\n",
       "      <td>NaN</td>\n",
       "      <td>NaN</td>\n",
       "      <td>NaN</td>\n",
       "      <td>NaN</td>\n",
       "      <td>22=4377</td>\n",
       "      <td>POINT (5.34333 13.81167)</td>\n",
       "    </tr>\n",
       "    <tr>\n",
       "      <th>23</th>\n",
       "      <td>5399</td>\n",
       "      <td>0</td>\n",
       "      <td>294.218182</td>\n",
       "      <td>3678.000000</td>\n",
       "      <td>13.646485</td>\n",
       "      <td>5.734167</td>\n",
       "      <td>5715</td>\n",
       "      <td>NaN</td>\n",
       "      <td>NaN</td>\n",
       "      <td>NaN</td>\n",
       "      <td>NaN</td>\n",
       "      <td>NaN</td>\n",
       "      <td>23=5399</td>\n",
       "      <td>POINT (5.34333 13.81167)</td>\n",
       "    </tr>\n",
       "    <tr>\n",
       "      <th>24</th>\n",
       "      <td>5144</td>\n",
       "      <td>0</td>\n",
       "      <td>296.575342</td>\n",
       "      <td>4351.986301</td>\n",
       "      <td>13.644521</td>\n",
       "      <td>6.295822</td>\n",
       "      <td>8206</td>\n",
       "      <td>NaN</td>\n",
       "      <td>NaN</td>\n",
       "      <td>NaN</td>\n",
       "      <td>NaN</td>\n",
       "      <td>NaN</td>\n",
       "      <td>24=5144</td>\n",
       "      <td>POINT (5.34333 13.81167)</td>\n",
       "    </tr>\n",
       "    <tr>\n",
       "      <th>25</th>\n",
       "      <td>8127</td>\n",
       "      <td>1</td>\n",
       "      <td>300.072993</td>\n",
       "      <td>3874.306569</td>\n",
       "      <td>13.641606</td>\n",
       "      <td>5.897755</td>\n",
       "      <td>6908</td>\n",
       "      <td>NaN</td>\n",
       "      <td>NaN</td>\n",
       "      <td>NaN</td>\n",
       "      <td>NaN</td>\n",
       "      <td>NaN</td>\n",
       "      <td>25=8127</td>\n",
       "      <td>POINT (5.34333 13.81167)</td>\n",
       "    </tr>\n",
       "    <tr>\n",
       "      <th>26</th>\n",
       "      <td>5510</td>\n",
       "      <td>0</td>\n",
       "      <td>302.541284</td>\n",
       "      <td>4152.137615</td>\n",
       "      <td>13.639549</td>\n",
       "      <td>6.129281</td>\n",
       "      <td>5886</td>\n",
       "      <td>NaN</td>\n",
       "      <td>NaN</td>\n",
       "      <td>NaN</td>\n",
       "      <td>NaN</td>\n",
       "      <td>NaN</td>\n",
       "      <td>26=5510</td>\n",
       "      <td>POINT (5.34333 13.81167)</td>\n",
       "    </tr>\n",
       "    <tr>\n",
       "      <th>27</th>\n",
       "      <td>5199</td>\n",
       "      <td>0</td>\n",
       "      <td>318.981651</td>\n",
       "      <td>3236.899083</td>\n",
       "      <td>13.625849</td>\n",
       "      <td>5.366583</td>\n",
       "      <td>5554</td>\n",
       "      <td>NaN</td>\n",
       "      <td>NaN</td>\n",
       "      <td>NaN</td>\n",
       "      <td>NaN</td>\n",
       "      <td>NaN</td>\n",
       "      <td>27=5199</td>\n",
       "      <td>POINT (5.34333 13.81167)</td>\n",
       "    </tr>\n",
       "    <tr>\n",
       "      <th>28</th>\n",
       "      <td>4602</td>\n",
       "      <td>0</td>\n",
       "      <td>323.055556</td>\n",
       "      <td>2087.333333</td>\n",
       "      <td>13.622454</td>\n",
       "      <td>4.408611</td>\n",
       "      <td>4962</td>\n",
       "      <td>NaN</td>\n",
       "      <td>NaN</td>\n",
       "      <td>NaN</td>\n",
       "      <td>NaN</td>\n",
       "      <td>NaN</td>\n",
       "      <td>28=4602</td>\n",
       "      <td>POINT (5.34333 13.81167)</td>\n",
       "    </tr>\n",
       "    <tr>\n",
       "      <th>29</th>\n",
       "      <td>4882</td>\n",
       "      <td>0</td>\n",
       "      <td>323.048193</td>\n",
       "      <td>4113.204819</td>\n",
       "      <td>13.622460</td>\n",
       "      <td>6.096837</td>\n",
       "      <td>6849</td>\n",
       "      <td>NaN</td>\n",
       "      <td>NaN</td>\n",
       "      <td>NaN</td>\n",
       "      <td>NaN</td>\n",
       "      <td>NaN</td>\n",
       "      <td>29=4882</td>\n",
       "      <td>POINT (5.34333 13.81167)</td>\n",
       "    </tr>\n",
       "    <tr>\n",
       "      <th>...</th>\n",
       "      <td>...</td>\n",
       "      <td>...</td>\n",
       "      <td>...</td>\n",
       "      <td>...</td>\n",
       "      <td>...</td>\n",
       "      <td>...</td>\n",
       "      <td>...</td>\n",
       "      <td>...</td>\n",
       "      <td>...</td>\n",
       "      <td>...</td>\n",
       "      <td>...</td>\n",
       "      <td>...</td>\n",
       "      <td>...</td>\n",
       "      <td>...</td>\n",
       "    </tr>\n",
       "    <tr>\n",
       "      <th>2117</th>\n",
       "      <td>21578</td>\n",
       "      <td>6</td>\n",
       "      <td>10261.165951</td>\n",
       "      <td>6105.663805</td>\n",
       "      <td>5.340695</td>\n",
       "      <td>7.757220</td>\n",
       "      <td>3594</td>\n",
       "      <td>NaN</td>\n",
       "      <td>NaN</td>\n",
       "      <td>NaN</td>\n",
       "      <td>NaN</td>\n",
       "      <td>NaN</td>\n",
       "      <td>2117=21578</td>\n",
       "      <td>POINT (5.34333 13.81167)</td>\n",
       "    </tr>\n",
       "    <tr>\n",
       "      <th>2118</th>\n",
       "      <td>5402</td>\n",
       "      <td>1</td>\n",
       "      <td>10240.796954</td>\n",
       "      <td>5818.426396</td>\n",
       "      <td>5.357669</td>\n",
       "      <td>7.517855</td>\n",
       "      <td>3193</td>\n",
       "      <td>NaN</td>\n",
       "      <td>NaN</td>\n",
       "      <td>NaN</td>\n",
       "      <td>NaN</td>\n",
       "      <td>NaN</td>\n",
       "      <td>2118=5402</td>\n",
       "      <td>POINT (5.34333 13.81167)</td>\n",
       "    </tr>\n",
       "    <tr>\n",
       "      <th>2119</th>\n",
       "      <td>40790</td>\n",
       "      <td>19</td>\n",
       "      <td>10306.431945</td>\n",
       "      <td>5708.960069</td>\n",
       "      <td>5.302974</td>\n",
       "      <td>7.426633</td>\n",
       "      <td>2039</td>\n",
       "      <td>NaN</td>\n",
       "      <td>NaN</td>\n",
       "      <td>NaN</td>\n",
       "      <td>NaN</td>\n",
       "      <td>NaN</td>\n",
       "      <td>2119=40790</td>\n",
       "      <td>POINT (5.34333 13.81167)</td>\n",
       "    </tr>\n",
       "    <tr>\n",
       "      <th>2120</th>\n",
       "      <td>3045</td>\n",
       "      <td>0</td>\n",
       "      <td>10238.441176</td>\n",
       "      <td>5754.068627</td>\n",
       "      <td>5.359633</td>\n",
       "      <td>7.464224</td>\n",
       "      <td>3476</td>\n",
       "      <td>NaN</td>\n",
       "      <td>NaN</td>\n",
       "      <td>NaN</td>\n",
       "      <td>NaN</td>\n",
       "      <td>NaN</td>\n",
       "      <td>2120=3045</td>\n",
       "      <td>POINT (5.34333 13.81167)</td>\n",
       "    </tr>\n",
       "    <tr>\n",
       "      <th>2121</th>\n",
       "      <td>49653</td>\n",
       "      <td>15</td>\n",
       "      <td>10285.521127</td>\n",
       "      <td>6033.387866</td>\n",
       "      <td>5.320399</td>\n",
       "      <td>7.696990</td>\n",
       "      <td>3132</td>\n",
       "      <td>NaN</td>\n",
       "      <td>NaN</td>\n",
       "      <td>NaN</td>\n",
       "      <td>NaN</td>\n",
       "      <td>NaN</td>\n",
       "      <td>2121=49653</td>\n",
       "      <td>POINT (5.34333 13.81167)</td>\n",
       "    </tr>\n",
       "    <tr>\n",
       "      <th>2122</th>\n",
       "      <td>10301</td>\n",
       "      <td>3</td>\n",
       "      <td>10270.460490</td>\n",
       "      <td>5767.602180</td>\n",
       "      <td>5.332950</td>\n",
       "      <td>7.475502</td>\n",
       "      <td>3268</td>\n",
       "      <td>NaN</td>\n",
       "      <td>NaN</td>\n",
       "      <td>NaN</td>\n",
       "      <td>NaN</td>\n",
       "      <td>NaN</td>\n",
       "      <td>2122=10301</td>\n",
       "      <td>POINT (5.34333 13.81167)</td>\n",
       "    </tr>\n",
       "    <tr>\n",
       "      <th>2123</th>\n",
       "      <td>6291</td>\n",
       "      <td>2</td>\n",
       "      <td>10272.589080</td>\n",
       "      <td>5662.729885</td>\n",
       "      <td>5.331176</td>\n",
       "      <td>7.388108</td>\n",
       "      <td>2105</td>\n",
       "      <td>NaN</td>\n",
       "      <td>NaN</td>\n",
       "      <td>NaN</td>\n",
       "      <td>NaN</td>\n",
       "      <td>NaN</td>\n",
       "      <td>2123=6291</td>\n",
       "      <td>POINT (5.34333 13.81167)</td>\n",
       "    </tr>\n",
       "    <tr>\n",
       "      <th>2124</th>\n",
       "      <td>20965</td>\n",
       "      <td>6</td>\n",
       "      <td>10308.961089</td>\n",
       "      <td>5788.754864</td>\n",
       "      <td>5.300866</td>\n",
       "      <td>7.493129</td>\n",
       "      <td>3166</td>\n",
       "      <td>NaN</td>\n",
       "      <td>NaN</td>\n",
       "      <td>NaN</td>\n",
       "      <td>NaN</td>\n",
       "      <td>NaN</td>\n",
       "      <td>2124=20965</td>\n",
       "      <td>POINT (5.34333 13.81167)</td>\n",
       "    </tr>\n",
       "    <tr>\n",
       "      <th>2125</th>\n",
       "      <td>6388</td>\n",
       "      <td>2</td>\n",
       "      <td>10307.177686</td>\n",
       "      <td>6139.760331</td>\n",
       "      <td>5.302352</td>\n",
       "      <td>7.785634</td>\n",
       "      <td>3074</td>\n",
       "      <td>NaN</td>\n",
       "      <td>NaN</td>\n",
       "      <td>NaN</td>\n",
       "      <td>NaN</td>\n",
       "      <td>NaN</td>\n",
       "      <td>2125=6388</td>\n",
       "      <td>POINT (5.34333 13.81167)</td>\n",
       "    </tr>\n",
       "    <tr>\n",
       "      <th>2126</th>\n",
       "      <td>15653</td>\n",
       "      <td>4</td>\n",
       "      <td>10310.927126</td>\n",
       "      <td>5485.283401</td>\n",
       "      <td>5.299228</td>\n",
       "      <td>7.240236</td>\n",
       "      <td>3690</td>\n",
       "      <td>NaN</td>\n",
       "      <td>NaN</td>\n",
       "      <td>NaN</td>\n",
       "      <td>NaN</td>\n",
       "      <td>NaN</td>\n",
       "      <td>2126=15653</td>\n",
       "      <td>POINT (5.34333 13.81167)</td>\n",
       "    </tr>\n",
       "    <tr>\n",
       "      <th>2127</th>\n",
       "      <td>16829</td>\n",
       "      <td>10</td>\n",
       "      <td>10328.132736</td>\n",
       "      <td>5941.197883</td>\n",
       "      <td>5.284890</td>\n",
       "      <td>7.620165</td>\n",
       "      <td>1595</td>\n",
       "      <td>NaN</td>\n",
       "      <td>NaN</td>\n",
       "      <td>NaN</td>\n",
       "      <td>NaN</td>\n",
       "      <td>NaN</td>\n",
       "      <td>2127=16829</td>\n",
       "      <td>POINT (5.34333 13.81167)</td>\n",
       "    </tr>\n",
       "    <tr>\n",
       "      <th>2128</th>\n",
       "      <td>13422</td>\n",
       "      <td>4</td>\n",
       "      <td>10358.913732</td>\n",
       "      <td>5559.066901</td>\n",
       "      <td>5.259239</td>\n",
       "      <td>7.301722</td>\n",
       "      <td>2751</td>\n",
       "      <td>NaN</td>\n",
       "      <td>NaN</td>\n",
       "      <td>NaN</td>\n",
       "      <td>NaN</td>\n",
       "      <td>NaN</td>\n",
       "      <td>2128=13422</td>\n",
       "      <td>POINT (5.34333 13.81167)</td>\n",
       "    </tr>\n",
       "    <tr>\n",
       "      <th>2129</th>\n",
       "      <td>5550</td>\n",
       "      <td>1</td>\n",
       "      <td>10353.433962</td>\n",
       "      <td>5485.742138</td>\n",
       "      <td>5.263805</td>\n",
       "      <td>7.240618</td>\n",
       "      <td>4064</td>\n",
       "      <td>NaN</td>\n",
       "      <td>NaN</td>\n",
       "      <td>NaN</td>\n",
       "      <td>NaN</td>\n",
       "      <td>NaN</td>\n",
       "      <td>2129=5550</td>\n",
       "      <td>POINT (5.34333 13.81167)</td>\n",
       "    </tr>\n",
       "    <tr>\n",
       "      <th>2130</th>\n",
       "      <td>4245</td>\n",
       "      <td>1</td>\n",
       "      <td>10373.000000</td>\n",
       "      <td>5748.275281</td>\n",
       "      <td>5.247500</td>\n",
       "      <td>7.459396</td>\n",
       "      <td>2777</td>\n",
       "      <td>NaN</td>\n",
       "      <td>NaN</td>\n",
       "      <td>NaN</td>\n",
       "      <td>NaN</td>\n",
       "      <td>NaN</td>\n",
       "      <td>2130=4245</td>\n",
       "      <td>POINT (5.34333 13.81167)</td>\n",
       "    </tr>\n",
       "    <tr>\n",
       "      <th>2131</th>\n",
       "      <td>10978</td>\n",
       "      <td>3</td>\n",
       "      <td>10387.119114</td>\n",
       "      <td>5431.947368</td>\n",
       "      <td>5.235734</td>\n",
       "      <td>7.195789</td>\n",
       "      <td>3541</td>\n",
       "      <td>NaN</td>\n",
       "      <td>NaN</td>\n",
       "      <td>NaN</td>\n",
       "      <td>NaN</td>\n",
       "      <td>NaN</td>\n",
       "      <td>2131=10978</td>\n",
       "      <td>POINT (5.34333 13.81167)</td>\n",
       "    </tr>\n",
       "    <tr>\n",
       "      <th>2132</th>\n",
       "      <td>20513</td>\n",
       "      <td>3</td>\n",
       "      <td>10420.488889</td>\n",
       "      <td>5322.019753</td>\n",
       "      <td>5.207926</td>\n",
       "      <td>7.104183</td>\n",
       "      <td>5898</td>\n",
       "      <td>NaN</td>\n",
       "      <td>NaN</td>\n",
       "      <td>NaN</td>\n",
       "      <td>NaN</td>\n",
       "      <td>NaN</td>\n",
       "      <td>2132=20513</td>\n",
       "      <td>POINT (5.34333 13.81167)</td>\n",
       "    </tr>\n",
       "    <tr>\n",
       "      <th>2133</th>\n",
       "      <td>27079</td>\n",
       "      <td>4</td>\n",
       "      <td>10434.401923</td>\n",
       "      <td>5413.530769</td>\n",
       "      <td>5.196332</td>\n",
       "      <td>7.180442</td>\n",
       "      <td>6064</td>\n",
       "      <td>NaN</td>\n",
       "      <td>NaN</td>\n",
       "      <td>NaN</td>\n",
       "      <td>NaN</td>\n",
       "      <td>NaN</td>\n",
       "      <td>2133=27079</td>\n",
       "      <td>POINT (5.34333 13.81167)</td>\n",
       "    </tr>\n",
       "    <tr>\n",
       "      <th>2134</th>\n",
       "      <td>5967</td>\n",
       "      <td>1</td>\n",
       "      <td>10408.656627</td>\n",
       "      <td>5476.789157</td>\n",
       "      <td>5.217786</td>\n",
       "      <td>7.233158</td>\n",
       "      <td>4186</td>\n",
       "      <td>NaN</td>\n",
       "      <td>NaN</td>\n",
       "      <td>NaN</td>\n",
       "      <td>NaN</td>\n",
       "      <td>NaN</td>\n",
       "      <td>2134=5967</td>\n",
       "      <td>POINT (5.34333 13.81167)</td>\n",
       "    </tr>\n",
       "    <tr>\n",
       "      <th>2135</th>\n",
       "      <td>14340</td>\n",
       "      <td>3</td>\n",
       "      <td>10466.383260</td>\n",
       "      <td>6609.242291</td>\n",
       "      <td>5.169681</td>\n",
       "      <td>8.176869</td>\n",
       "      <td>3678</td>\n",
       "      <td>NaN</td>\n",
       "      <td>NaN</td>\n",
       "      <td>NaN</td>\n",
       "      <td>NaN</td>\n",
       "      <td>NaN</td>\n",
       "      <td>2135=14340</td>\n",
       "      <td>POINT (5.34333 13.81167)</td>\n",
       "    </tr>\n",
       "    <tr>\n",
       "      <th>2136</th>\n",
       "      <td>7124</td>\n",
       "      <td>4</td>\n",
       "      <td>10513.819149</td>\n",
       "      <td>5949.597518</td>\n",
       "      <td>5.130151</td>\n",
       "      <td>7.627165</td>\n",
       "      <td>1470</td>\n",
       "      <td>NaN</td>\n",
       "      <td>NaN</td>\n",
       "      <td>NaN</td>\n",
       "      <td>NaN</td>\n",
       "      <td>NaN</td>\n",
       "      <td>2136=7124</td>\n",
       "      <td>POINT (5.34333 13.81167)</td>\n",
       "    </tr>\n",
       "    <tr>\n",
       "      <th>2137</th>\n",
       "      <td>116672</td>\n",
       "      <td>61</td>\n",
       "      <td>10626.811415</td>\n",
       "      <td>6037.885155</td>\n",
       "      <td>5.035991</td>\n",
       "      <td>7.700738</td>\n",
       "      <td>1886</td>\n",
       "      <td>NaN</td>\n",
       "      <td>NaN</td>\n",
       "      <td>NaN</td>\n",
       "      <td>NaN</td>\n",
       "      <td>NaN</td>\n",
       "      <td>2137=116672</td>\n",
       "      <td>POINT (5.34333 13.81167)</td>\n",
       "    </tr>\n",
       "    <tr>\n",
       "      <th>2138</th>\n",
       "      <td>21554</td>\n",
       "      <td>14</td>\n",
       "      <td>10659.289595</td>\n",
       "      <td>5842.277457</td>\n",
       "      <td>5.008926</td>\n",
       "      <td>7.537731</td>\n",
       "      <td>1450</td>\n",
       "      <td>NaN</td>\n",
       "      <td>NaN</td>\n",
       "      <td>NaN</td>\n",
       "      <td>NaN</td>\n",
       "      <td>NaN</td>\n",
       "      <td>2138=21554</td>\n",
       "      <td>POINT (5.34333 13.81167)</td>\n",
       "    </tr>\n",
       "    <tr>\n",
       "      <th>2139</th>\n",
       "      <td>5877</td>\n",
       "      <td>4</td>\n",
       "      <td>10712.109434</td>\n",
       "      <td>5898.377358</td>\n",
       "      <td>4.964909</td>\n",
       "      <td>7.584481</td>\n",
       "      <td>1291</td>\n",
       "      <td>NaN</td>\n",
       "      <td>NaN</td>\n",
       "      <td>NaN</td>\n",
       "      <td>NaN</td>\n",
       "      <td>NaN</td>\n",
       "      <td>2139=5877</td>\n",
       "      <td>POINT (5.34333 13.81167)</td>\n",
       "    </tr>\n",
       "    <tr>\n",
       "      <th>2140</th>\n",
       "      <td>9046</td>\n",
       "      <td>4</td>\n",
       "      <td>10759.054206</td>\n",
       "      <td>5950.633645</td>\n",
       "      <td>4.925788</td>\n",
       "      <td>7.628028</td>\n",
       "      <td>1969</td>\n",
       "      <td>NaN</td>\n",
       "      <td>NaN</td>\n",
       "      <td>NaN</td>\n",
       "      <td>NaN</td>\n",
       "      <td>NaN</td>\n",
       "      <td>2140=9046</td>\n",
       "      <td>POINT (5.34333 13.81167)</td>\n",
       "    </tr>\n",
       "    <tr>\n",
       "      <th>2141</th>\n",
       "      <td>38203</td>\n",
       "      <td>21</td>\n",
       "      <td>10811.594551</td>\n",
       "      <td>5894.066907</td>\n",
       "      <td>4.882005</td>\n",
       "      <td>7.580889</td>\n",
       "      <td>1782</td>\n",
       "      <td>NaN</td>\n",
       "      <td>NaN</td>\n",
       "      <td>NaN</td>\n",
       "      <td>NaN</td>\n",
       "      <td>NaN</td>\n",
       "      <td>2141=38203</td>\n",
       "      <td>POINT (5.34333 13.81167)</td>\n",
       "    </tr>\n",
       "    <tr>\n",
       "      <th>2142</th>\n",
       "      <td>13261</td>\n",
       "      <td>6</td>\n",
       "      <td>10819.637549</td>\n",
       "      <td>5986.612777</td>\n",
       "      <td>4.875302</td>\n",
       "      <td>7.658011</td>\n",
       "      <td>2013</td>\n",
       "      <td>NaN</td>\n",
       "      <td>NaN</td>\n",
       "      <td>NaN</td>\n",
       "      <td>NaN</td>\n",
       "      <td>NaN</td>\n",
       "      <td>2142=13261</td>\n",
       "      <td>POINT (5.34333 13.81167)</td>\n",
       "    </tr>\n",
       "    <tr>\n",
       "      <th>2143</th>\n",
       "      <td>6120</td>\n",
       "      <td>2</td>\n",
       "      <td>10839.396429</td>\n",
       "      <td>6217.064286</td>\n",
       "      <td>4.858836</td>\n",
       "      <td>7.850054</td>\n",
       "      <td>2545</td>\n",
       "      <td>NaN</td>\n",
       "      <td>NaN</td>\n",
       "      <td>NaN</td>\n",
       "      <td>NaN</td>\n",
       "      <td>NaN</td>\n",
       "      <td>2143=6120</td>\n",
       "      <td>POINT (5.34333 13.81167)</td>\n",
       "    </tr>\n",
       "    <tr>\n",
       "      <th>2144</th>\n",
       "      <td>6394</td>\n",
       "      <td>3</td>\n",
       "      <td>10843.485714</td>\n",
       "      <td>5942.675325</td>\n",
       "      <td>4.855429</td>\n",
       "      <td>7.621396</td>\n",
       "      <td>1934</td>\n",
       "      <td>NaN</td>\n",
       "      <td>NaN</td>\n",
       "      <td>NaN</td>\n",
       "      <td>NaN</td>\n",
       "      <td>NaN</td>\n",
       "      <td>2144=6394</td>\n",
       "      <td>POINT (5.34333 13.81167)</td>\n",
       "    </tr>\n",
       "    <tr>\n",
       "      <th>2145</th>\n",
       "      <td>9831</td>\n",
       "      <td>6</td>\n",
       "      <td>10850.855756</td>\n",
       "      <td>6098.220527</td>\n",
       "      <td>4.849287</td>\n",
       "      <td>7.751017</td>\n",
       "      <td>1587</td>\n",
       "      <td>NaN</td>\n",
       "      <td>NaN</td>\n",
       "      <td>NaN</td>\n",
       "      <td>NaN</td>\n",
       "      <td>NaN</td>\n",
       "      <td>2145=9831</td>\n",
       "      <td>POINT (5.34333 13.81167)</td>\n",
       "    </tr>\n",
       "    <tr>\n",
       "      <th>2146</th>\n",
       "      <td>9084</td>\n",
       "      <td>4</td>\n",
       "      <td>10900.602972</td>\n",
       "      <td>5938.715499</td>\n",
       "      <td>4.807831</td>\n",
       "      <td>7.618096</td>\n",
       "      <td>2246</td>\n",
       "      <td>NaN</td>\n",
       "      <td>NaN</td>\n",
       "      <td>NaN</td>\n",
       "      <td>NaN</td>\n",
       "      <td>NaN</td>\n",
       "      <td>2146=9084</td>\n",
       "      <td>POINT (5.34333 13.81167)</td>\n",
       "    </tr>\n",
       "  </tbody>\n",
       "</table>\n",
       "<p>2147 rows × 14 columns</p>\n",
       "</div>"
      ],
      "text/plain": [
       "       population  area           row           col        lat        lon  \\\n",
       "label                                                                       \n",
       "0            4741     0     37.301075   3465.698925  13.860583   5.557249   \n",
       "1            4275     0     52.445783   3498.024096  13.847962   5.584187   \n",
       "2           10828     1    115.834951   3649.121359  13.795138   5.710101   \n",
       "3            8669     1    117.244444   3216.927778  13.793963   5.349940   \n",
       "4           12034     1    139.211340   3384.170103  13.775657   5.489308   \n",
       "5            5638     0    140.000000   3289.973684  13.775000   5.410811   \n",
       "6            5049     0    142.358491   3438.339623  13.773035   5.534450   \n",
       "7           13663     2    150.551471   3516.161765  13.766207   5.599301   \n",
       "8            8908     1    172.933735   3661.590361  13.747555   5.720492   \n",
       "9           11247     2    165.564784   3586.209302  13.753696   5.657674   \n",
       "10           4703     0    166.516129   3778.053763  13.752903   5.817545   \n",
       "11           4172     0    220.969697   3832.555556  13.707525   5.862963   \n",
       "12           8504     1    250.281879   3485.355705  13.683099   5.573630   \n",
       "13           5560     0    244.443038   2927.924051  13.687964   5.109103   \n",
       "14           4959     0    245.348837   3667.081395  13.687209   5.725068   \n",
       "15          20473     3    260.686717  12803.929825  13.674428  13.339108   \n",
       "16           4744     0    249.230769   3591.021978  13.683975   5.661685   \n",
       "17           5783     1    248.658120   3629.623932  13.684452   5.693853   \n",
       "18           5741     1    244.325000   3730.933333  13.688063   5.778278   \n",
       "19           6694     0    269.084112   3979.214953  13.667430   5.985179   \n",
       "20           4702     0    270.183908   2697.977011  13.666514   4.917481   \n",
       "21           4582     0    275.362832   3774.814159  13.662198   5.814845   \n",
       "22           4377     0    289.065421   3622.616822  13.650779   5.688014   \n",
       "23           5399     0    294.218182   3678.000000  13.646485   5.734167   \n",
       "24           5144     0    296.575342   4351.986301  13.644521   6.295822   \n",
       "25           8127     1    300.072993   3874.306569  13.641606   5.897755   \n",
       "26           5510     0    302.541284   4152.137615  13.639549   6.129281   \n",
       "27           5199     0    318.981651   3236.899083  13.625849   5.366583   \n",
       "28           4602     0    323.055556   2087.333333  13.622454   4.408611   \n",
       "29           4882     0    323.048193   4113.204819  13.622460   6.096837   \n",
       "...           ...   ...           ...           ...        ...        ...   \n",
       "2117        21578     6  10261.165951   6105.663805   5.340695   7.757220   \n",
       "2118         5402     1  10240.796954   5818.426396   5.357669   7.517855   \n",
       "2119        40790    19  10306.431945   5708.960069   5.302974   7.426633   \n",
       "2120         3045     0  10238.441176   5754.068627   5.359633   7.464224   \n",
       "2121        49653    15  10285.521127   6033.387866   5.320399   7.696990   \n",
       "2122        10301     3  10270.460490   5767.602180   5.332950   7.475502   \n",
       "2123         6291     2  10272.589080   5662.729885   5.331176   7.388108   \n",
       "2124        20965     6  10308.961089   5788.754864   5.300866   7.493129   \n",
       "2125         6388     2  10307.177686   6139.760331   5.302352   7.785634   \n",
       "2126        15653     4  10310.927126   5485.283401   5.299228   7.240236   \n",
       "2127        16829    10  10328.132736   5941.197883   5.284890   7.620165   \n",
       "2128        13422     4  10358.913732   5559.066901   5.259239   7.301722   \n",
       "2129         5550     1  10353.433962   5485.742138   5.263805   7.240618   \n",
       "2130         4245     1  10373.000000   5748.275281   5.247500   7.459396   \n",
       "2131        10978     3  10387.119114   5431.947368   5.235734   7.195789   \n",
       "2132        20513     3  10420.488889   5322.019753   5.207926   7.104183   \n",
       "2133        27079     4  10434.401923   5413.530769   5.196332   7.180442   \n",
       "2134         5967     1  10408.656627   5476.789157   5.217786   7.233158   \n",
       "2135        14340     3  10466.383260   6609.242291   5.169681   8.176869   \n",
       "2136         7124     4  10513.819149   5949.597518   5.130151   7.627165   \n",
       "2137       116672    61  10626.811415   6037.885155   5.035991   7.700738   \n",
       "2138        21554    14  10659.289595   5842.277457   5.008926   7.537731   \n",
       "2139         5877     4  10712.109434   5898.377358   4.964909   7.584481   \n",
       "2140         9046     4  10759.054206   5950.633645   4.925788   7.628028   \n",
       "2141        38203    21  10811.594551   5894.066907   4.882005   7.580889   \n",
       "2142        13261     6  10819.637549   5986.612777   4.875302   7.658011   \n",
       "2143         6120     2  10839.396429   6217.064286   4.858836   7.850054   \n",
       "2144         6394     3  10843.485714   5942.675325   4.855429   7.621396   \n",
       "2145         9831     6  10850.855756   6098.220527   4.849287   7.751017   \n",
       "2146         9084     4  10900.602972   5938.715499   4.807831   7.618096   \n",
       "\n",
       "       density                       address     address0 address1  address2  \\\n",
       "label                                                                          \n",
       "0         5936    Rafinduma, Sokoto, Nigeria    Rafinduma   Sokoto   Nigeria   \n",
       "1         5998  Gidan Tanko, Sokoto, Nigeria  Gidan Tanko   Sokoto   Nigeria   \n",
       "2         6121        Bigal, Sokoto, Nigeria        Bigal   Sokoto   Nigeria   \n",
       "3         5608   Mallamawa1, Sokoto, Nigeria   Mallamawa1   Sokoto   Nigeria   \n",
       "4         7223        Wauru, Sokoto, Nigeria        Wauru   Sokoto   Nigeria   \n",
       "5         5759     Hasamawa, Sokoto, Nigeria     Hasamawa   Sokoto   Nigeria   \n",
       "6         5546                           NaN          NaN      NaN       NaN   \n",
       "7         5849                           NaN          NaN      NaN       NaN   \n",
       "8         6249                           NaN          NaN      NaN       NaN   \n",
       "9         4351                           NaN          NaN      NaN       NaN   \n",
       "10        5889                           NaN          NaN      NaN       NaN   \n",
       "11        4907                           NaN          NaN      NaN       NaN   \n",
       "12        6646                           NaN          NaN      NaN       NaN   \n",
       "13        8196                           NaN          NaN      NaN       NaN   \n",
       "14        6715                           NaN          NaN      NaN       NaN   \n",
       "15        5975                           NaN          NaN      NaN       NaN   \n",
       "16        6070                           NaN          NaN      NaN       NaN   \n",
       "17        5756                           NaN          NaN      NaN       NaN   \n",
       "18        5571                           NaN          NaN      NaN       NaN   \n",
       "19        7285                           NaN          NaN      NaN       NaN   \n",
       "20        6293                           NaN          NaN      NaN       NaN   \n",
       "21        4722                           NaN          NaN      NaN       NaN   \n",
       "22        4763                           NaN          NaN      NaN       NaN   \n",
       "23        5715                           NaN          NaN      NaN       NaN   \n",
       "24        8206                           NaN          NaN      NaN       NaN   \n",
       "25        6908                           NaN          NaN      NaN       NaN   \n",
       "26        5886                           NaN          NaN      NaN       NaN   \n",
       "27        5554                           NaN          NaN      NaN       NaN   \n",
       "28        4962                           NaN          NaN      NaN       NaN   \n",
       "29        6849                           NaN          NaN      NaN       NaN   \n",
       "...        ...                           ...          ...      ...       ...   \n",
       "2117      3594                           NaN          NaN      NaN       NaN   \n",
       "2118      3193                           NaN          NaN      NaN       NaN   \n",
       "2119      2039                           NaN          NaN      NaN       NaN   \n",
       "2120      3476                           NaN          NaN      NaN       NaN   \n",
       "2121      3132                           NaN          NaN      NaN       NaN   \n",
       "2122      3268                           NaN          NaN      NaN       NaN   \n",
       "2123      2105                           NaN          NaN      NaN       NaN   \n",
       "2124      3166                           NaN          NaN      NaN       NaN   \n",
       "2125      3074                           NaN          NaN      NaN       NaN   \n",
       "2126      3690                           NaN          NaN      NaN       NaN   \n",
       "2127      1595                           NaN          NaN      NaN       NaN   \n",
       "2128      2751                           NaN          NaN      NaN       NaN   \n",
       "2129      4064                           NaN          NaN      NaN       NaN   \n",
       "2130      2777                           NaN          NaN      NaN       NaN   \n",
       "2131      3541                           NaN          NaN      NaN       NaN   \n",
       "2132      5898                           NaN          NaN      NaN       NaN   \n",
       "2133      6064                           NaN          NaN      NaN       NaN   \n",
       "2134      4186                           NaN          NaN      NaN       NaN   \n",
       "2135      3678                           NaN          NaN      NaN       NaN   \n",
       "2136      1470                           NaN          NaN      NaN       NaN   \n",
       "2137      1886                           NaN          NaN      NaN       NaN   \n",
       "2138      1450                           NaN          NaN      NaN       NaN   \n",
       "2139      1291                           NaN          NaN      NaN       NaN   \n",
       "2140      1969                           NaN          NaN      NaN       NaN   \n",
       "2141      1782                           NaN          NaN      NaN       NaN   \n",
       "2142      2013                           NaN          NaN      NaN       NaN   \n",
       "2143      2545                           NaN          NaN      NaN       NaN   \n",
       "2144      1934                           NaN          NaN      NaN       NaN   \n",
       "2145      1587                           NaN          NaN      NaN       NaN   \n",
       "2146      2246                           NaN          NaN      NaN       NaN   \n",
       "\n",
       "      geolocator    label_out                  geometry  \n",
       "label                                                    \n",
       "0         Photon       0=4741  POINT (5.34333 13.81167)  \n",
       "1         Photon       1=4275  POINT (5.34333 13.81167)  \n",
       "2         Photon      2=10828  POINT (5.34333 13.81167)  \n",
       "3         Photon       3=8669  POINT (5.34333 13.81167)  \n",
       "4         Photon      4=12034  POINT (5.34333 13.81167)  \n",
       "5         Photon       5=5638  POINT (5.34333 13.81167)  \n",
       "6            NaN       6=5049  POINT (5.34333 13.81167)  \n",
       "7            NaN      7=13663  POINT (5.34333 13.81167)  \n",
       "8            NaN       8=8908  POINT (5.34333 13.81167)  \n",
       "9            NaN      9=11247  POINT (5.34333 13.81167)  \n",
       "10           NaN      10=4703  POINT (5.34333 13.81167)  \n",
       "11           NaN      11=4172  POINT (5.34333 13.81167)  \n",
       "12           NaN      12=8504  POINT (5.34333 13.81167)  \n",
       "13           NaN      13=5560  POINT (5.34333 13.81167)  \n",
       "14           NaN      14=4959  POINT (5.34333 13.81167)  \n",
       "15           NaN     15=20473  POINT (5.34333 13.81167)  \n",
       "16           NaN      16=4744  POINT (5.34333 13.81167)  \n",
       "17           NaN      17=5783  POINT (5.34333 13.81167)  \n",
       "18           NaN      18=5741  POINT (5.34333 13.81167)  \n",
       "19           NaN      19=6694  POINT (5.34333 13.81167)  \n",
       "20           NaN      20=4702  POINT (5.34333 13.81167)  \n",
       "21           NaN      21=4582  POINT (5.34333 13.81167)  \n",
       "22           NaN      22=4377  POINT (5.34333 13.81167)  \n",
       "23           NaN      23=5399  POINT (5.34333 13.81167)  \n",
       "24           NaN      24=5144  POINT (5.34333 13.81167)  \n",
       "25           NaN      25=8127  POINT (5.34333 13.81167)  \n",
       "26           NaN      26=5510  POINT (5.34333 13.81167)  \n",
       "27           NaN      27=5199  POINT (5.34333 13.81167)  \n",
       "28           NaN      28=4602  POINT (5.34333 13.81167)  \n",
       "29           NaN      29=4882  POINT (5.34333 13.81167)  \n",
       "...          ...          ...                       ...  \n",
       "2117         NaN   2117=21578  POINT (5.34333 13.81167)  \n",
       "2118         NaN    2118=5402  POINT (5.34333 13.81167)  \n",
       "2119         NaN   2119=40790  POINT (5.34333 13.81167)  \n",
       "2120         NaN    2120=3045  POINT (5.34333 13.81167)  \n",
       "2121         NaN   2121=49653  POINT (5.34333 13.81167)  \n",
       "2122         NaN   2122=10301  POINT (5.34333 13.81167)  \n",
       "2123         NaN    2123=6291  POINT (5.34333 13.81167)  \n",
       "2124         NaN   2124=20965  POINT (5.34333 13.81167)  \n",
       "2125         NaN    2125=6388  POINT (5.34333 13.81167)  \n",
       "2126         NaN   2126=15653  POINT (5.34333 13.81167)  \n",
       "2127         NaN   2127=16829  POINT (5.34333 13.81167)  \n",
       "2128         NaN   2128=13422  POINT (5.34333 13.81167)  \n",
       "2129         NaN    2129=5550  POINT (5.34333 13.81167)  \n",
       "2130         NaN    2130=4245  POINT (5.34333 13.81167)  \n",
       "2131         NaN   2131=10978  POINT (5.34333 13.81167)  \n",
       "2132         NaN   2132=20513  POINT (5.34333 13.81167)  \n",
       "2133         NaN   2133=27079  POINT (5.34333 13.81167)  \n",
       "2134         NaN    2134=5967  POINT (5.34333 13.81167)  \n",
       "2135         NaN   2135=14340  POINT (5.34333 13.81167)  \n",
       "2136         NaN    2136=7124  POINT (5.34333 13.81167)  \n",
       "2137         NaN  2137=116672  POINT (5.34333 13.81167)  \n",
       "2138         NaN   2138=21554  POINT (5.34333 13.81167)  \n",
       "2139         NaN    2139=5877  POINT (5.34333 13.81167)  \n",
       "2140         NaN    2140=9046  POINT (5.34333 13.81167)  \n",
       "2141         NaN   2141=38203  POINT (5.34333 13.81167)  \n",
       "2142         NaN   2142=13261  POINT (5.34333 13.81167)  \n",
       "2143         NaN    2143=6120  POINT (5.34333 13.81167)  \n",
       "2144         NaN    2144=6394  POINT (5.34333 13.81167)  \n",
       "2145         NaN    2145=9831  POINT (5.34333 13.81167)  \n",
       "2146         NaN    2146=9084  POINT (5.34333 13.81167)  \n",
       "\n",
       "[2147 rows x 14 columns]"
      ]
     },
     "execution_count": 193,
     "metadata": {},
     "output_type": "execute_result"
    },
    {
     "name": "stdout",
     "output_type": "stream",
     "text": [
      "time: 43.1 ms\n"
     ]
    }
   ],
   "source": [
    "## add envelopes to dfc\n",
    "#unlit = unlit[unlit.label>=0]\n",
    "#geom = unlit.groupby(\"label\").apply(lambda x: gpd.GeoSeries(gpd.points_from_xy(x.lon,x.lat).envelope)).values\n",
    "gdf = gpd.GeoDataFrame(dfc)\n",
    "#gdf[\"geometry\"] = geom\n",
    "gdf"
   ]
  },
  {
   "cell_type": "code",
   "execution_count": 15,
   "metadata": {},
   "outputs": [
    {
     "name": "stderr",
     "output_type": "stream",
     "text": [
      "[cellevents:INFO]:starting (cellevents.py:43, time=Dec-07 20:33)\n"
     ]
    },
    {
     "name": "stdout",
     "output_type": "stream",
     "text": [
      "time: 12.9 s\n"
     ]
    }
   ],
   "source": [
    "# add points\n",
    "gdf = gpd.GeoDataFrame(df, geometry=gpd.points_from_xy(df.lon, df.lat))"
   ]
  },
  {
   "cell_type": "code",
   "execution_count": 38,
   "metadata": {},
   "outputs": [
    {
     "name": "stderr",
     "output_type": "stream",
     "text": [
      "[cellevents:INFO]:starting (cellevents.py:43, time=Dec-07 20:46)\n"
     ]
    },
    {
     "data": {
      "text/html": [
       "<div>\n",
       "<style scoped>\n",
       "    .dataframe tbody tr th:only-of-type {\n",
       "        vertical-align: middle;\n",
       "    }\n",
       "\n",
       "    .dataframe tbody tr th {\n",
       "        vertical-align: top;\n",
       "    }\n",
       "\n",
       "    .dataframe thead th {\n",
       "        text-align: right;\n",
       "    }\n",
       "</style>\n",
       "<table border=\"1\" class=\"dataframe\">\n",
       "  <thead>\n",
       "    <tr style=\"text-align: right;\">\n",
       "      <th></th>\n",
       "      <th>population</th>\n",
       "      <th>lights</th>\n",
       "      <th>row</th>\n",
       "      <th>col</th>\n",
       "      <th>lon</th>\n",
       "      <th>lat</th>\n",
       "      <th>labels</th>\n",
       "      <th>geometry</th>\n",
       "    </tr>\n",
       "  </thead>\n",
       "  <tbody>\n",
       "    <tr>\n",
       "      <th>6096</th>\n",
       "      <td>45</td>\n",
       "      <td>0.0</td>\n",
       "      <td>4</td>\n",
       "      <td>332</td>\n",
       "      <td>5.441666</td>\n",
       "      <td>13.850000</td>\n",
       "      <td>3</td>\n",
       "      <td>POINT (5.44167 13.85000)</td>\n",
       "    </tr>\n",
       "    <tr>\n",
       "      <th>6097</th>\n",
       "      <td>852</td>\n",
       "      <td>0.0</td>\n",
       "      <td>4</td>\n",
       "      <td>333</td>\n",
       "      <td>5.449999</td>\n",
       "      <td>13.850000</td>\n",
       "      <td>3</td>\n",
       "      <td>POINT (5.45000 13.85000)</td>\n",
       "    </tr>\n",
       "    <tr>\n",
       "      <th>7538</th>\n",
       "      <td>580</td>\n",
       "      <td>0.0</td>\n",
       "      <td>5</td>\n",
       "      <td>333</td>\n",
       "      <td>5.449999</td>\n",
       "      <td>13.841667</td>\n",
       "      <td>3</td>\n",
       "      <td>POINT (5.45000 13.84167)</td>\n",
       "    </tr>\n",
       "    <tr>\n",
       "      <th>7539</th>\n",
       "      <td>799</td>\n",
       "      <td>0.0</td>\n",
       "      <td>5</td>\n",
       "      <td>334</td>\n",
       "      <td>5.458333</td>\n",
       "      <td>13.841667</td>\n",
       "      <td>3</td>\n",
       "      <td>POINT (5.45833 13.84167)</td>\n",
       "    </tr>\n",
       "    <tr>\n",
       "      <th>8978</th>\n",
       "      <td>987</td>\n",
       "      <td>0.0</td>\n",
       "      <td>6</td>\n",
       "      <td>332</td>\n",
       "      <td>5.441666</td>\n",
       "      <td>13.833334</td>\n",
       "      <td>3</td>\n",
       "      <td>POINT (5.44167 13.83333)</td>\n",
       "    </tr>\n",
       "    <tr>\n",
       "      <th>8979</th>\n",
       "      <td>1059</td>\n",
       "      <td>0.0</td>\n",
       "      <td>6</td>\n",
       "      <td>333</td>\n",
       "      <td>5.449999</td>\n",
       "      <td>13.833334</td>\n",
       "      <td>3</td>\n",
       "      <td>POINT (5.45000 13.83333)</td>\n",
       "    </tr>\n",
       "    <tr>\n",
       "      <th>8980</th>\n",
       "      <td>428</td>\n",
       "      <td>0.0</td>\n",
       "      <td>6</td>\n",
       "      <td>334</td>\n",
       "      <td>5.458333</td>\n",
       "      <td>13.833334</td>\n",
       "      <td>3</td>\n",
       "      <td>POINT (5.45833 13.83333)</td>\n",
       "    </tr>\n",
       "    <tr>\n",
       "      <th>10419</th>\n",
       "      <td>1202</td>\n",
       "      <td>0.0</td>\n",
       "      <td>7</td>\n",
       "      <td>332</td>\n",
       "      <td>5.441666</td>\n",
       "      <td>13.825000</td>\n",
       "      <td>3</td>\n",
       "      <td>POINT (5.44167 13.82500)</td>\n",
       "    </tr>\n",
       "    <tr>\n",
       "      <th>10420</th>\n",
       "      <td>709</td>\n",
       "      <td>0.0</td>\n",
       "      <td>7</td>\n",
       "      <td>333</td>\n",
       "      <td>5.449999</td>\n",
       "      <td>13.825000</td>\n",
       "      <td>3</td>\n",
       "      <td>POINT (5.45000 13.82500)</td>\n",
       "    </tr>\n",
       "    <tr>\n",
       "      <th>10421</th>\n",
       "      <td>758</td>\n",
       "      <td>0.0</td>\n",
       "      <td>7</td>\n",
       "      <td>334</td>\n",
       "      <td>5.458333</td>\n",
       "      <td>13.825000</td>\n",
       "      <td>3</td>\n",
       "      <td>POINT (5.45833 13.82500)</td>\n",
       "    </tr>\n",
       "    <tr>\n",
       "      <th>11860</th>\n",
       "      <td>55</td>\n",
       "      <td>0.0</td>\n",
       "      <td>8</td>\n",
       "      <td>332</td>\n",
       "      <td>5.441666</td>\n",
       "      <td>13.816667</td>\n",
       "      <td>3</td>\n",
       "      <td>POINT (5.44167 13.81667)</td>\n",
       "    </tr>\n",
       "  </tbody>\n",
       "</table>\n",
       "</div>"
      ],
      "text/plain": [
       "       population  lights  row  col       lon        lat  labels  \\\n",
       "6096           45     0.0    4  332  5.441666  13.850000       3   \n",
       "6097          852     0.0    4  333  5.449999  13.850000       3   \n",
       "7538          580     0.0    5  333  5.449999  13.841667       3   \n",
       "7539          799     0.0    5  334  5.458333  13.841667       3   \n",
       "8978          987     0.0    6  332  5.441666  13.833334       3   \n",
       "8979         1059     0.0    6  333  5.449999  13.833334       3   \n",
       "8980          428     0.0    6  334  5.458333  13.833334       3   \n",
       "10419        1202     0.0    7  332  5.441666  13.825000       3   \n",
       "10420         709     0.0    7  333  5.449999  13.825000       3   \n",
       "10421         758     0.0    7  334  5.458333  13.825000       3   \n",
       "11860          55     0.0    8  332  5.441666  13.816667       3   \n",
       "\n",
       "                       geometry  \n",
       "6096   POINT (5.44167 13.85000)  \n",
       "6097   POINT (5.45000 13.85000)  \n",
       "7538   POINT (5.45000 13.84167)  \n",
       "7539   POINT (5.45833 13.84167)  \n",
       "8978   POINT (5.44167 13.83333)  \n",
       "8979   POINT (5.45000 13.83333)  \n",
       "8980   POINT (5.45833 13.83333)  \n",
       "10419  POINT (5.44167 13.82500)  \n",
       "10420  POINT (5.45000 13.82500)  \n",
       "10421  POINT (5.45833 13.82500)  \n",
       "11860  POINT (5.44167 13.81667)  "
      ]
     },
     "execution_count": 38,
     "metadata": {},
     "output_type": "execute_result"
    },
    {
     "name": "stdout",
     "output_type": "stream",
     "text": [
      "time: 16 ms\n"
     ]
    }
   ],
   "source": [
    "# get outer border. \n",
    "gdf[gdf.label==3]"
   ]
  },
  {
   "cell_type": "code",
   "execution_count": 50,
   "metadata": {},
   "outputs": [
    {
     "name": "stderr",
     "output_type": "stream",
     "text": [
      "[cellevents:INFO]:starting (cellevents.py:43, time=Dec-07 21:00)\n",
      "[shapely.geos:INFO]:Self-intersection at or near point 0.80000000000000004 0.40000000000000002 (geos.py:219, time=Dec-07 21:00)\n"
     ]
    },
    {
     "data": {
      "image/svg+xml": [
       "<svg xmlns=\"http://www.w3.org/2000/svg\" xmlns:xlink=\"http://www.w3.org/1999/xlink\" width=\"100.0\" height=\"100.0\" viewBox=\"-0.08 -0.08 2.16 2.16\" preserveAspectRatio=\"xMinYMin meet\"><g transform=\"matrix(1,0,0,-1,0,2.0)\"><path fill-rule=\"evenodd\" fill=\"#ff3333\" stroke=\"#555555\" stroke-width=\"0.0432\" opacity=\"0.6\" d=\"M 0.0,0.0 L 0.0,1.0 L 0.0,2.0 L 1.0,0.0 L 1.0,1.0 L 1.0,2.0 L 2.0,0.0 L 2.0,1.0 L 0.0,0.0 z\" /></g></svg>"
      ],
      "text/plain": [
       "<shapely.geometry.polygon.Polygon at 0x1f30ad353c8>"
      ]
     },
     "execution_count": 50,
     "metadata": {},
     "output_type": "execute_result"
    },
    {
     "name": "stdout",
     "output_type": "stream",
     "text": [
      "time: 14 ms\n"
     ]
    }
   ],
   "source": [
    "#points = [Point(r.row, r.col) for i, r in gdf[gdf.label==3].iterrows()]\n",
    "points = [Point(row, col) for row,col in [(0,0), (0,1), (0,2), (1,0), (1,1), (1,2), (2,0), (2,1)]]\n",
    "coords = sum(map(list, (p.coords for p in points)), [])\n",
    "poly = Polygon(coords)\n",
    "poly."
   ]
  },
  {
   "cell_type": "code",
   "execution_count": null,
   "metadata": {},
   "outputs": [],
   "source": []
  }
 ],
 "metadata": {
  "jupytext": {
   "text_representation": {
    "extension": ".py",
    "format_name": "percent",
    "format_version": "1.2",
    "jupytext_version": "1.2.1"
   }
  },
  "kernelspec": {
   "display_name": "Python 3",
   "language": "python",
   "name": "python3"
  },
  "language_info": {
   "codemirror_mode": {
    "name": "ipython",
    "version": 3
   },
   "file_extension": ".py",
   "mimetype": "text/x-python",
   "name": "python",
   "nbconvert_exporter": "python",
   "pygments_lexer": "ipython3",
   "version": "3.7.3"
  }
 },
 "nbformat": 4,
 "nbformat_minor": 2
}
